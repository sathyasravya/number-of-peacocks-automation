{
  "nbformat": 4,
  "nbformat_minor": 0,
  "metadata": {
    "colab": {
      "name": "copy_btp_post_1.ipynb",
      "provenance": [],
      "collapsed_sections": [],
      "toc_visible": true,
      "include_colab_link": true
    },
    "kernelspec": {
      "display_name": "Python 3",
      "language": "python",
      "name": "python3"
    },
    "language_info": {
      "codemirror_mode": {
        "name": "ipython",
        "version": 3
      },
      "file_extension": ".py",
      "mimetype": "text/x-python",
      "name": "python",
      "nbconvert_exporter": "python",
      "pygments_lexer": "ipython3",
      "version": "3.5.2"
    }
  },
  "cells": [
    {
      "cell_type": "markdown",
      "metadata": {
        "id": "view-in-github",
        "colab_type": "text"
      },
      "source": [
        "<a href=\"https://colab.research.google.com/github/sathyasravya/number-of-peacocks-automation/blob/master/copy_btp_post_1.ipynb\" target=\"_parent\"><img src=\"https://colab.research.google.com/assets/colab-badge.svg\" alt=\"Open In Colab\"/></a>"
      ]
    },
    {
      "cell_type": "code",
      "metadata": {
        "colab_type": "code",
        "id": "g9_aGJP3tvF4",
        "trusted": true,
        "colab": {}
      },
      "source": [
        "import glob\n",
        "import os\n",
        "import librosa\n",
        "import numpy as np\n",
        "import seaborn as sns\n",
        "import wave\n",
        "import contextlib\n",
        "import pandas as pd\n",
        "\n",
        "from sklearn.metrics import accuracy_score,classification_report,f1_score\n",
        "import matplotlib.pyplot as plt\n",
        "from matplotlib.pyplot import specgram\n",
        "%matplotlib inline\n",
        "plt.style.use('ggplot')\n",
        "\n",
        "plt.rcParams['font.family'] = 'serif'\n",
        "plt.rcParams['font.serif'] = 'Ubuntu'\n",
        "plt.rcParams['font.monospace'] = 'Ubuntu Mono'\n",
        "plt.rcParams['font.size'] = 12\n",
        "plt.rcParams['axes.labelsize'] = 11\n",
        "plt.rcParams['axes.labelweight'] = 'bold'\n",
        "plt.rcParams['axes.titlesize'] = 14\n",
        "plt.rcParams['xtick.labelsize'] = 10\n",
        "plt.rcParams['ytick.labelsize'] = 10\n",
        "plt.rcParams['legend.fontsize'] = 11\n",
        "plt.rcParams['figure.titlesize'] = 13"
      ],
      "execution_count": 0,
      "outputs": []
    },
    {
      "cell_type": "code",
      "metadata": {
        "id": "l4bRI1pyaDS8",
        "colab_type": "code",
        "colab": {
          "base_uri": "https://localhost:8080/",
          "height": 122
        },
        "outputId": "70a489e4-3da9-4c1a-e493-052a2522c639"
      },
      "source": [
        "from google.colab import drive\n",
        "drive.mount('/content/drive')"
      ],
      "execution_count": 2,
      "outputs": [
        {
          "output_type": "stream",
          "text": [
            "Go to this URL in a browser: https://accounts.google.com/o/oauth2/auth?client_id=947318989803-6bn6qk8qdgf4n4g3pfee6491hc0brc4i.apps.googleusercontent.com&redirect_uri=urn%3Aietf%3Awg%3Aoauth%3A2.0%3Aoob&scope=email%20https%3A%2F%2Fwww.googleapis.com%2Fauth%2Fdocs.test%20https%3A%2F%2Fwww.googleapis.com%2Fauth%2Fdrive%20https%3A%2F%2Fwww.googleapis.com%2Fauth%2Fdrive.photos.readonly%20https%3A%2F%2Fwww.googleapis.com%2Fauth%2Fpeopleapi.readonly&response_type=code\n",
            "\n",
            "Enter your authorization code:\n",
            "··········\n",
            "Mounted at /content/drive\n"
          ],
          "name": "stdout"
        }
      ]
    },
    {
      "cell_type": "code",
      "metadata": {
        "trusted": true,
        "id": "4whjGG3mZyzq",
        "colab_type": "code",
        "outputId": "3542266f-f207-477a-facc-0107fa28f2c9",
        "colab": {
          "base_uri": "https://localhost:8080/",
          "height": 34
        }
      },
      "source": [
        "s = \"02 Eow_peacock_2.WAV\"\n",
        "s.split(\"_\")\n",
        "#print(fn.split('_')[-1]=='2.WAV')"
      ],
      "execution_count": 3,
      "outputs": [
        {
          "output_type": "execute_result",
          "data": {
            "text/plain": [
              "['02 Eow', 'peacock', '2.WAV']"
            ]
          },
          "metadata": {
            "tags": []
          },
          "execution_count": 3
        }
      ]
    },
    {
      "cell_type": "markdown",
      "metadata": {
        "colab_type": "text",
        "id": "ovHpIKfEtvGG"
      },
      "source": [
        "# Features plots - Code"
      ]
    },
    {
      "cell_type": "code",
      "metadata": {
        "colab_type": "code",
        "id": "CGCfJPgjtvGM",
        "trusted": true,
        "colab": {}
      },
      "source": [
        "def load_sound_files(file_paths):\n",
        "    raw_sounds = []\n",
        "    for fp in file_paths:\n",
        "        X,sr = librosa.load(fp)\n",
        "        raw_sounds.append(X)\n",
        "    return raw_sounds\n",
        "\n",
        "def plot_waves(sound_names,raw_sounds):\n",
        "    i = 1\n",
        "    fig = plt.figure(figsize=(25,60), dpi = 900)\n",
        "    for n,f in zip(sound_names,raw_sounds):\n",
        "        plt.subplot(10,1,i)\n",
        "        librosa.display.waveplot(np.array(f),sr=22050)\n",
        "        plt.title(n.title())\n",
        "        i += 1\n",
        "    plt.suptitle('Figure 1: Waveplot',x=0.5, y=0.915,fontsize=18)\n",
        "    plt.show()\n",
        "    \n",
        "def plot_specgram(sound_names,raw_sounds):\n",
        "    i = 1\n",
        "    fig = plt.figure(figsize=(25,60), dpi = 900)\n",
        "    for n,f in zip(sound_names,raw_sounds):\n",
        "        plt.subplot(10,1,i)\n",
        "        specgram(np.array(f), Fs=22050)\n",
        "        plt.title(n.title())\n",
        "        i += 1\n",
        "    plt.suptitle('Figure 2: Spectrogram',x=0.5, y=0.915,fontsize=18)\n",
        "    plt.show()\n",
        "\n",
        "def plot_log_power_specgram(sound_names,raw_sounds):\n",
        "    i = 1\n",
        "    fig = plt.figure(figsize=(25,60), dpi = 900)\n",
        "    for n,f in zip(sound_names,raw_sounds):\n",
        "        plt.subplot(10,1,i)\n",
        "        D = librosa.logamplitude(np.abs(librosa.stft(f))**2, ref_power=np.max)\n",
        "        librosa.display.specshow(D,x_axis='time' ,y_axis='log')\n",
        "        plt.title(n.title())\n",
        "        i += 1\n",
        "    plt.suptitle('Figure 3: Log power spectrogram',x=0.5, y=0.915,fontsize=18)\n",
        "    plt.show()"
      ],
      "execution_count": 0,
      "outputs": []
    },
    {
      "cell_type": "markdown",
      "metadata": {
        "colab_type": "text",
        "id": "ndXOjzE0tvGT"
      },
      "source": [
        "# Extracting features"
      ]
    },
    {
      "cell_type": "code",
      "metadata": {
        "colab_type": "code",
        "id": "CRakr1AetvGW",
        "trusted": true,
        "colab": {}
      },
      "source": [
        "def extract_feature(file_name):\n",
        "    X, sample_rate = librosa.load(file_name)\n",
        "    stft = np.abs(librosa.stft(X))\n",
        "    mfccs = np.mean(librosa.feature.mfcc(y=X, sr=sample_rate, n_mfcc=40).T,axis=0)\n",
        "    chroma = np.mean(librosa.feature.chroma_stft(S=stft, sr=sample_rate).T,axis=0)\n",
        "    mel = np.mean(librosa.feature.melspectrogram(X, sr=sample_rate).T,axis=0)\n",
        "    contrast = np.mean(librosa.feature.spectral_contrast(S=stft, sr=sample_rate).T,axis=0)\n",
        "    tonnetz = np.mean(librosa.feature.tonnetz(y=librosa.effects.harmonic(X), sr=sample_rate).T,axis=0)\n",
        "    #print(chroma.shape)\n",
        "    #print(\"chroma\")\n",
        "    #print(mfccs.shape)\n",
        "    #print(\"mfccs\")\n",
        "    #print(mel.shape)\n",
        "    #print(\"mels\")\n",
        "    #print(contrast.shape)\n",
        "    #print(\"contrast\")\n",
        "    #print(tonnetz.shape)\n",
        "    #print(\"tonnetz\")    \n",
        "    return mfccs,chroma,mel,contrast,tonnetz\n",
        "\n",
        "def parse_audio_files(parent_dir,sub_dirs,file_ext='*.wav'):\n",
        "    d=0\n",
        "    duration1 = []\n",
        "    duration2 = []\n",
        "    for label, sub_dir in enumerate(sub_dirs):\n",
        "        for fn in glob.glob(os.path.join(parent_dir,sub_dir,file_ext)):\n",
        "            with contextlib.closing(wave.open(fn,'r')) as f:\n",
        "                frames = f.getnframes()\n",
        "                rate = f.getframerate()\n",
        "                duration = frames / float(rate)\n",
        "                #print(pd.Series(fn.split('_')).unique())\n",
        "                #print(d,duration)\n",
        "                d=d+1\n",
        "                #print(\" \")\n",
        "                #dn=0\n",
        "                if(sub_dir!='noise_set'):\n",
        "                    #if(duration<0):\n",
        "                    #    dn =dn+1\n",
        "                    duration1.append(duration)  \n",
        "                else:\n",
        "                    duration2.append(duration)\n",
        "            \n",
        "    return duration1,duration2"
      ],
      "execution_count": 0,
      "outputs": []
    },
    {
      "cell_type": "code",
      "metadata": {
        "trusted": true,
        "id": "Qtu4lVc0Zyz4",
        "colab_type": "code",
        "colab": {}
      },
      "source": [
        "def parse_audio_files2(parent_dir,sub_dirs):\n",
        "    features = np.empty((0,193))\n",
        "    finlabel = np.empty((0,3))\n",
        "    labells=[]\n",
        "    labells1=np.empty(0) \n",
        "    labells2=np.empty(0) \n",
        "    d=0\n",
        "    fns = []\n",
        "    labels=[]\n",
        "    label1s=[]\n",
        "    label2s=[]\n",
        "    for label, sub_dir in enumerate(sub_dirs):\n",
        "        print(sub_dir)\n",
        "        if(sub_dir =='iid' or sub_dir=='Kaan' or sub_dir =='extra_mp3'):\n",
        "          file_ext='*.WAV'\n",
        "        else:\n",
        "          file_ext='*.wav'        \n",
        "       # print(glob.glob(os.path.join(parent_dir,sub_dir,file_ext)))\n",
        "        for fn in glob.glob(os.path.join(parent_dir,sub_dir,file_ext)):\n",
        "            #print(\"heyyy0\")\n",
        "            mfccs, chroma, mel, contrast,tonnetz = extract_feature(fn)\n",
        "            ext_features = np.hstack([mfccs,chroma,mel,contrast,tonnetz])\n",
        "          #  print(\"ext_features\")\n",
        "          #  print(ext_features.shape)\n",
        "            features = np.vstack([features,ext_features])\n",
        "          #  print(\"features\")\n",
        "          #  print(features.shape)\n",
        "           # if(sub_dir != 'extra_mp3'):\n",
        "            if(sub_dir!='noise_set'):\n",
        "              #print(\"heyyy2\")\n",
        "              label =\"1\"\n",
        "              d = d+1\n",
        "              if (len(fn.split('_'))>=6):\n",
        "                label1 = \"1\"\n",
        "              else:\n",
        "                label1=\"0\"\n",
        "                label=\"1\"\n",
        "             #   print(\"heyyy3\")\n",
        "              if(sub_dir=='TRIM_old' or sub_dir=='extra_mp3'):\n",
        "                #print(\"heyyy1\")\n",
        "                if(fn.split('_')[-1]=='2.wav'or fn.split('_')[-1]=='2.WAV'):\n",
        "                  label2=\"2\"\n",
        "                if(fn.split('_')[-1]=='3.wav'or fn.split('_')[-1]=='3.WAV'):\n",
        "                  label2=\"3\"   \n",
        "                if(fn.split('_')[-1]=='1.wav'or fn.split('_')[-1]=='1.WAV'):\n",
        "                  label2=\"1\"\n",
        "                if(fn.split('_')[-1]=='MI.wav'or fn.split('_')[-1]=='MI.WAV'):\n",
        "                  label2=\"4\"\n",
        "                if(fn.split('_')[3]=='Multiplepeacock'):\n",
        "                  label2 = \"4\"\n",
        "                else:\n",
        "                  label2 =\"1\"\n",
        "              else:\n",
        "                if(fn.split('_')[-1]=='1.wav' or fn.split('_')[-1]=='1.WAV'):\n",
        "                  label2=\"1\"\n",
        "                elif(fn.split('_')[-1]=='2.wav' or fn.split('_')[-1]=='2.WAV'):\n",
        "                  label2 =\"2\" \n",
        "                elif(fn.split('_')[-1]=='3.wav' or fn.split('_')[-1]=='3.WAV'):\n",
        "                  label2 =\"3\"\n",
        "                elif(fn.split('_')[-1]=='MI.wav' or fn.split('_')[-1]=='3or4.wav' or fn.split('_')[-1]=='3or4.WAV' or fn.split('_')[-1]=='MI.WAV'):\n",
        "                  label2 =\"4\"                        \n",
        "                else:\n",
        "                  label2 =\"0\"\n",
        "                            \n",
        "            else:\n",
        "              label =\"0\"\n",
        "              label1=\"1\"\n",
        "              label2 =\"0\"\n",
        "           # print(\"heyyy\")\n",
        "            #print(label,label1,label2)\n",
        "            fns.append(fn.split('_')[1:])\n",
        "            use = np.hstack([label,label1,label2])\n",
        "            finlabel = np.vstack([finlabel,use])\n",
        "            labels.append(label)\n",
        "            label1s.append(label1)\n",
        "            label2s.append(label2)\n",
        "    return(fns, np.array(features), np.array(finlabel),np.array(labels), np.array(label1s), np.array(label2s))"
      ],
      "execution_count": 0,
      "outputs": []
    },
    {
      "cell_type": "markdown",
      "metadata": {
        "id": "3ewBs9DWZyz7",
        "colab_type": "text"
      },
      "source": [
        "> #  Feed Train & Test Data "
      ]
    },
    {
      "cell_type": "code",
      "metadata": {
        "colab_type": "code",
        "id": "yi23reLvtvGh",
        "trusted": true,
        "_kg_hide-output": true,
        "colab": {}
      },
      "source": [
        "parent_dir = '/content/drive/My Drive/Colab Notebooks/data' #/content/drive/My Drive/Colab Notebooks/data\n",
        "sub_dirs = ['iid','Kaan','C_new2','TRIM_old','A_new1','trimmed_new3','noise_set','Chincholi'] #train dirs\n",
        "sub_dirs2 = ['extra_mp3']\n",
        "duration1,duration2= parse_audio_files(parent_dir,sub_dirs)"
      ],
      "execution_count": 0,
      "outputs": []
    },
    {
      "cell_type": "code",
      "metadata": {
        "id": "D86MaGIrpZeQ",
        "colab_type": "code",
        "colab": {}
      },
      "source": [
        "#duration1"
      ],
      "execution_count": 0,
      "outputs": []
    },
    {
      "cell_type": "code",
      "metadata": {
        "trusted": true,
        "id": "3lfrksU5Zy0A",
        "colab_type": "code",
        "colab": {}
      },
      "source": [
        "dafr = pd.DataFrame()\n",
        "dafr[\"peacock_audio_durations\"] = pd.Series(duration1)\n",
        "dafr[\"noise_durations\"] = pd.Series(duration2)\n",
        "dafr.to_pickle('/content/drive/My Drive/Colab Notebooks/filedurations.pkl')"
      ],
      "execution_count": 0,
      "outputs": []
    },
    {
      "cell_type": "markdown",
      "metadata": {
        "id": "uy4n_DIzZy0D",
        "colab_type": "text"
      },
      "source": [
        "# Data Distribution"
      ]
    },
    {
      "cell_type": "code",
      "metadata": {
        "trusted": true,
        "id": "u-oT5HlxZy0E",
        "colab_type": "code",
        "outputId": "1d64f959-e54b-4ccb-9d54-d38c295352d9",
        "colab": {
          "base_uri": "https://localhost:8080/",
          "height": 275
        }
      },
      "source": [
        "sns.set(style=\"whitegrid\")\n",
        "ax = sns.violinplot(data=dafr)"
      ],
      "execution_count": 13,
      "outputs": [
        {
          "output_type": "display_data",
          "data": {
            "image/png": "[encoded data removed]",
            "text/plain": [
              "<Figure size 432x288 with 1 Axes>"
            ]
          },
          "metadata": {
            "tags": []
          }
        }
      ]
    },
    {
      "cell_type": "code",
      "metadata": {
        "trusted": true,
        "id": "ax6qc3R5Zy0I",
        "colab_type": "code",
        "outputId": "07585757-dd7f-4a30-f5f2-be831dd6d69b",
        "colab": {
          "base_uri": "https://localhost:8080/",
          "height": 309
        }
      },
      "source": [
        "fn,features,final_labels,label,label1,label2 = parse_audio_files2(parent_dir,sub_dirs)"
      ],
      "execution_count": 76,
      "outputs": [
        {
          "output_type": "stream",
          "text": [
            "iid\n",
            "Kaan\n",
            "C_new2\n",
            "TRIM_old\n",
            "A_new1\n",
            "trimmed_new3\n",
            "noise_set\n"
          ],
          "name": "stdout"
        },
        {
          "output_type": "stream",
          "text": [
            "/usr/local/lib/python3.6/dist-packages/librosa/core/pitch.py:145: UserWarning: Trying to estimate tuning from empty frequency set.\n",
            "  warnings.warn('Trying to estimate tuning from empty frequency set.')\n",
            "/usr/local/lib/python3.6/dist-packages/librosa/core/pitch.py:145: UserWarning: Trying to estimate tuning from empty frequency set.\n",
            "  warnings.warn('Trying to estimate tuning from empty frequency set.')\n",
            "/usr/local/lib/python3.6/dist-packages/librosa/core/pitch.py:145: UserWarning: Trying to estimate tuning from empty frequency set.\n",
            "  warnings.warn('Trying to estimate tuning from empty frequency set.')\n",
            "/usr/local/lib/python3.6/dist-packages/librosa/core/pitch.py:145: UserWarning: Trying to estimate tuning from empty frequency set.\n",
            "  warnings.warn('Trying to estimate tuning from empty frequency set.')\n"
          ],
          "name": "stderr"
        },
        {
          "output_type": "stream",
          "text": [
            "Chincholi\n"
          ],
          "name": "stdout"
        }
      ]
    },
    {
      "cell_type": "markdown",
      "metadata": {
        "id": "oP0R7I0whr7O",
        "colab_type": "text"
      },
      "source": [
        "Save and Load- Pickle files "
      ]
    },
    {
      "cell_type": "code",
      "metadata": {
        "id": "INT3qzhU5b0N",
        "colab_type": "code",
        "colab": {}
      },
      "source": [
        "import pickle\n",
        "def feed_data_to_pkl(fn,db):\n",
        "  filename = '/content/drive/My Drive/Colab Notebooks/'+fn+'.pkl'\n",
        "  outfile = open(filename,'wb')\n",
        "  pickle.dump(db,outfile)\n",
        "  outfile.close()\n",
        "  return\n",
        "def load_data_frm_pkl(fn):\n",
        "  filename = '/content/drive/My Drive/Colab Notebooks/'+fn+'.pkl'\n",
        "  infile = open(filename,'rb')\n",
        "  new_dict = pickle.load(infile)\n",
        "  infile.close()\n",
        "  return new_dict"
      ],
      "execution_count": 0,
      "outputs": []
    },
    {
      "cell_type": "code",
      "metadata": {
        "id": "bczQIcUzldJY",
        "colab_type": "code",
        "colab": {}
      },
      "source": [
        "db1 = {}\n",
        "db2 ={}\n",
        "db1 = {'filename': fn, 'features': features, 'fin_labels':final_labels, 'label':label,\n",
        "       'label1':label1,'label2':label2 } \n",
        "filename = 'good_data'\n",
        "feed_data_to_pkl(filename,db1)\n",
        "#outfile = open(filename,'wb')\n",
        "#pickle.dump(db1,outfile)\n",
        "#outfile.close()"
      ],
      "execution_count": 0,
      "outputs": []
    },
    {
      "cell_type": "code",
      "metadata": {
        "id": "b0q1i1Rzqj8p",
        "colab_type": "code",
        "colab": {}
      },
      "source": [
        "new_dict = load_data_frm_pkl('good_data')"
      ],
      "execution_count": 0,
      "outputs": []
    },
    {
      "cell_type": "code",
      "metadata": {
        "id": "ffSq0xoXskKK",
        "colab_type": "code",
        "colab": {}
      },
      "source": [
        "fn = new_dict['filename']\n",
        "features = new_dict['features']\n",
        "final_labels =new_dict['fin_labels'] \n",
        "label = new_dict['label'] \n",
        "label1 = new_dict['label1']\n",
        "label2 = new_dict['label2']"
      ],
      "execution_count": 0,
      "outputs": []
    },
    {
      "cell_type": "code",
      "metadata": {
        "id": "hE8SZsI4u18g",
        "colab_type": "code",
        "colab": {}
      },
      "source": [
        "#pd.Series(features).shape"
      ],
      "execution_count": 0,
      "outputs": []
    },
    {
      "cell_type": "code",
      "metadata": {
        "id": "ti3ohgNpsNuG",
        "colab_type": "code",
        "colab": {}
      },
      "source": [
        "def to_df(fn,label,label1,label2):\n",
        "  d = pd.DataFrame()\n",
        "#pd.DataFrame(list(new_dict.items()),columns=['filename', 'features','fin_labels','label','label1','label2'])\n",
        "  d['filename'] = pd.Series(fn)\n",
        "  #d['features'] =pd.Series(features)\n",
        "  #d['fin_labels'] = final_labels\n",
        "  d['label'] = label\n",
        "  d['label1'] = label1\n",
        "  d['label2'] = label2\n",
        "  return d\n",
        "d = to_df(fn,label,label1,label2)"
      ],
      "execution_count": 0,
      "outputs": []
    },
    {
      "cell_type": "code",
      "metadata": {
        "id": "ENGMWKiNvL4Z",
        "colab_type": "code",
        "colab": {}
      },
      "source": [
        "d.to_csv('/content/drive/My Drive/Colab Notebooks/data1.csv')"
      ],
      "execution_count": 0,
      "outputs": []
    },
    {
      "cell_type": "code",
      "metadata": {
        "id": "e6dPP-_3q3cX",
        "colab_type": "code",
        "colab": {
          "base_uri": "https://localhost:8080/",
          "height": 34
        },
        "outputId": "514ebd8c-cbe4-4209-e898-05d0c45d53dd"
      },
      "source": [
        "label2.shape"
      ],
      "execution_count": 84,
      "outputs": [
        {
          "output_type": "execute_result",
          "data": {
            "text/plain": [
              "(1272,)"
            ]
          },
          "metadata": {
            "tags": []
          },
          "execution_count": 84
        }
      ]
    },
    {
      "cell_type": "code",
      "metadata": {
        "id": "fm5kN3E-zgHI",
        "colab_type": "code",
        "colab": {
          "base_uri": "https://localhost:8080/",
          "height": 34
        },
        "outputId": "c65c274a-d912-4a03-a7da-fe0606940313"
      },
      "source": [
        "fn_new,features_new,fl_new,label_new,label1_new,label2_new = parse_audio_files2(parent_dir,sub_dirs2)"
      ],
      "execution_count": 50,
      "outputs": [
        {
          "output_type": "stream",
          "text": [
            "extra_mp3\n"
          ],
          "name": "stdout"
        }
      ]
    },
    {
      "cell_type": "code",
      "metadata": {
        "trusted": true,
        "id": "oQuhLt3lZy0L",
        "colab_type": "code",
        "outputId": "b67b4a2b-05db-4ee3-aa22-5e5cc5b344f4",
        "colab": {
          "base_uri": "https://localhost:8080/",
          "height": 51
        }
      },
      "source": [
        "print(fl_new.shape)\n",
        "final_labels.shape"
      ],
      "execution_count": 51,
      "outputs": [
        {
          "output_type": "stream",
          "text": [
            "(30, 3)\n"
          ],
          "name": "stdout"
        },
        {
          "output_type": "execute_result",
          "data": {
            "text/plain": [
              "(1272, 3)"
            ]
          },
          "metadata": {
            "tags": []
          },
          "execution_count": 51
        }
      ]
    },
    {
      "cell_type": "code",
      "metadata": {
        "id": "3ImH8dKNrgdE",
        "colab_type": "code",
        "colab": {}
      },
      "source": [
        "##filename = 'train_feat_labels'\n",
        "db2={}\n",
        "db2 = {'filename': fn_new, 'features': features_new, 'fin_labels':fl_new, 'label':label_new,\n",
        "      'label1':label1_new,'label2':label2_new }\n",
        "file2 = 'good_data2'\n",
        "feed_data_to_pkl(file2,db2)"
      ],
      "execution_count": 0,
      "outputs": []
    },
    {
      "cell_type": "code",
      "metadata": {
        "id": "shIwlifrw5lQ",
        "colab_type": "code",
        "colab": {
          "base_uri": "https://localhost:8080/",
          "height": 34
        },
        "outputId": "6ca3151a-fac1-4345-93b3-c7f794446e26"
      },
      "source": [
        "pd.Series(db2['filename']).shape"
      ],
      "execution_count": 56,
      "outputs": [
        {
          "output_type": "execute_result",
          "data": {
            "text/plain": [
              "(30,)"
            ]
          },
          "metadata": {
            "tags": []
          },
          "execution_count": 56
        }
      ]
    },
    {
      "cell_type": "code",
      "metadata": {
        "id": "RXzxenesvfLC",
        "colab_type": "code",
        "colab": {}
      },
      "source": [
        "d2 = to_df(fn_new,label_new,label1_new,label2_new)\n",
        "d2.to_csv('/content/drive/My Drive/Colab Notebooks/data2.csv')"
      ],
      "execution_count": 0,
      "outputs": []
    },
    {
      "cell_type": "code",
      "metadata": {
        "id": "g4O4wo1_wBAE",
        "colab_type": "code",
        "colab": {}
      },
      "source": [
        "new_dict2 = load_data_frm_pkl('good_data2')\n",
        "fn_new = new_dict2['filename']\n",
        "features_new = new_dict2['features']\n",
        "fl_new =new_dict2['fin_labels'] \n",
        "label_new = new_dict2['label'] \n",
        "label1_new = new_dict2['label1']\n",
        "label2_new = new_dict2['label2']"
      ],
      "execution_count": 0,
      "outputs": []
    },
    {
      "cell_type": "code",
      "metadata": {
        "id": "ijvhrheewXoi",
        "colab_type": "code",
        "colab": {
          "base_uri": "https://localhost:8080/",
          "height": 34
        },
        "outputId": "889d6c0f-e610-409f-e31f-769fc3464064"
      },
      "source": [
        "fl_new.shape"
      ],
      "execution_count": 85,
      "outputs": [
        {
          "output_type": "execute_result",
          "data": {
            "text/plain": [
              "(30, 3)"
            ]
          },
          "metadata": {
            "tags": []
          },
          "execution_count": 85
        }
      ]
    },
    {
      "cell_type": "code",
      "metadata": {
        "id": "1mRAA6iNr6VB",
        "colab_type": "code",
        "colab": {}
      },
      "source": [
        "#filename = '/content/drive/My Drive/Colab Notebooks/tr_fea_labels.pkl'\n",
        "#infile = open(filename,'rb')\n",
        "#new_dict = pickle.load(infile)\n",
        "#infile.close()"
      ],
      "execution_count": 0,
      "outputs": []
    },
    {
      "cell_type": "code",
      "metadata": {
        "id": "fGL27HFbt-LT",
        "colab_type": "code",
        "colab": {
          "base_uri": "https://localhost:8080/",
          "height": 34
        },
        "outputId": "1daa1d41-e75b-42f6-e8fe-ada07c68b26f"
      },
      "source": [
        "features.shape"
      ],
      "execution_count": 86,
      "outputs": [
        {
          "output_type": "execute_result",
          "data": {
            "text/plain": [
              "(1272, 193)"
            ]
          },
          "metadata": {
            "tags": []
          },
          "execution_count": 86
        }
      ]
    },
    {
      "cell_type": "code",
      "metadata": {
        "id": "DwAEsHLWlgxV",
        "colab_type": "code",
        "colab": {}
      },
      "source": [
        ""
      ],
      "execution_count": 0,
      "outputs": []
    },
    {
      "cell_type": "code",
      "metadata": {
        "id": "MUhyEoQXk51p",
        "colab_type": "code",
        "colab": {}
      },
      "source": [
        "#outfile = open(file2,'wb')\n",
        "#pickle.dump(db2,outfile)\n",
        "#outfile.close()"
      ],
      "execution_count": 0,
      "outputs": []
    },
    {
      "cell_type": "code",
      "metadata": {
        "trusted": true,
        "id": "5Mt6VbZPZy0O",
        "colab_type": "code",
        "colab": {}
      },
      "source": [
        "from sklearn.preprocessing import MultiLabelBinarizer,LabelBinarizer\n",
        "from numpy import argmax\n",
        "from keras.utils import to_categorical\n",
        "from keras import initializers\n",
        "\n",
        "one_hot1 = LabelBinarizer()\n",
        "# One-hot encode data\n",
        "label_ = one_hot1.fit_transform(label)\n",
        "label_1 = one_hot1.fit_transform(label1)\n",
        "#print(one_hot1.classes_)print(label_)print(label_1)\n",
        "one_hot2 = MultiLabelBinarizer()\n",
        "# One-hot encode data\n",
        "#label_2 = one_hot2.fit_transform(label2)\n",
        "label__2 = to_categorical(label2)\n",
        "#print(label__2)\n",
        "#one_hot2.classes_"
      ],
      "execution_count": 0,
      "outputs": []
    },
    {
      "cell_type": "code",
      "metadata": {
        "trusted": true,
        "id": "etZQcctOZy0S",
        "colab_type": "code",
        "outputId": "cf7a3641-8f6e-41d4-9b4b-a2b8791dc450",
        "colab": {
          "base_uri": "https://localhost:8080/",
          "height": 68
        }
      },
      "source": [
        "print(label__2.shape)\n",
        "print(label_1.shape)\n",
        "print(label_.shape)\n",
        "#print(label_2.shape)"
      ],
      "execution_count": 88,
      "outputs": [
        {
          "output_type": "stream",
          "text": [
            "(1272, 5)\n",
            "(1272, 1)\n",
            "(1272, 1)\n"
          ],
          "name": "stdout"
        }
      ]
    },
    {
      "cell_type": "code",
      "metadata": {
        "trusted": true,
        "id": "5XNccvKWZy0a",
        "colab_type": "code",
        "outputId": "11c5ab35-7c49-4786-e172-3fdc94a39644",
        "colab": {
          "base_uri": "https://localhost:8080/",
          "height": 779
        }
      },
      "source": [
        "def show_bar_dist_data(d1):\n",
        "  d1['label'].value_counts().plot(kind='bar')\n",
        "            #,'disturbance','single_peacock']].plot(kind='bar')\n",
        "#plt.xticks(np.arange(0, 51, 5)) \n",
        "  plt.yticks(np.arange(0, 1200, 50)) \n",
        "  plt.show()\n",
        "  d1['label1'].value_counts().plot(kind='bar')\n",
        "  plt.yticks(np.arange(0, 1200, 50)) \n",
        "  plt.show()\n",
        "  d1['label2'].value_counts().plot(kind='bar')\n",
        "  plt.yticks(np.arange(0, 1200, 25)) \n",
        "  plt.show()\n",
        "show_bar_dist_data(d)"
      ],
      "execution_count": 89,
      "outputs": [
        {
          "output_type": "display_data",
          "data": {
            "image/png": "[encoded data removed]",
            "text/plain": [
              "<Figure size 432x288 with 1 Axes>"
            ]
          },
          "metadata": {
            "tags": []
          }
        },
        {
          "output_type": "display_data",
          "data": {
            "image/png": "[encoded data removed]",
            "text/plain": [
              "<Figure size 432x288 with 1 Axes>"
            ]
          },
          "metadata": {
            "tags": []
          }
        },
        {
          "output_type": "display_data",
          "data": {
            "image/png": "[encoded data removed]",
            "text/plain": [
              "<Figure size 432x288 with 1 Axes>"
            ]
          },
          "metadata": {
            "tags": []
          }
        }
      ]
    },
    {
      "cell_type": "code",
      "metadata": {
        "id": "nAh2pLCmyu5N",
        "colab_type": "code",
        "colab": {
          "base_uri": "https://localhost:8080/",
          "height": 779
        },
        "outputId": "3ced634b-3c0a-4c00-8862-28043b11c0a2"
      },
      "source": [
        "show_bar_dist_data(d2)"
      ],
      "execution_count": 64,
      "outputs": [
        {
          "output_type": "display_data",
          "data": {
            "image/png": "[encoded data removed]",
            "text/plain": [
              "<Figure size 432x288 with 1 Axes>"
            ]
          },
          "metadata": {
            "tags": []
          }
        },
        {
          "output_type": "display_data",
          "data": {
            "image/png": "[encoded data removed]",
            "text/plain": [
              "<Figure size 432x288 with 1 Axes>"
            ]
          },
          "metadata": {
            "tags": []
          }
        },
        {
          "output_type": "display_data",
          "data": {
            "image/png": "[encoded data removed]",
            "text/plain": [
              "<Figure size 432x288 with 1 Axes>"
            ]
          },
          "metadata": {
            "tags": []
          }
        }
      ]
    },
    {
      "cell_type": "code",
      "metadata": {
        "trusted": true,
        "id": "_WU4ITASZy0d",
        "colab_type": "code",
        "outputId": "32ae8813-404c-41fb-c337-4993d3f03b62",
        "colab": {
          "base_uri": "https://localhost:8080/",
          "height": 68
        }
      },
      "source": [
        "pd.Series(pd.Series(label).value_counts())"
      ],
      "execution_count": 138,
      "outputs": [
        {
          "output_type": "execute_result",
          "data": {
            "text/plain": [
              "0    1143\n",
              "1     129\n",
              "dtype: int64"
            ]
          },
          "metadata": {
            "tags": []
          },
          "execution_count": 138
        }
      ]
    },
    {
      "cell_type": "code",
      "metadata": {
        "trusted": true,
        "id": "riVZ7-VCZy0g",
        "colab_type": "code",
        "outputId": "a9393150-73f0-426e-fba7-c43251f6efda",
        "colab": {
          "base_uri": "https://localhost:8080/",
          "height": 68
        }
      },
      "source": [
        "pd.Series(pd.Series(label1).value_counts())"
      ],
      "execution_count": 139,
      "outputs": [
        {
          "output_type": "execute_result",
          "data": {
            "text/plain": [
              "1    1174\n",
              "0      98\n",
              "dtype: int64"
            ]
          },
          "metadata": {
            "tags": []
          },
          "execution_count": 139
        }
      ]
    },
    {
      "cell_type": "code",
      "metadata": {
        "id": "6ryOH1IHSPP6",
        "colab_type": "code",
        "colab": {}
      },
      "source": [
        "def return_median(gg):\n",
        "  g=(np.array(gg))\n",
        "  g.sort()\n",
        "  n = len(g)\n",
        "  print(n)  \n",
        "  if(n%2==0):\n",
        "    x= (g[int(n/2)]+g[int((n/2) -1)])/2\n",
        "  else:\n",
        "    x= g[int((n-1)/2)] \n",
        "  return int(x)"
      ],
      "execution_count": 0,
      "outputs": []
    },
    {
      "cell_type": "code",
      "metadata": {
        "id": "T4AcJ_yXSjXQ",
        "colab_type": "code",
        "colab": {
          "base_uri": "https://localhost:8080/",
          "height": 51
        },
        "outputId": "20da9080-c090-4eb7-d7d8-bd1a2ec02b67"
      },
      "source": [
        "print(return_median([1,2,3,4]))"
      ],
      "execution_count": 174,
      "outputs": [
        {
          "output_type": "stream",
          "text": [
            "4\n",
            "2\n"
          ],
          "name": "stdout"
        }
      ]
    },
    {
      "cell_type": "code",
      "metadata": {
        "trusted": true,
        "id": "l6qMNHkEZy0k",
        "colab_type": "code",
        "colab": {}
      },
      "source": [
        "gg=(pd.Series(pd.Series(label2).value_counts()))"
      ],
      "execution_count": 0,
      "outputs": []
    },
    {
      "cell_type": "markdown",
      "metadata": {
        "colab_type": "text",
        "id": "Aj-3YAWttvGr"
      },
      "source": [
        "# MLP keras "
      ]
    },
    {
      "cell_type": "code",
      "metadata": {
        "colab_type": "code",
        "id": "Kgb0pURqtvGt",
        "trusted": true,
        "colab": {}
      },
      "source": [
        "import keras \n",
        "from keras.models import Sequential\n",
        "from keras.layers import Dense, Activation,Flatten, Dropout\n",
        "from keras.layers.normalization import BatchNormalization\n",
        "\n",
        "from sklearn.preprocessing import StandardScaler\n",
        "from sklearn.model_selection import train_test_split\n",
        "from keras.layers import Conv2D, MaxPooling2D\n",
        "#from keras import regularizers, optimizer\n",
        "import pandas as pd\n",
        "import random\n",
        "import tensorflow as tf\n",
        "from sklearn.metrics import confusion_matrix,precision_score,recall_score,f1_score,multilabel_confusion_matrix\n",
        "from keras.wrappers.scikit_learn import KerasClassifier\n",
        "from keras.utils import np_utils\n",
        "from keras.layers import Input\n",
        "from keras.models import Model\n",
        "from keras.optimizers import Adam\n",
        "from sklearn.model_selection import cross_val_score\n",
        "from sklearn.model_selection import KFold\n",
        "from keras import backend as K\n",
        "random.seed(42)\n",
        "np.random.seed(42)\n",
        "tf.set_random_seed(42)\n",
        "\n",
        "#my_init = initializers.glorot_uniform(seed=42)\n",
        "#session_conf = tf.ConfigProto(intra_op_parallelism_threads=1,\n",
        "#                              inter_op_parallelism_threads=1)\n",
        "#sess = tf.Session(graph=tf.get_default_graph(), config=session_conf)\n",
        "#K.set_session(sess)"
      ],
      "execution_count": 0,
      "outputs": []
    },
    {
      "cell_type": "code",
      "metadata": {
        "id": "BJj2uvm3PxYt",
        "colab_type": "code",
        "colab": {}
      },
      "source": [
        ""
      ],
      "execution_count": 0,
      "outputs": []
    },
    {
      "cell_type": "code",
      "metadata": {
        "trusted": true,
        "id": "KUWHsjfmZy1A",
        "colab_type": "code",
        "colab": {}
      },
      "source": [
        "def f1(y_true, y_pred):\n",
        "    y_pred = K.round(y_pred)\n",
        "    tp = K.sum(K.cast(y_true*y_pred, 'float'), axis=0)\n",
        "    tn = K.sum(K.cast((1-y_true)*(1-y_pred), 'float'), axis=0)\n",
        "    fp = K.sum(K.cast((1-y_true)*y_pred, 'float'), axis=0)\n",
        "    fn = K.sum(K.cast(y_true*(1-y_pred), 'float'), axis=0)\n",
        "\n",
        "    p = tp / (tp + fp + K.epsilon())\n",
        "    r = tp / (tp + fn + K.epsilon())\n",
        "\n",
        "    f1 = 2*p*r / (p+r+K.epsilon())\n",
        "    f1 = tf.where(tf.is_nan(f1), tf.zeros_like(f1), f1)\n",
        "    return K.mean(f1)\n",
        "\n",
        "def f1_loss(y_true, y_pred):\n",
        "    \n",
        "    tp = K.sum(K.cast(y_true*y_pred, 'float'), axis=0)\n",
        "    tn = K.sum(K.cast((1-y_true)*(1-y_pred), 'float'), axis=0)\n",
        "    fp = K.sum(K.cast((1-y_true)*y_pred, 'float'), axis=0)\n",
        "    fn = K.sum(K.cast(y_true*(1-y_pred), 'float'), axis=0)\n",
        "\n",
        "    p = tp / (tp + fp + K.epsilon())\n",
        "    r = tp / (tp + fn + K.epsilon())\n",
        "\n",
        "    f1 = 2*p*r / (p+r+K.epsilon())\n",
        "    f1 = tf.where(tf.is_nan(f1), tf.zeros_like(f1), f1)\n",
        "    return 1 - K.mean(f1)"
      ],
      "execution_count": 0,
      "outputs": []
    },
    {
      "cell_type": "code",
      "metadata": {
        "trusted": true,
        "id": "Uv2grtcVZy0-",
        "colab_type": "code",
        "colab": {}
      },
      "source": [
        "def recall_m(y_true, y_pred):\n",
        "        true_positives = K.sum(K.round(K.clip(y_true * y_pred, 0, 1)))\n",
        "        possible_positives = K.sum(K.round(K.clip(y_true, 0, 1)))\n",
        "        recall = true_positives / (possible_positives + K.epsilon())\n",
        "        return recall\n",
        "\n",
        "def precision_m(y_true, y_pred):\n",
        "        true_positives = K.sum(K.round(K.clip(y_true * y_pred, 0, 1)))\n",
        "        predicted_positives = K.sum(K.round(K.clip(y_pred, 0, 1)))\n",
        "        precision = true_positives / (predicted_positives + K.epsilon())\n",
        "        return precision\n",
        "\n",
        "def f1_m(y_true, y_pred):\n",
        "    precision = precision_m(y_true, y_pred)\n",
        "    recall = recall_m(y_true, y_pred)\n",
        "    return 2*((precision*recall)/(precision+recall+K.epsilon()))"
      ],
      "execution_count": 0,
      "outputs": []
    },
    {
      "cell_type": "code",
      "metadata": {
        "id": "adfAzJz-uSwA",
        "colab_type": "code",
        "colab": {}
      },
      "source": [
        "import time\n",
        "from functools import wraps\n",
        "def timeit(f):\n",
        "    @wraps(f)\n",
        "    def wrapper(*args, **kwds):\n",
        "        start_time = time.time()\n",
        "        result = f(*args, **kwds)\n",
        "        elapsed_time = time.time() - start_time\n",
        "        print('Elapsed computation time: {:.3f} secs'\n",
        "              .format(elapsed_time))\n",
        "        return (elapsed_time, result)\n",
        "    return wrapper"
      ],
      "execution_count": 0,
      "outputs": []
    },
    {
      "cell_type": "code",
      "metadata": {
        "colab_type": "code",
        "id": "OYlHjiYWtvG1",
        "trusted": true,
        "colab": {}
      },
      "source": [
        "X_train, X_test, y1_train, y1_test,y2_train,y2_test,y3_train,y3_test = train_test_split(features,\n",
        "                                            label_,label_1,label__2, test_size=0.33, random_state=42)"
      ],
      "execution_count": 0,
      "outputs": []
    },
    {
      "cell_type": "code",
      "metadata": {
        "id": "mYDIKWa_Ew8x",
        "colab_type": "code",
        "colab": {}
      },
      "source": [
        "db_train_test ={}\n",
        "db_train_test = { 'X_train':X_train,'y1_train':y1_train,'y2_train':y2_train,'y3_train':y3_train,\n",
        "                 'X_test':X_test,'y1_test':y1_test,'y2_test':y2_test,'y3_test':y3_test}\n",
        "file_tr_te = 'data_train_test'\n",
        "feed_data_to_pkl(file_tr_te,db_train_test)\n",
        "#db_train_test['X_train'] = X_train\n",
        "#db_train_test['y1_train']=y1_train\n",
        "#db_train_test['y1_test'] = y1_test\n",
        "#db_train_test['y2_train'] = y2_train\n",
        "#db_train_test['y2_test'] =y2_test\n",
        "#db_train_test['y3_test'] = y3_test\n",
        "#db_train_test['y3_train'] = y3_train\n"
      ],
      "execution_count": 0,
      "outputs": []
    },
    {
      "cell_type": "code",
      "metadata": {
        "id": "jEUt-tMoOyJi",
        "colab_type": "code",
        "colab": {}
      },
      "source": [
        ""
      ],
      "execution_count": 0,
      "outputs": []
    },
    {
      "cell_type": "markdown",
      "metadata": {
        "colab_type": "text",
        "id": "0lzGtpAMtvHE"
      },
      "source": [
        "## Multi output neural network"
      ]
    },
    {
      "cell_type": "code",
      "metadata": {
        "trusted": true,
        "id": "uC4BdgmaZy1D",
        "colab_type": "code",
        "colab": {}
      },
      "source": [
        "def make_model(n_dim):\n",
        "  #create the model\n",
        "  inn=(Input(shape = (n_dim,)))\n",
        "  x= (Sequential())(inn)\n",
        "  # Adding the input layer and the first hidden layer\n",
        "  x=(Dense(output_dim = 40, init = 'uniform', activation = 'relu', input_dim = 193))(x)\n",
        "  x=(BatchNormalization())(x)\n",
        "  x=(Dropout(0.2))(x)\n",
        "  # Adding the second hidden layer\n",
        "  x=(Dense(output_dim = 20, init = 'uniform', activation = 'relu'))(x)\n",
        "  x=(BatchNormalization())(x)\n",
        "  x=(Dropout(0.2))(x)\n",
        "\n",
        "  x=(Dense(output_dim = 8, init = 'uniform', activation = 'relu'))(x)\n",
        "  x=(BatchNormalization())(x)\n",
        "  x=(Dropout(0.2))(x)\n",
        "  # Adding the output layer\n",
        "  out1 =(Dense(output_dim = 1, init = 'uniform', activation = 'sigmoid'))(x)\n",
        "  out2 =(Dense(output_dim = 1, init = 'uniform', activation = 'sigmoid'))(x)\n",
        "  out3 =(Dense(output_dim = 5, init = 'uniform', activation = 'softmax'))(x)\n",
        "  # Compiling Neural Network\n",
        "  model = Model(inputs=[inn], outputs=[out1, out2,out3])\n",
        "  #classifier.compile(optimizer = 'adam', loss = 'binary_crossentropy', metrics = ['accuracy'])\n",
        "  # compile the model\n",
        "  model.compile(optimizer='adam', loss=['binary_crossentropy','binary_crossentropy','categorical_crossentropy'],\n",
        "              metrics=[f1_m,f1_m,f1_m])\n",
        "  return model"
      ],
      "execution_count": 0,
      "outputs": []
    },
    {
      "cell_type": "code",
      "metadata": {
        "id": "HibhP_-Iirls",
        "colab_type": "code",
        "colab": {}
      },
      "source": [
        "def make_model_(n_dim):\n",
        "  #create the model\n",
        "  inn=(Input(shape = (n_dim,)))\n",
        "  x= (Sequential())(inn)\n",
        "  # Adding the input layer and the first hidden layer\n",
        "  x=(Dense(output_dim = 40, init = 'uniform', activation = 'relu', input_dim = 193))(x)\n",
        "  x=(BatchNormalization())(x)\n",
        "  x=(Dropout(0.2))(x)\n",
        "  # Adding the second hidden layer\n",
        "  x=(Dense(output_dim = 20, init = 'uniform', activation = 'relu'))(x)\n",
        "  x=(BatchNormalization())(x)\n",
        "  x=(Dropout(0.2))(x)\n",
        "\n",
        "  x=(Dense(output_dim = 8, init = 'uniform', activation = 'relu'))(x)\n",
        "  x=(BatchNormalization())(x)\n",
        "  x=(Dropout(0.2))(x)\n",
        "  # Adding the output layer\n",
        "  out1 =(Dense(output_dim = 1, init = 'uniform', activation = 'sigmoid'))(x)\n",
        "  #out2 =(Dense(output_dim = 1, init = 'uniform', activation = 'sigmoid'))(x)\n",
        "  #out3 =(Dense(output_dim = 5, init = 'uniform', activation = 'softmax'))(x)\n",
        "  # Compiling Neural Network\n",
        "  model = Model(inputs=[inn], outputs=[out1])\n",
        "  #classifier.compile(optimizer = 'adam', loss = 'binary_crossentropy', metrics = ['accuracy'])\n",
        "  # compile the model\n",
        "  #,'binary_crossentropy','categorical_crossentropy'],\n",
        "  model.compile(optimizer='adam', loss=['binary_crossentropy'],\n",
        "              metrics=[f1_m])\n",
        "  return model"
      ],
      "execution_count": 0,
      "outputs": []
    },
    {
      "cell_type": "code",
      "metadata": {
        "id": "fE669_LLi1XW",
        "colab_type": "code",
        "colab": {}
      },
      "source": [
        "def make_model_2(n_dim):\n",
        "  #create the model\n",
        "  inn=(Input(shape = (n_dim,)))\n",
        "  x= (Sequential())(inn)\n",
        "  # Adding the input layer and the first hidden layer\n",
        "  x=(Dense(output_dim = 40, init = 'uniform', activation = 'relu', input_dim = 193))(x)\n",
        "  x=(BatchNormalization())(x)\n",
        "  x=(Dropout(0.2))(x)\n",
        "  # Adding the second hidden layer\n",
        "  x=(Dense(output_dim = 20, init = 'uniform', activation = 'relu'))(x)\n",
        "  x=(BatchNormalization())(x)\n",
        "  x=(Dropout(0.2))(x)\n",
        "\n",
        "  x=(Dense(output_dim = 8, init = 'uniform', activation = 'relu'))(x)\n",
        "  x=(BatchNormalization())(x)\n",
        "  x=(Dropout(0.2))(x)\n",
        "  # Adding the output layer\n",
        "  #out1 =(Dense(output_dim = 1, init = 'uniform', activation = 'sigmoid'))(x)\n",
        "  #out2 =(Dense(output_dim = 1, init = 'uniform', activation = 'sigmoid'))(x)\n",
        "  out3 =(Dense(output_dim = 5, init = 'uniform', activation = 'softmax'))(x)\n",
        "  # Compiling Neural Network\n",
        "  model = Model(inputs=[inn], outputs=[out3])\n",
        "  #classifier.compile(optimizer = 'adam', loss = 'binary_crossentropy', metrics = ['accuracy'])\n",
        "  # compile the model\n",
        "  model.compile(optimizer='adam', loss=['categorical_crossentropy'],\n",
        "              metrics=[f1_m])\n",
        "  return model"
      ],
      "execution_count": 0,
      "outputs": []
    },
    {
      "cell_type": "code",
      "metadata": {
        "id": "yWnYTDfl9L8R",
        "colab_type": "code",
        "colab": {
          "base_uri": "https://localhost:8080/",
          "height": 88
        },
        "outputId": "f6c6e327-7106-469e-ae6e-cecd7e90f8a4"
      },
      "source": [
        "from imblearn.keras import BalancedBatchGenerator\n",
        "def fit_predict_balanced_model(X_train, y1_train,y2_train,y3_train, X_test, y1_test,y2_test,y3_test):\n",
        "    model1 = make_model_(X_train.shape[1])\n",
        "    #print(model.summary())\n",
        "    training_generator = BalancedBatchGenerator(X_train,y1_train,\n",
        "                                                batch_size=30,\n",
        "                                                random_state=42)\n",
        "    history1 = model1.fit_generator(generator=training_generator,epochs=50, verbose=1)\n",
        "    yy1= model1.predict(X_test, batch_size=30)\n",
        "    model2 = make_model_(X_train.shape[1])\n",
        "    training_generator = BalancedBatchGenerator(X_train,y2_train,\n",
        "                                                batch_size=30,\n",
        "                                                random_state=42)\n",
        "    history2 = model2.fit_generator(generator=training_generator, epochs=50, verbose=1)\n",
        "    yy2= model2.predict(X_test, batch_size=30)\n",
        "    model3 = make_model_2(X_train.shape[1])\n",
        "    training_generator = BalancedBatchGenerator(X_train,y3_train,\n",
        "                                                            random_state=42)\n",
        "    history3 = model2.fit_generator(generator=training_generator, epochs=10, verbose=1)\n",
        "    yy3= model3.predict(X_test)\n",
        "    return yy1,yy2,yy3,history1,history2,history3,model1,model2,model3"
      ],
      "execution_count": 1,
      "outputs": [
        {
          "output_type": "stream",
          "text": [
            "/usr/local/lib/python3.6/dist-packages/sklearn/externals/six.py:31: DeprecationWarning: The module is deprecated in version 0.21 and will be removed in version 0.23 since we've dropped support for Python 2.7. Please rely on the official version of six (https://pypi.org/project/six/).\n",
            "  \"(https://pypi.org/project/six/).\", DeprecationWarning)\n",
            "Using TensorFlow backend.\n"
          ],
          "name": "stderr"
        }
      ]
    },
    {
      "cell_type": "code",
      "metadata": {
        "id": "HYW8HyafnG3y",
        "colab_type": "code",
        "colab": {
          "base_uri": "https://localhost:8080/",
          "height": 34
        },
        "outputId": "06ad3f56-fe12-4148-ca5d-cc356621d974"
      },
      "source": [
        "y3_train.shape"
      ],
      "execution_count": 194,
      "outputs": [
        {
          "output_type": "execute_result",
          "data": {
            "text/plain": [
              "(852, 5)"
            ]
          },
          "metadata": {
            "tags": []
          },
          "execution_count": 194
        }
      ]
    },
    {
      "cell_type": "code",
      "metadata": {
        "id": "r0wY3LqKkbkM",
        "colab_type": "code",
        "colab": {
          "base_uri": "https://localhost:8080/",
          "height": 200
        },
        "outputId": "1b35ab7f-b315-4afa-ed70-1c9cf8e6a1cc"
      },
      "source": [
        " yy1_b,yy2_b,yy3_b,history1_b,history2_b,history3_b,model1_b,model2_b,model3_b= fit_predict_balanced_model(X_train,\n",
        "                              y1_train,y2_train,y3_train, X_test, y1_test,y2_test,y3_test)"
      ],
      "execution_count": 2,
      "outputs": [
        {
          "output_type": "error",
          "ename": "NameError",
          "evalue": "ignored",
          "traceback": [
            "\u001b[0;31m---------------------------------------------------------------------------\u001b[0m",
            "\u001b[0;31mNameError\u001b[0m                                 Traceback (most recent call last)",
            "\u001b[0;32m<ipython-input-2-f78821d2275c>\u001b[0m in \u001b[0;36m<module>\u001b[0;34m()\u001b[0m\n\u001b[0;32m----> 1\u001b[0;31m yy1_b,yy2_b,yy3_b,history1_b,history2_b,history3_b,model1_b,model2_b,model3_b= fit_predict_balanced_model(X_train,\n\u001b[0m\u001b[1;32m      2\u001b[0m                              y1_train,y2_train,y3_train, X_test, y1_test,y2_test,y3_test)\n",
            "\u001b[0;31mNameError\u001b[0m: name 'X_train' is not defined"
          ]
        }
      ]
    },
    {
      "cell_type": "code",
      "metadata": {
        "id": "If1kUtvP8zM4",
        "colab_type": "code",
        "colab": {}
      },
      "source": [
        "from sklearn.metrics import roc_auc_score\n",
        "def fit_predict_imbalanced_model(X_train, y1_train,y2_train,y3_train, X_test, y1_test,y2_test,y3_test):\n",
        "    model = make_model(X_train.shape[1])\n",
        "    print(model.summary())\n",
        "    history = model.fit(X_train, [y1_train,y2_train,y3_train],validation_split=0.3,epochs=50, verbose=1, batch_size=30)\n",
        "    yy1,yy2,yy3 = model.predict(X_test)\n",
        "    print(yy1.shape)\n",
        "    print(yy2.shape)\n",
        "    print(yy3.shape)\n",
        "    return yy1,yy2,yy3,history,model"
      ],
      "execution_count": 0,
      "outputs": []
    },
    {
      "cell_type": "markdown",
      "metadata": {
        "id": "DvT-8XW_Pldl",
        "colab_type": "text"
      },
      "source": [
        "Class weights"
      ]
    },
    {
      "cell_type": "code",
      "metadata": {
        "id": "bBeAWsBIQjs5",
        "colab_type": "code",
        "colab": {
          "base_uri": "https://localhost:8080/",
          "height": 68
        },
        "outputId": "0ddac2de-34f2-4c02-a3d8-95a55049be32"
      },
      "source": [
        "x1 = pd.Series(pd.Series(label).value_counts())\n",
        "x2 = pd.Series(pd.Series(label1).value_counts())\n",
        "x3 = pd.Series(pd.Series(label2).value_counts())\n",
        "c1=return_median(x1)\n",
        "c2 = return_median(x2)\n",
        "c3 =return_median(x3)\n",
        "class_weights = {0: c3/x3[0],\n",
        "                1: c3/x3[1],\n",
        "                2: c3/x3[2],\n",
        "                3: c3/x3[3],\n",
        "                4: c3/x3[4]} # w(i) = N/n(i)\n",
        "cw1 = {0: c1/x1[0],\n",
        "       1: c1/x1[1]} \n",
        "cw2 = {0: c2/x2[0],\n",
        "       1: c2/x2[1]} \n",
        "def fit_predict_weighted_model(X_train, y1_train,y2_train,y3_train, X_test, y1_test,\n",
        "                               y2_test,y3_test,cw1,cw2,class_weights):\n",
        "    model = make_model(X_train.shape[1])\n",
        "    #print(model.summary())\n",
        "    \n",
        "    history = model.fit(X_train, [y1_train,y2_train,y3_train],validation_split=0.3,epochs=50, \n",
        "                        class_weight=[cw1,cw2,class_weights],verbose=1, batch_size=30)\n",
        "    yy1,yy2,yy3 = model.predict(X_test)\n",
        "    print(yy1.shape)\n",
        "    print(yy2.shape)\n",
        "    print(yy3.shape)\n",
        "    return yy1,yy2,yy3,history,model"
      ],
      "execution_count": 176,
      "outputs": [
        {
          "output_type": "stream",
          "text": [
            "2\n",
            "2\n",
            "5\n"
          ],
          "name": "stdout"
        }
      ]
    },
    {
      "cell_type": "code",
      "metadata": {
        "trusted": true,
        "id": "_dkHVaj8Zy1J",
        "colab_type": "code",
        "colab": {
          "base_uri": "https://localhost:8080/",
          "height": 51
        },
        "outputId": "85273370-6b82-4d6a-8dae-5de1e80d8b2c"
      },
      "source": [
        "print(cw1,cw2)\n",
        "class_weights"
      ],
      "execution_count": 179,
      "outputs": [
        {
          "output_type": "stream",
          "text": [
            "{0: 0.5564304461942258, 1: 4.930232558139535} {0: 0.5417376490630323, 1: 6.489795918367347}\n"
          ],
          "name": "stdout"
        },
        {
          "output_type": "execute_result",
          "data": {
            "text/plain": [
              "{0: 0.041884816753926704, 1: 0.75, 2: 1.0, 3: 4.363636363636363, 4: 16.0}"
            ]
          },
          "metadata": {
            "tags": []
          },
          "execution_count": 179
        }
      ]
    },
    {
      "cell_type": "code",
      "metadata": {
        "id": "5ZDpQjsUA5Ba",
        "colab_type": "code",
        "colab": {}
      },
      "source": [
        "yy1,yy2,yy3,his_plain,model_plain = fit_predict_imbalanced_model(X_train, y1_train,y2_train,\n",
        "                                                     y3_train, X_test, y1_test,y2_test,y3_test)"
      ],
      "execution_count": 0,
      "outputs": []
    },
    {
      "cell_type": "code",
      "metadata": {
        "id": "uazFkBtIIJsX",
        "colab_type": "code",
        "colab": {}
      },
      "source": [
        "db_plain_res = {}\n",
        "db_plain_res = {'yy1':yy1,'yy2':yy2,'yy3':yy3,'history':his_plain}\n",
        "feed_data_to_pkl('plain_res_his',db_plain_res)\n",
        "feed_data_to_pkl('plain_model',model_plain)"
      ],
      "execution_count": 0,
      "outputs": []
    },
    {
      "cell_type": "code",
      "metadata": {
        "id": "K8T3iqXoWkMm",
        "colab_type": "code",
        "colab": {
          "base_uri": "https://localhost:8080/",
          "height": 1000
        },
        "outputId": "1e4e6df3-357d-49f3-e659-7cd3f3152451"
      },
      "source": [
        "yy1_w,yy2_w,yy3_w,his_w,model_w = fit_predict_weighted_model(X_train, y1_train,y2_train,\n",
        "                                                     y3_train, X_test, y1_test,y2_test,y3_test,cw1,cw2,class_weights)"
      ],
      "execution_count": 181,
      "outputs": [
        {
          "output_type": "stream",
          "text": [
            "/usr/local/lib/python3.6/dist-packages/ipykernel_launcher.py:6: UserWarning: Update your `Dense` call to the Keras 2 API: `Dense(activation=\"relu\", input_dim=193, units=40, kernel_initializer=\"uniform\")`\n",
            "  \n",
            "/usr/local/lib/python3.6/dist-packages/ipykernel_launcher.py:10: UserWarning: Update your `Dense` call to the Keras 2 API: `Dense(activation=\"relu\", units=20, kernel_initializer=\"uniform\")`\n",
            "  # Remove the CWD from sys.path while we load stuff.\n",
            "/usr/local/lib/python3.6/dist-packages/ipykernel_launcher.py:14: UserWarning: Update your `Dense` call to the Keras 2 API: `Dense(activation=\"relu\", units=8, kernel_initializer=\"uniform\")`\n",
            "  \n",
            "/usr/local/lib/python3.6/dist-packages/ipykernel_launcher.py:18: UserWarning: Update your `Dense` call to the Keras 2 API: `Dense(activation=\"sigmoid\", units=1, kernel_initializer=\"uniform\")`\n",
            "/usr/local/lib/python3.6/dist-packages/ipykernel_launcher.py:19: UserWarning: Update your `Dense` call to the Keras 2 API: `Dense(activation=\"sigmoid\", units=1, kernel_initializer=\"uniform\")`\n",
            "/usr/local/lib/python3.6/dist-packages/ipykernel_launcher.py:20: UserWarning: Update your `Dense` call to the Keras 2 API: `Dense(activation=\"softmax\", units=5, kernel_initializer=\"uniform\")`\n"
          ],
          "name": "stderr"
        },
        {
          "output_type": "stream",
          "text": [
            "Train on 596 samples, validate on 256 samples\n",
            "Epoch 1/50\n",
            "596/596 [==============================] - 5s 8ms/step - loss: 5.2168 - dense_76_loss: 0.7097 - dense_77_loss: 4.0890 - dense_78_loss: 0.4181 - dense_76_f1_m: 0.1704 - dense_76_f1_m_1: 0.1704 - dense_76_f1_m_2: 0.1704 - dense_77_f1_m: 0.5925 - dense_77_f1_m_1: 0.5925 - dense_77_f1_m_2: 0.5925 - dense_78_f1_m: 0.0000e+00 - dense_78_f1_m_1: 0.0000e+00 - dense_78_f1_m_2: 0.0000e+00 - val_loss: 5.3997 - val_dense_76_loss: 0.6256 - val_dense_77_loss: 4.2097 - val_dense_78_loss: 0.5644 - val_dense_76_f1_m: 0.1784 - val_dense_76_f1_m_1: 0.1784 - val_dense_76_f1_m_2: 0.1784 - val_dense_77_f1_m: 0.6043 - val_dense_77_f1_m_1: 0.6043 - val_dense_77_f1_m_2: 0.6043 - val_dense_78_f1_m: 0.0000e+00 - val_dense_78_f1_m_1: 0.0000e+00 - val_dense_78_f1_m_2: 0.0000e+00\n",
            "Epoch 2/50\n",
            "596/596 [==============================] - 0s 212us/step - loss: 5.1239 - dense_76_loss: 0.6921 - dense_77_loss: 4.0183 - dense_78_loss: 0.4136 - dense_76_f1_m: 0.2323 - dense_76_f1_m_1: 0.2323 - dense_76_f1_m_2: 0.2323 - dense_77_f1_m: 0.7171 - dense_77_f1_m_1: 0.7171 - dense_77_f1_m_2: 0.7171 - dense_78_f1_m: 0.0000e+00 - dense_78_f1_m_1: 0.0000e+00 - dense_78_f1_m_2: 0.0000e+00 - val_loss: 5.1887 - val_dense_76_loss: 0.6057 - val_dense_77_loss: 4.0317 - val_dense_78_loss: 0.5514 - val_dense_76_f1_m: 0.2268 - val_dense_76_f1_m_1: 0.2268 - val_dense_76_f1_m_2: 0.2268 - val_dense_77_f1_m: 0.7893 - val_dense_77_f1_m_1: 0.7893 - val_dense_77_f1_m_2: 0.7893 - val_dense_78_f1_m: 0.0000e+00 - val_dense_78_f1_m_1: 0.0000e+00 - val_dense_78_f1_m_2: 0.0000e+00\n",
            "Epoch 3/50\n",
            "596/596 [==============================] - 0s 161us/step - loss: 5.0171 - dense_76_loss: 0.6738 - dense_77_loss: 3.9403 - dense_78_loss: 0.4031 - dense_76_f1_m: 0.2693 - dense_76_f1_m_1: 0.2693 - dense_76_f1_m_2: 0.2693 - dense_77_f1_m: 0.7401 - dense_77_f1_m_1: 0.7401 - dense_77_f1_m_2: 0.7401 - dense_78_f1_m: 0.0000e+00 - dense_78_f1_m_1: 0.0000e+00 - dense_78_f1_m_2: 0.0000e+00 - val_loss: 5.0132 - val_dense_76_loss: 0.5839 - val_dense_77_loss: 3.8946 - val_dense_78_loss: 0.5347 - val_dense_76_f1_m: 0.2679 - val_dense_76_f1_m_1: 0.2679 - val_dense_76_f1_m_2: 0.2679 - val_dense_77_f1_m: 0.7840 - val_dense_77_f1_m_1: 0.7840 - val_dense_77_f1_m_2: 0.7840 - val_dense_78_f1_m: 0.0000e+00 - val_dense_78_f1_m_1: 0.0000e+00 - val_dense_78_f1_m_2: 0.0000e+00\n",
            "Epoch 4/50\n",
            "596/596 [==============================] - 0s 182us/step - loss: 4.8535 - dense_76_loss: 0.6418 - dense_77_loss: 3.8202 - dense_78_loss: 0.3914 - dense_76_f1_m: 0.3155 - dense_76_f1_m_1: 0.3155 - dense_76_f1_m_2: 0.3155 - dense_77_f1_m: 0.7940 - dense_77_f1_m_1: 0.7940 - dense_77_f1_m_2: 0.7940 - dense_78_f1_m: 0.0000e+00 - dense_78_f1_m_1: 0.0000e+00 - dense_78_f1_m_2: 0.0000e+00 - val_loss: 4.5628 - val_dense_76_loss: 0.5432 - val_dense_77_loss: 3.5005 - val_dense_78_loss: 0.5191 - val_dense_76_f1_m: 0.4949 - val_dense_76_f1_m_1: 0.4949 - val_dense_76_f1_m_2: 0.4949 - val_dense_77_f1_m: 0.9520 - val_dense_77_f1_m_1: 0.9520 - val_dense_77_f1_m_2: 0.9520 - val_dense_78_f1_m: 0.0000e+00 - val_dense_78_f1_m_1: 0.0000e+00 - val_dense_78_f1_m_2: 0.0000e+00\n",
            "Epoch 5/50\n",
            "596/596 [==============================] - 0s 164us/step - loss: 4.7065 - dense_76_loss: 0.6102 - dense_77_loss: 3.7129 - dense_78_loss: 0.3834 - dense_76_f1_m: 0.3495 - dense_76_f1_m_1: 0.3495 - dense_76_f1_m_2: 0.3495 - dense_77_f1_m: 0.8278 - dense_77_f1_m_1: 0.8278 - dense_77_f1_m_2: 0.8278 - dense_78_f1_m: 0.0000e+00 - dense_78_f1_m_1: 0.0000e+00 - dense_78_f1_m_2: 0.0000e+00 - val_loss: 4.2041 - val_dense_76_loss: 0.5080 - val_dense_77_loss: 3.1852 - val_dense_78_loss: 0.5109 - val_dense_76_f1_m: 0.8089 - val_dense_76_f1_m_1: 0.8089 - val_dense_76_f1_m_2: 0.8089 - val_dense_77_f1_m: 0.9769 - val_dense_77_f1_m_1: 0.9769 - val_dense_77_f1_m_2: 0.9769 - val_dense_78_f1_m: 0.0000e+00 - val_dense_78_f1_m_1: 0.0000e+00 - val_dense_78_f1_m_2: 0.0000e+00\n",
            "Epoch 6/50\n",
            "596/596 [==============================] - 0s 169us/step - loss: 4.5227 - dense_76_loss: 0.5637 - dense_77_loss: 3.5924 - dense_78_loss: 0.3666 - dense_76_f1_m: 0.3767 - dense_76_f1_m_1: 0.3767 - dense_76_f1_m_2: 0.3767 - dense_77_f1_m: 0.8476 - dense_77_f1_m_1: 0.8476 - dense_77_f1_m_2: 0.8476 - dense_78_f1_m: 0.0000e+00 - dense_78_f1_m_1: 0.0000e+00 - dense_78_f1_m_2: 0.0000e+00 - val_loss: 3.2343 - val_dense_76_loss: 0.5284 - val_dense_77_loss: 2.1587 - val_dense_78_loss: 0.5473 - val_dense_76_f1_m: 0.1211 - val_dense_76_f1_m_1: 0.1211 - val_dense_76_f1_m_2: 0.1211 - val_dense_77_f1_m: 0.9696 - val_dense_77_f1_m_1: 0.9696 - val_dense_77_f1_m_2: 0.9696 - val_dense_78_f1_m: 0.0000e+00 - val_dense_78_f1_m_1: 0.0000e+00 - val_dense_78_f1_m_2: 0.0000e+00\n",
            "Epoch 7/50\n",
            "596/596 [==============================] - 0s 179us/step - loss: 4.2847 - dense_76_loss: 0.5293 - dense_77_loss: 3.3929 - dense_78_loss: 0.3625 - dense_76_f1_m: 0.4263 - dense_76_f1_m_1: 0.4263 - dense_76_f1_m_2: 0.4263 - dense_77_f1_m: 0.8805 - dense_77_f1_m_1: 0.8805 - dense_77_f1_m_2: 0.8805 - dense_78_f1_m: 0.0000e+00 - dense_78_f1_m_1: 0.0000e+00 - dense_78_f1_m_2: 0.0000e+00 - val_loss: 2.8404 - val_dense_76_loss: 0.5392 - val_dense_77_loss: 1.7384 - val_dense_78_loss: 0.5629 - val_dense_76_f1_m: 0.1211 - val_dense_76_f1_m_1: 0.1211 - val_dense_76_f1_m_2: 0.1211 - val_dense_77_f1_m: 0.9696 - val_dense_77_f1_m_1: 0.9696 - val_dense_77_f1_m_2: 0.9696 - val_dense_78_f1_m: 0.0149 - val_dense_78_f1_m_1: 0.0149 - val_dense_78_f1_m_2: 0.0149\n",
            "Epoch 8/50\n",
            "596/596 [==============================] - 0s 158us/step - loss: 4.0451 - dense_76_loss: 0.4729 - dense_77_loss: 3.2206 - dense_78_loss: 0.3517 - dense_76_f1_m: 0.4743 - dense_76_f1_m_1: 0.4743 - dense_76_f1_m_2: 0.4743 - dense_77_f1_m: 0.9084 - dense_77_f1_m_1: 0.9084 - dense_77_f1_m_2: 0.9084 - dense_78_f1_m: 0.0000e+00 - dense_78_f1_m_1: 0.0000e+00 - dense_78_f1_m_2: 0.0000e+00 - val_loss: 2.8043 - val_dense_76_loss: 0.4778 - val_dense_77_loss: 1.7997 - val_dense_78_loss: 0.5268 - val_dense_76_f1_m: 0.5195 - val_dense_76_f1_m_1: 0.5195 - val_dense_76_f1_m_2: 0.5195 - val_dense_77_f1_m: 0.9755 - val_dense_77_f1_m_1: 0.9755 - val_dense_77_f1_m_2: 0.9755 - val_dense_78_f1_m: 0.0073 - val_dense_78_f1_m_1: 0.0073 - val_dense_78_f1_m_2: 0.0073\n",
            "Epoch 9/50\n",
            "596/596 [==============================] - 0s 155us/step - loss: 3.7359 - dense_76_loss: 0.4220 - dense_77_loss: 2.9886 - dense_78_loss: 0.3252 - dense_76_f1_m: 0.5320 - dense_76_f1_m_1: 0.5320 - dense_76_f1_m_2: 0.5320 - dense_77_f1_m: 0.9327 - dense_77_f1_m_1: 0.9327 - dense_77_f1_m_2: 0.9327 - dense_78_f1_m: 0.0000e+00 - dense_78_f1_m_1: 0.0000e+00 - dense_78_f1_m_2: 0.0000e+00 - val_loss: 2.5343 - val_dense_76_loss: 0.4950 - val_dense_77_loss: 1.5064 - val_dense_78_loss: 0.5330 - val_dense_76_f1_m: 0.3320 - val_dense_76_f1_m_1: 0.3320 - val_dense_76_f1_m_2: 0.3320 - val_dense_77_f1_m: 0.9716 - val_dense_77_f1_m_1: 0.9716 - val_dense_77_f1_m_2: 0.9716 - val_dense_78_f1_m: 0.0300 - val_dense_78_f1_m_1: 0.0300 - val_dense_78_f1_m_2: 0.0300\n",
            "Epoch 10/50\n",
            "596/596 [==============================] - 0s 176us/step - loss: 3.5318 - dense_76_loss: 0.4333 - dense_77_loss: 2.7781 - dense_78_loss: 0.3204 - dense_76_f1_m: 0.5493 - dense_76_f1_m_1: 0.5493 - dense_76_f1_m_2: 0.5493 - dense_77_f1_m: 0.9377 - dense_77_f1_m_1: 0.9377 - dense_77_f1_m_2: 0.9377 - dense_78_f1_m: 0.0065 - dense_78_f1_m_1: 0.0065 - dense_78_f1_m_2: 0.0065 - val_loss: 2.3048 - val_dense_76_loss: 0.3682 - val_dense_77_loss: 1.4813 - val_dense_78_loss: 0.4553 - val_dense_76_f1_m: 0.7734 - val_dense_76_f1_m_1: 0.7734 - val_dense_76_f1_m_2: 0.7734 - val_dense_77_f1_m: 0.9774 - val_dense_77_f1_m_1: 0.9774 - val_dense_77_f1_m_2: 0.9774 - val_dense_78_f1_m: 0.0373 - val_dense_78_f1_m_1: 0.0373 - val_dense_78_f1_m_2: 0.0373\n",
            "Epoch 11/50\n",
            "596/596 [==============================] - 0s 192us/step - loss: 3.2071 - dense_76_loss: 0.3766 - dense_77_loss: 2.5333 - dense_78_loss: 0.2973 - dense_76_f1_m: 0.6156 - dense_76_f1_m_1: 0.6156 - dense_76_f1_m_2: 0.6156 - dense_77_f1_m: 0.9448 - dense_77_f1_m_1: 0.9448 - dense_77_f1_m_2: 0.9448 - dense_78_f1_m: 0.0065 - dense_78_f1_m_1: 0.0065 - dense_78_f1_m_2: 0.0065 - val_loss: 2.3118 - val_dense_76_loss: 0.6131 - val_dense_77_loss: 1.0986 - val_dense_78_loss: 0.6001 - val_dense_76_f1_m: 0.0625 - val_dense_76_f1_m_1: 0.0625 - val_dense_76_f1_m_2: 0.0625 - val_dense_77_f1_m: 0.9716 - val_dense_77_f1_m_1: 0.9716 - val_dense_77_f1_m_2: 0.9716 - val_dense_78_f1_m: 0.0298 - val_dense_78_f1_m_1: 0.0298 - val_dense_78_f1_m_2: 0.0298\n",
            "Epoch 12/50\n",
            "596/596 [==============================] - 0s 199us/step - loss: 3.0864 - dense_76_loss: 0.3352 - dense_77_loss: 2.4334 - dense_78_loss: 0.3177 - dense_76_f1_m: 0.5865 - dense_76_f1_m_1: 0.5865 - dense_76_f1_m_2: 0.5865 - dense_77_f1_m: 0.9419 - dense_77_f1_m_1: 0.9419 - dense_77_f1_m_2: 0.9419 - dense_78_f1_m: 0.0189 - dense_78_f1_m_1: 0.0189 - dense_78_f1_m_2: 0.0189 - val_loss: 2.0210 - val_dense_76_loss: 0.4307 - val_dense_77_loss: 1.1202 - val_dense_78_loss: 0.4701 - val_dense_76_f1_m: 0.5195 - val_dense_76_f1_m_1: 0.5195 - val_dense_76_f1_m_2: 0.5195 - val_dense_77_f1_m: 0.9774 - val_dense_77_f1_m_1: 0.9774 - val_dense_77_f1_m_2: 0.9774 - val_dense_78_f1_m: 0.0449 - val_dense_78_f1_m_1: 0.0449 - val_dense_78_f1_m_2: 0.0449\n",
            "Epoch 13/50\n",
            "596/596 [==============================] - 0s 170us/step - loss: 2.7756 - dense_76_loss: 0.3467 - dense_77_loss: 2.1392 - dense_78_loss: 0.2898 - dense_76_f1_m: 0.7340 - dense_76_f1_m_1: 0.7340 - dense_76_f1_m_2: 0.7340 - dense_77_f1_m: 0.9680 - dense_77_f1_m_1: 0.9680 - dense_77_f1_m_2: 0.9680 - dense_78_f1_m: 0.0156 - dense_78_f1_m_1: 0.0156 - dense_78_f1_m_2: 0.0156 - val_loss: 1.7255 - val_dense_76_loss: 0.3752 - val_dense_77_loss: 0.8926 - val_dense_78_loss: 0.4577 - val_dense_76_f1_m: 0.5195 - val_dense_76_f1_m_1: 0.5195 - val_dense_76_f1_m_2: 0.5195 - val_dense_77_f1_m: 0.9794 - val_dense_77_f1_m_1: 0.9794 - val_dense_77_f1_m_2: 0.9794 - val_dense_78_f1_m: 0.2804 - val_dense_78_f1_m_1: 0.2804 - val_dense_78_f1_m_2: 0.2804\n",
            "Epoch 14/50\n",
            "596/596 [==============================] - 0s 167us/step - loss: 2.6314 - dense_76_loss: 0.3261 - dense_77_loss: 2.0046 - dense_78_loss: 0.3007 - dense_76_f1_m: 0.7333 - dense_76_f1_m_1: 0.7333 - dense_76_f1_m_2: 0.7333 - dense_77_f1_m: 0.9633 - dense_77_f1_m_1: 0.9633 - dense_77_f1_m_2: 0.9633 - dense_78_f1_m: 0.0251 - dense_78_f1_m_1: 0.0251 - dense_78_f1_m_2: 0.0251 - val_loss: 1.5508 - val_dense_76_loss: 0.3116 - val_dense_77_loss: 0.8111 - val_dense_78_loss: 0.4281 - val_dense_76_f1_m: 0.8125 - val_dense_76_f1_m_1: 0.8125 - val_dense_76_f1_m_2: 0.8125 - val_dense_77_f1_m: 0.9772 - val_dense_77_f1_m_1: 0.9772 - val_dense_77_f1_m_2: 0.9772 - val_dense_78_f1_m: 0.5476 - val_dense_78_f1_m_1: 0.5476 - val_dense_78_f1_m_2: 0.5476\n",
            "Epoch 15/50\n",
            "596/596 [==============================] - 0s 173us/step - loss: 2.4086 - dense_76_loss: 0.2868 - dense_77_loss: 1.8473 - dense_78_loss: 0.2746 - dense_76_f1_m: 0.7130 - dense_76_f1_m_1: 0.7130 - dense_76_f1_m_2: 0.7130 - dense_77_f1_m: 0.9658 - dense_77_f1_m_1: 0.9658 - dense_77_f1_m_2: 0.9658 - dense_78_f1_m: 0.0924 - dense_78_f1_m_1: 0.0924 - dense_78_f1_m_2: 0.0924 - val_loss: 1.4412 - val_dense_76_loss: 0.3103 - val_dense_77_loss: 0.7289 - val_dense_78_loss: 0.4020 - val_dense_76_f1_m: 0.7109 - val_dense_76_f1_m_1: 0.7109 - val_dense_76_f1_m_2: 0.7109 - val_dense_77_f1_m: 0.9813 - val_dense_77_f1_m_1: 0.9813 - val_dense_77_f1_m_2: 0.9813 - val_dense_78_f1_m: 0.6787 - val_dense_78_f1_m_1: 0.6787 - val_dense_78_f1_m_2: 0.6787\n",
            "Epoch 16/50\n",
            "596/596 [==============================] - 0s 168us/step - loss: 2.2135 - dense_76_loss: 0.2811 - dense_77_loss: 1.6595 - dense_78_loss: 0.2728 - dense_76_f1_m: 0.7697 - dense_76_f1_m_1: 0.7697 - dense_76_f1_m_2: 0.7697 - dense_77_f1_m: 0.9749 - dense_77_f1_m_1: 0.9749 - dense_77_f1_m_2: 0.9749 - dense_78_f1_m: 0.0894 - dense_78_f1_m_1: 0.0894 - dense_78_f1_m_2: 0.0894 - val_loss: 1.5713 - val_dense_76_loss: 0.4441 - val_dense_77_loss: 0.6430 - val_dense_78_loss: 0.4842 - val_dense_76_f1_m: 0.4727 - val_dense_76_f1_m_1: 0.4727 - val_dense_76_f1_m_2: 0.4727 - val_dense_77_f1_m: 0.9754 - val_dense_77_f1_m_1: 0.9754 - val_dense_77_f1_m_2: 0.9754 - val_dense_78_f1_m: 0.7014 - val_dense_78_f1_m_1: 0.7014 - val_dense_78_f1_m_2: 0.7014\n",
            "Epoch 17/50\n",
            "596/596 [==============================] - 0s 169us/step - loss: 2.1241 - dense_76_loss: 0.2758 - dense_77_loss: 1.5758 - dense_78_loss: 0.2725 - dense_76_f1_m: 0.6942 - dense_76_f1_m_1: 0.6942 - dense_76_f1_m_2: 0.6942 - dense_77_f1_m: 0.9690 - dense_77_f1_m_1: 0.9690 - dense_77_f1_m_2: 0.9690 - dense_78_f1_m: 0.2286 - dense_78_f1_m_1: 0.2286 - dense_78_f1_m_2: 0.2286 - val_loss: 1.4743 - val_dense_76_loss: 0.3445 - val_dense_77_loss: 0.6905 - val_dense_78_loss: 0.4393 - val_dense_76_f1_m: 0.5391 - val_dense_76_f1_m_1: 0.5391 - val_dense_76_f1_m_2: 0.5391 - val_dense_77_f1_m: 0.9794 - val_dense_77_f1_m_1: 0.9794 - val_dense_77_f1_m_2: 0.9794 - val_dense_78_f1_m: 0.6059 - val_dense_78_f1_m_1: 0.6059 - val_dense_78_f1_m_2: 0.6059\n",
            "Epoch 18/50\n",
            "596/596 [==============================] - 0s 196us/step - loss: 1.8449 - dense_76_loss: 0.2842 - dense_77_loss: 1.2725 - dense_78_loss: 0.2882 - dense_76_f1_m: 0.7994 - dense_76_f1_m_1: 0.7994 - dense_76_f1_m_2: 0.7994 - dense_77_f1_m: 0.9806 - dense_77_f1_m_1: 0.9806 - dense_77_f1_m_2: 0.9806 - dense_78_f1_m: 0.2112 - dense_78_f1_m_1: 0.2112 - dense_78_f1_m_2: 0.2112 - val_loss: 1.4521 - val_dense_76_loss: 0.4010 - val_dense_77_loss: 0.6012 - val_dense_78_loss: 0.4499 - val_dense_76_f1_m: 0.5391 - val_dense_76_f1_m_1: 0.5391 - val_dense_76_f1_m_2: 0.5391 - val_dense_77_f1_m: 0.9795 - val_dense_77_f1_m_1: 0.9795 - val_dense_77_f1_m_2: 0.9795 - val_dense_78_f1_m: 0.8380 - val_dense_78_f1_m_1: 0.8380 - val_dense_78_f1_m_2: 0.8380\n",
            "Epoch 19/50\n",
            "596/596 [==============================] - 0s 162us/step - loss: 1.8506 - dense_76_loss: 0.2619 - dense_77_loss: 1.3051 - dense_78_loss: 0.2836 - dense_76_f1_m: 0.7412 - dense_76_f1_m_1: 0.7412 - dense_76_f1_m_2: 0.7412 - dense_77_f1_m: 0.9739 - dense_77_f1_m_1: 0.9739 - dense_77_f1_m_2: 0.9739 - dense_78_f1_m: 0.3995 - dense_78_f1_m_1: 0.3995 - dense_78_f1_m_2: 0.3995 - val_loss: 1.4628 - val_dense_76_loss: 0.3672 - val_dense_77_loss: 0.6801 - val_dense_78_loss: 0.4156 - val_dense_76_f1_m: 0.5391 - val_dense_76_f1_m_1: 0.5391 - val_dense_76_f1_m_2: 0.5391 - val_dense_77_f1_m: 0.9793 - val_dense_77_f1_m_1: 0.9793 - val_dense_77_f1_m_2: 0.9793 - val_dense_78_f1_m: 0.9126 - val_dense_78_f1_m_1: 0.9126 - val_dense_78_f1_m_2: 0.9126\n",
            "Epoch 20/50\n",
            "596/596 [==============================] - 0s 171us/step - loss: 1.6804 - dense_76_loss: 0.2643 - dense_77_loss: 1.1488 - dense_78_loss: 0.2673 - dense_76_f1_m: 0.8189 - dense_76_f1_m_1: 0.8189 - dense_76_f1_m_2: 0.8189 - dense_77_f1_m: 0.9750 - dense_77_f1_m_1: 0.9750 - dense_77_f1_m_2: 0.9750 - dense_78_f1_m: 0.4388 - dense_78_f1_m_1: 0.4388 - dense_78_f1_m_2: 0.4388 - val_loss: 1.2323 - val_dense_76_loss: 0.2762 - val_dense_77_loss: 0.5925 - val_dense_78_loss: 0.3636 - val_dense_76_f1_m: 0.7500 - val_dense_76_f1_m_1: 0.7500 - val_dense_76_f1_m_2: 0.7500 - val_dense_77_f1_m: 0.9793 - val_dense_77_f1_m_1: 0.9793 - val_dense_77_f1_m_2: 0.9793 - val_dense_78_f1_m: 0.9299 - val_dense_78_f1_m_1: 0.9299 - val_dense_78_f1_m_2: 0.9299\n",
            "Epoch 21/50\n",
            "596/596 [==============================] - 0s 159us/step - loss: 1.6912 - dense_76_loss: 0.2592 - dense_77_loss: 1.1559 - dense_78_loss: 0.2761 - dense_76_f1_m: 0.6861 - dense_76_f1_m_1: 0.6861 - dense_76_f1_m_2: 0.6861 - dense_77_f1_m: 0.9773 - dense_77_f1_m_1: 0.9773 - dense_77_f1_m_2: 0.9773 - dense_78_f1_m: 0.4934 - dense_78_f1_m_1: 0.4934 - dense_78_f1_m_2: 0.4934 - val_loss: 1.2261 - val_dense_76_loss: 0.3136 - val_dense_77_loss: 0.5258 - val_dense_78_loss: 0.3867 - val_dense_76_f1_m: 0.6328 - val_dense_76_f1_m_1: 0.6328 - val_dense_76_f1_m_2: 0.6328 - val_dense_77_f1_m: 0.9794 - val_dense_77_f1_m_1: 0.9794 - val_dense_77_f1_m_2: 0.9794 - val_dense_78_f1_m: 0.9464 - val_dense_78_f1_m_1: 0.9464 - val_dense_78_f1_m_2: 0.9464\n",
            "Epoch 22/50\n",
            "596/596 [==============================] - 0s 187us/step - loss: 1.4443 - dense_76_loss: 0.2063 - dense_77_loss: 0.9802 - dense_78_loss: 0.2577 - dense_76_f1_m: 0.8456 - dense_76_f1_m_1: 0.8456 - dense_76_f1_m_2: 0.8456 - dense_77_f1_m: 0.9795 - dense_77_f1_m_1: 0.9795 - dense_77_f1_m_2: 0.9795 - dense_78_f1_m: 0.5968 - dense_78_f1_m_1: 0.5968 - dense_78_f1_m_2: 0.5968 - val_loss: 1.0976 - val_dense_76_loss: 0.1901 - val_dense_77_loss: 0.5903 - val_dense_78_loss: 0.3171 - val_dense_76_f1_m: 0.9208 - val_dense_76_f1_m_1: 0.9208 - val_dense_76_f1_m_2: 0.9208 - val_dense_77_f1_m: 0.9751 - val_dense_77_f1_m_1: 0.9751 - val_dense_77_f1_m_2: 0.9751 - val_dense_78_f1_m: 0.9252 - val_dense_78_f1_m_1: 0.9252 - val_dense_78_f1_m_2: 0.9252\n",
            "Epoch 23/50\n",
            "596/596 [==============================] - 0s 178us/step - loss: 1.4339 - dense_76_loss: 0.2037 - dense_77_loss: 0.9542 - dense_78_loss: 0.2760 - dense_76_f1_m: 0.8880 - dense_76_f1_m_1: 0.8880 - dense_76_f1_m_2: 0.8880 - dense_77_f1_m: 0.9775 - dense_77_f1_m_1: 0.9775 - dense_77_f1_m_2: 0.9775 - dense_78_f1_m: 0.6224 - dense_78_f1_m_1: 0.6224 - dense_78_f1_m_2: 0.6224 - val_loss: 1.1064 - val_dense_76_loss: 0.2104 - val_dense_77_loss: 0.5476 - val_dense_78_loss: 0.3483 - val_dense_76_f1_m: 0.7969 - val_dense_76_f1_m_1: 0.7969 - val_dense_76_f1_m_2: 0.7969 - val_dense_77_f1_m: 0.9774 - val_dense_77_f1_m_1: 0.9774 - val_dense_77_f1_m_2: 0.9774 - val_dense_78_f1_m: 0.9310 - val_dense_78_f1_m_1: 0.9310 - val_dense_78_f1_m_2: 0.9310\n",
            "Epoch 24/50\n",
            "596/596 [==============================] - 0s 171us/step - loss: 1.4227 - dense_76_loss: 0.2705 - dense_77_loss: 0.8193 - dense_78_loss: 0.3329 - dense_76_f1_m: 0.7457 - dense_76_f1_m_1: 0.7457 - dense_76_f1_m_2: 0.7457 - dense_77_f1_m: 0.9764 - dense_77_f1_m_1: 0.9764 - dense_77_f1_m_2: 0.9764 - dense_78_f1_m: 0.6576 - dense_78_f1_m_1: 0.6576 - dense_78_f1_m_2: 0.6576 - val_loss: 1.0550 - val_dense_76_loss: 0.1361 - val_dense_77_loss: 0.6043 - val_dense_78_loss: 0.3146 - val_dense_76_f1_m: 0.8873 - val_dense_76_f1_m_1: 0.8873 - val_dense_76_f1_m_2: 0.8873 - val_dense_77_f1_m: 0.9793 - val_dense_77_f1_m_1: 0.9793 - val_dense_77_f1_m_2: 0.9793 - val_dense_78_f1_m: 0.8825 - val_dense_78_f1_m_1: 0.8825 - val_dense_78_f1_m_2: 0.8825\n",
            "Epoch 25/50\n",
            "596/596 [==============================] - 0s 183us/step - loss: 1.2880 - dense_76_loss: 0.2280 - dense_77_loss: 0.7978 - dense_78_loss: 0.2622 - dense_76_f1_m: 0.8217 - dense_76_f1_m_1: 0.8217 - dense_76_f1_m_2: 0.8217 - dense_77_f1_m: 0.9752 - dense_77_f1_m_1: 0.9752 - dense_77_f1_m_2: 0.9752 - dense_78_f1_m: 0.7166 - dense_78_f1_m_1: 0.7166 - dense_78_f1_m_2: 0.7166 - val_loss: 0.9792 - val_dense_76_loss: 0.1371 - val_dense_77_loss: 0.5482 - val_dense_78_loss: 0.2939 - val_dense_76_f1_m: 0.9442 - val_dense_76_f1_m_1: 0.9442 - val_dense_76_f1_m_2: 0.9442 - val_dense_77_f1_m: 0.9772 - val_dense_77_f1_m_1: 0.9772 - val_dense_77_f1_m_2: 0.9772 - val_dense_78_f1_m: 0.9382 - val_dense_78_f1_m_1: 0.9382 - val_dense_78_f1_m_2: 0.9382\n",
            "Epoch 26/50\n",
            "596/596 [==============================] - 0s 169us/step - loss: 1.1854 - dense_76_loss: 0.2144 - dense_77_loss: 0.7163 - dense_78_loss: 0.2547 - dense_76_f1_m: 0.7991 - dense_76_f1_m_1: 0.7991 - dense_76_f1_m_2: 0.7991 - dense_77_f1_m: 0.9720 - dense_77_f1_m_1: 0.9720 - dense_77_f1_m_2: 0.9720 - dense_78_f1_m: 0.7331 - dense_78_f1_m_1: 0.7331 - dense_78_f1_m_2: 0.7331 - val_loss: 1.0555 - val_dense_76_loss: 0.1086 - val_dense_77_loss: 0.6797 - val_dense_78_loss: 0.2672 - val_dense_76_f1_m: 0.9040 - val_dense_76_f1_m_1: 0.9040 - val_dense_76_f1_m_2: 0.9040 - val_dense_77_f1_m: 0.9832 - val_dense_77_f1_m_1: 0.9832 - val_dense_77_f1_m_2: 0.9832 - val_dense_78_f1_m: 0.9120 - val_dense_78_f1_m_1: 0.9120 - val_dense_78_f1_m_2: 0.9120\n",
            "Epoch 27/50\n",
            "596/596 [==============================] - 0s 176us/step - loss: 1.1350 - dense_76_loss: 0.1782 - dense_77_loss: 0.7218 - dense_78_loss: 0.2350 - dense_76_f1_m: 0.7828 - dense_76_f1_m_1: 0.7828 - dense_76_f1_m_2: 0.7828 - dense_77_f1_m: 0.9804 - dense_77_f1_m_1: 0.9804 - dense_77_f1_m_2: 0.9804 - dense_78_f1_m: 0.7874 - dense_78_f1_m_1: 0.7874 - dense_78_f1_m_2: 0.7874 - val_loss: 0.9808 - val_dense_76_loss: 0.1535 - val_dense_77_loss: 0.5273 - val_dense_78_loss: 0.3000 - val_dense_76_f1_m: 0.9442 - val_dense_76_f1_m_1: 0.9442 - val_dense_76_f1_m_2: 0.9442 - val_dense_77_f1_m: 0.9772 - val_dense_77_f1_m_1: 0.9772 - val_dense_77_f1_m_2: 0.9772 - val_dense_78_f1_m: 0.9426 - val_dense_78_f1_m_1: 0.9426 - val_dense_78_f1_m_2: 0.9426\n",
            "Epoch 28/50\n",
            "596/596 [==============================] - 0s 176us/step - loss: 1.1393 - dense_76_loss: 0.2287 - dense_77_loss: 0.6345 - dense_78_loss: 0.2762 - dense_76_f1_m: 0.7568 - dense_76_f1_m_1: 0.7568 - dense_76_f1_m_2: 0.7568 - dense_77_f1_m: 0.9675 - dense_77_f1_m_1: 0.9675 - dense_77_f1_m_2: 0.9675 - dense_78_f1_m: 0.7851 - dense_78_f1_m_1: 0.7851 - dense_78_f1_m_2: 0.7851 - val_loss: 0.9300 - val_dense_76_loss: 0.1638 - val_dense_77_loss: 0.4538 - val_dense_78_loss: 0.3125 - val_dense_76_f1_m: 0.9442 - val_dense_76_f1_m_1: 0.9442 - val_dense_76_f1_m_2: 0.9442 - val_dense_77_f1_m: 0.9814 - val_dense_77_f1_m_1: 0.9814 - val_dense_77_f1_m_2: 0.9814 - val_dense_78_f1_m: 0.9422 - val_dense_78_f1_m_1: 0.9422 - val_dense_78_f1_m_2: 0.9422\n",
            "Epoch 29/50\n",
            "596/596 [==============================] - 0s 177us/step - loss: 1.0553 - dense_76_loss: 0.1928 - dense_77_loss: 0.5904 - dense_78_loss: 0.2721 - dense_76_f1_m: 0.8480 - dense_76_f1_m_1: 0.8480 - dense_76_f1_m_2: 0.8480 - dense_77_f1_m: 0.9714 - dense_77_f1_m_1: 0.9714 - dense_77_f1_m_2: 0.9714 - dense_78_f1_m: 0.8068 - dense_78_f1_m_1: 0.8068 - dense_78_f1_m_2: 0.8068 - val_loss: 1.0563 - val_dense_76_loss: 0.2936 - val_dense_77_loss: 0.3925 - val_dense_78_loss: 0.3701 - val_dense_76_f1_m: 0.6406 - val_dense_76_f1_m_1: 0.6406 - val_dense_76_f1_m_2: 0.6406 - val_dense_77_f1_m: 0.9772 - val_dense_77_f1_m_1: 0.9772 - val_dense_77_f1_m_2: 0.9772 - val_dense_78_f1_m: 0.9472 - val_dense_78_f1_m_1: 0.9472 - val_dense_78_f1_m_2: 0.9472\n",
            "Epoch 30/50\n",
            "596/596 [==============================] - 0s 176us/step - loss: 1.0216 - dense_76_loss: 0.1845 - dense_77_loss: 0.5768 - dense_78_loss: 0.2603 - dense_76_f1_m: 0.8323 - dense_76_f1_m_1: 0.8323 - dense_76_f1_m_2: 0.8323 - dense_77_f1_m: 0.9743 - dense_77_f1_m_1: 0.9743 - dense_77_f1_m_2: 0.9743 - dense_78_f1_m: 0.8154 - dense_78_f1_m_1: 0.8154 - dense_78_f1_m_2: 0.8154 - val_loss: 0.8812 - val_dense_76_loss: 0.1822 - val_dense_77_loss: 0.4071 - val_dense_78_loss: 0.2919 - val_dense_76_f1_m: 0.9442 - val_dense_76_f1_m_1: 0.9442 - val_dense_76_f1_m_2: 0.9442 - val_dense_77_f1_m: 0.9814 - val_dense_77_f1_m_1: 0.9814 - val_dense_77_f1_m_2: 0.9814 - val_dense_78_f1_m: 0.9394 - val_dense_78_f1_m_1: 0.9394 - val_dense_78_f1_m_2: 0.9394\n",
            "Epoch 31/50\n",
            "596/596 [==============================] - 0s 166us/step - loss: 0.8942 - dense_76_loss: 0.1682 - dense_77_loss: 0.4956 - dense_78_loss: 0.2303 - dense_76_f1_m: 0.8702 - dense_76_f1_m_1: 0.8702 - dense_76_f1_m_2: 0.8702 - dense_77_f1_m: 0.9804 - dense_77_f1_m_1: 0.9804 - dense_77_f1_m_2: 0.9804 - dense_78_f1_m: 0.8380 - dense_78_f1_m_1: 0.8380 - dense_78_f1_m_2: 0.8380 - val_loss: 0.8490 - val_dense_76_loss: 0.1266 - val_dense_77_loss: 0.4655 - val_dense_78_loss: 0.2568 - val_dense_76_f1_m: 0.9442 - val_dense_76_f1_m_1: 0.9442 - val_dense_76_f1_m_2: 0.9442 - val_dense_77_f1_m: 0.9794 - val_dense_77_f1_m_1: 0.9794 - val_dense_77_f1_m_2: 0.9794 - val_dense_78_f1_m: 0.9316 - val_dense_78_f1_m_1: 0.9316 - val_dense_78_f1_m_2: 0.9316\n",
            "Epoch 32/50\n",
            "596/596 [==============================] - 0s 179us/step - loss: 0.9234 - dense_76_loss: 0.1634 - dense_77_loss: 0.5250 - dense_78_loss: 0.2350 - dense_76_f1_m: 0.7769 - dense_76_f1_m_1: 0.7769 - dense_76_f1_m_2: 0.7769 - dense_77_f1_m: 0.9723 - dense_77_f1_m_1: 0.9723 - dense_77_f1_m_2: 0.9723 - dense_78_f1_m: 0.8314 - dense_78_f1_m_1: 0.8314 - dense_78_f1_m_2: 0.8314 - val_loss: 0.8321 - val_dense_76_loss: 0.0939 - val_dense_77_loss: 0.4846 - val_dense_78_loss: 0.2535 - val_dense_76_f1_m: 0.9442 - val_dense_76_f1_m_1: 0.9442 - val_dense_76_f1_m_2: 0.9442 - val_dense_77_f1_m: 0.9833 - val_dense_77_f1_m_1: 0.9833 - val_dense_77_f1_m_2: 0.9833 - val_dense_78_f1_m: 0.9196 - val_dense_78_f1_m_1: 0.9196 - val_dense_78_f1_m_2: 0.9196\n",
            "Epoch 33/50\n",
            "596/596 [==============================] - 0s 171us/step - loss: 0.8692 - dense_76_loss: 0.1383 - dense_77_loss: 0.4804 - dense_78_loss: 0.2505 - dense_76_f1_m: 0.8782 - dense_76_f1_m_1: 0.8782 - dense_76_f1_m_2: 0.8782 - dense_77_f1_m: 0.9698 - dense_77_f1_m_1: 0.9698 - dense_77_f1_m_2: 0.9698 - dense_78_f1_m: 0.8491 - dense_78_f1_m_1: 0.8491 - dense_78_f1_m_2: 0.8491 - val_loss: 0.9786 - val_dense_76_loss: 0.2962 - val_dense_77_loss: 0.3298 - val_dense_78_loss: 0.3526 - val_dense_76_f1_m: 0.7109 - val_dense_76_f1_m_1: 0.7109 - val_dense_76_f1_m_2: 0.7109 - val_dense_77_f1_m: 0.9734 - val_dense_77_f1_m_1: 0.9734 - val_dense_77_f1_m_2: 0.9734 - val_dense_78_f1_m: 0.9495 - val_dense_78_f1_m_1: 0.9495 - val_dense_78_f1_m_2: 0.9495\n",
            "Epoch 34/50\n",
            "596/596 [==============================] - 0s 169us/step - loss: 0.9256 - dense_76_loss: 0.1941 - dense_77_loss: 0.4695 - dense_78_loss: 0.2619 - dense_76_f1_m: 0.7780 - dense_76_f1_m_1: 0.7780 - dense_76_f1_m_2: 0.7780 - dense_77_f1_m: 0.9669 - dense_77_f1_m_1: 0.9669 - dense_77_f1_m_2: 0.9669 - dense_78_f1_m: 0.8520 - dense_78_f1_m_1: 0.8520 - dense_78_f1_m_2: 0.8520 - val_loss: 0.7493 - val_dense_76_loss: 0.1052 - val_dense_77_loss: 0.3835 - val_dense_78_loss: 0.2606 - val_dense_76_f1_m: 0.9442 - val_dense_76_f1_m_1: 0.9442 - val_dense_76_f1_m_2: 0.9442 - val_dense_77_f1_m: 0.9752 - val_dense_77_f1_m_1: 0.9752 - val_dense_77_f1_m_2: 0.9752 - val_dense_78_f1_m: 0.9294 - val_dense_78_f1_m_1: 0.9294 - val_dense_78_f1_m_2: 0.9294\n",
            "Epoch 35/50\n",
            "596/596 [==============================] - 0s 195us/step - loss: 0.8027 - dense_76_loss: 0.1563 - dense_77_loss: 0.3867 - dense_78_loss: 0.2596 - dense_76_f1_m: 0.8100 - dense_76_f1_m_1: 0.8100 - dense_76_f1_m_2: 0.8100 - dense_77_f1_m: 0.9749 - dense_77_f1_m_1: 0.9749 - dense_77_f1_m_2: 0.9749 - dense_78_f1_m: 0.8623 - dense_78_f1_m_1: 0.8623 - dense_78_f1_m_2: 0.8623 - val_loss: 0.7383 - val_dense_76_loss: 0.1013 - val_dense_77_loss: 0.3889 - val_dense_78_loss: 0.2481 - val_dense_76_f1_m: 0.9442 - val_dense_76_f1_m_1: 0.9442 - val_dense_76_f1_m_2: 0.9442 - val_dense_77_f1_m: 0.9793 - val_dense_77_f1_m_1: 0.9793 - val_dense_77_f1_m_2: 0.9793 - val_dense_78_f1_m: 0.9297 - val_dense_78_f1_m_1: 0.9297 - val_dense_78_f1_m_2: 0.9297\n",
            "Epoch 36/50\n",
            "596/596 [==============================] - 0s 181us/step - loss: 0.8614 - dense_76_loss: 0.1952 - dense_77_loss: 0.4270 - dense_78_loss: 0.2391 - dense_76_f1_m: 0.7836 - dense_76_f1_m_1: 0.7836 - dense_76_f1_m_2: 0.7836 - dense_77_f1_m: 0.9599 - dense_77_f1_m_1: 0.9599 - dense_77_f1_m_2: 0.9599 - dense_78_f1_m: 0.8578 - dense_78_f1_m_1: 0.8578 - dense_78_f1_m_2: 0.8578 - val_loss: 0.6926 - val_dense_76_loss: 0.1060 - val_dense_77_loss: 0.3303 - val_dense_78_loss: 0.2563 - val_dense_76_f1_m: 0.9442 - val_dense_76_f1_m_1: 0.9442 - val_dense_76_f1_m_2: 0.9442 - val_dense_77_f1_m: 0.9772 - val_dense_77_f1_m_1: 0.9772 - val_dense_77_f1_m_2: 0.9772 - val_dense_78_f1_m: 0.9378 - val_dense_78_f1_m_1: 0.9378 - val_dense_78_f1_m_2: 0.9378\n",
            "Epoch 37/50\n",
            "596/596 [==============================] - 0s 176us/step - loss: 0.6836 - dense_76_loss: 0.1283 - dense_77_loss: 0.3058 - dense_78_loss: 0.2495 - dense_76_f1_m: 0.8437 - dense_76_f1_m_1: 0.8437 - dense_76_f1_m_2: 0.8437 - dense_77_f1_m: 0.9816 - dense_77_f1_m_1: 0.9816 - dense_77_f1_m_2: 0.9816 - dense_78_f1_m: 0.8657 - dense_78_f1_m_1: 0.8657 - dense_78_f1_m_2: 0.8657 - val_loss: 0.6800 - val_dense_76_loss: 0.0972 - val_dense_77_loss: 0.3366 - val_dense_78_loss: 0.2462 - val_dense_76_f1_m: 0.9442 - val_dense_76_f1_m_1: 0.9442 - val_dense_76_f1_m_2: 0.9442 - val_dense_77_f1_m: 0.9833 - val_dense_77_f1_m_1: 0.9833 - val_dense_77_f1_m_2: 0.9833 - val_dense_78_f1_m: 0.9245 - val_dense_78_f1_m_1: 0.9245 - val_dense_78_f1_m_2: 0.9245\n",
            "Epoch 38/50\n",
            "596/596 [==============================] - 0s 166us/step - loss: 0.9544 - dense_76_loss: 0.2006 - dense_77_loss: 0.4574 - dense_78_loss: 0.2964 - dense_76_f1_m: 0.7518 - dense_76_f1_m_1: 0.7518 - dense_76_f1_m_2: 0.7518 - dense_77_f1_m: 0.9655 - dense_77_f1_m_1: 0.9655 - dense_77_f1_m_2: 0.9655 - dense_78_f1_m: 0.8472 - dense_78_f1_m_1: 0.8472 - dense_78_f1_m_2: 0.8472 - val_loss: 1.1081 - val_dense_76_loss: 0.4210 - val_dense_77_loss: 0.2462 - val_dense_78_loss: 0.4409 - val_dense_76_f1_m: 0.5391 - val_dense_76_f1_m_1: 0.5391 - val_dense_76_f1_m_2: 0.5391 - val_dense_77_f1_m: 0.9695 - val_dense_77_f1_m_1: 0.9695 - val_dense_77_f1_m_2: 0.9695 - val_dense_78_f1_m: 0.9378 - val_dense_78_f1_m_1: 0.9378 - val_dense_78_f1_m_2: 0.9378\n",
            "Epoch 39/50\n",
            "596/596 [==============================] - 0s 164us/step - loss: 0.8438 - dense_76_loss: 0.1533 - dense_77_loss: 0.4620 - dense_78_loss: 0.2284 - dense_76_f1_m: 0.8013 - dense_76_f1_m_1: 0.8013 - dense_76_f1_m_2: 0.8013 - dense_77_f1_m: 0.9635 - dense_77_f1_m_1: 0.9635 - dense_77_f1_m_2: 0.9635 - dense_78_f1_m: 0.8558 - dense_78_f1_m_1: 0.8558 - dense_78_f1_m_2: 0.8558 - val_loss: 0.6703 - val_dense_76_loss: 0.0958 - val_dense_77_loss: 0.3109 - val_dense_78_loss: 0.2637 - val_dense_76_f1_m: 0.9442 - val_dense_76_f1_m_1: 0.9442 - val_dense_76_f1_m_2: 0.9442 - val_dense_77_f1_m: 0.9813 - val_dense_77_f1_m_1: 0.9813 - val_dense_77_f1_m_2: 0.9813 - val_dense_78_f1_m: 0.9298 - val_dense_78_f1_m_1: 0.9298 - val_dense_78_f1_m_2: 0.9298\n",
            "Epoch 40/50\n",
            "596/596 [==============================] - 0s 186us/step - loss: 0.7777 - dense_76_loss: 0.1380 - dense_77_loss: 0.3708 - dense_78_loss: 0.2690 - dense_76_f1_m: 0.8164 - dense_76_f1_m_1: 0.8164 - dense_76_f1_m_2: 0.8164 - dense_77_f1_m: 0.9575 - dense_77_f1_m_1: 0.9575 - dense_77_f1_m_2: 0.9575 - dense_78_f1_m: 0.8667 - dense_78_f1_m_1: 0.8667 - dense_78_f1_m_2: 0.8667 - val_loss: 0.7768 - val_dense_76_loss: 0.2071 - val_dense_77_loss: 0.2519 - val_dense_78_loss: 0.3178 - val_dense_76_f1_m: 0.8750 - val_dense_76_f1_m_1: 0.8750 - val_dense_76_f1_m_2: 0.8750 - val_dense_77_f1_m: 0.9714 - val_dense_77_f1_m_1: 0.9714 - val_dense_77_f1_m_2: 0.9714 - val_dense_78_f1_m: 0.9515 - val_dense_78_f1_m_1: 0.9515 - val_dense_78_f1_m_2: 0.9515\n",
            "Epoch 41/50\n",
            "596/596 [==============================] - 0s 165us/step - loss: 0.7541 - dense_76_loss: 0.1480 - dense_77_loss: 0.3525 - dense_78_loss: 0.2535 - dense_76_f1_m: 0.7868 - dense_76_f1_m_1: 0.7868 - dense_76_f1_m_2: 0.7868 - dense_77_f1_m: 0.9630 - dense_77_f1_m_1: 0.9630 - dense_77_f1_m_2: 0.9630 - dense_78_f1_m: 0.8691 - dense_78_f1_m_1: 0.8691 - dense_78_f1_m_2: 0.8691 - val_loss: 0.7069 - val_dense_76_loss: 0.1731 - val_dense_77_loss: 0.2408 - val_dense_78_loss: 0.2930 - val_dense_76_f1_m: 0.8555 - val_dense_76_f1_m_1: 0.8555 - val_dense_76_f1_m_2: 0.8555 - val_dense_77_f1_m: 0.9773 - val_dense_77_f1_m_1: 0.9773 - val_dense_77_f1_m_2: 0.9773 - val_dense_78_f1_m: 0.9418 - val_dense_78_f1_m_1: 0.9418 - val_dense_78_f1_m_2: 0.9418\n",
            "Epoch 42/50\n",
            "596/596 [==============================] - 0s 183us/step - loss: 0.7689 - dense_76_loss: 0.1295 - dense_77_loss: 0.4000 - dense_78_loss: 0.2394 - dense_76_f1_m: 0.7771 - dense_76_f1_m_1: 0.7771 - dense_76_f1_m_2: 0.7771 - dense_77_f1_m: 0.9581 - dense_77_f1_m_1: 0.9581 - dense_77_f1_m_2: 0.9581 - dense_78_f1_m: 0.8651 - dense_78_f1_m_1: 0.8651 - dense_78_f1_m_2: 0.8651 - val_loss: 0.6536 - val_dense_76_loss: 0.1386 - val_dense_77_loss: 0.2493 - val_dense_78_loss: 0.2657 - val_dense_76_f1_m: 0.9442 - val_dense_76_f1_m_1: 0.9442 - val_dense_76_f1_m_2: 0.9442 - val_dense_77_f1_m: 0.9774 - val_dense_77_f1_m_1: 0.9774 - val_dense_77_f1_m_2: 0.9774 - val_dense_78_f1_m: 0.9459 - val_dense_78_f1_m_1: 0.9459 - val_dense_78_f1_m_2: 0.9459\n",
            "Epoch 43/50\n",
            "596/596 [==============================] - 0s 161us/step - loss: 0.6924 - dense_76_loss: 0.1341 - dense_77_loss: 0.2903 - dense_78_loss: 0.2680 - dense_76_f1_m: 0.8575 - dense_76_f1_m_1: 0.8575 - dense_76_f1_m_2: 0.8575 - dense_77_f1_m: 0.9657 - dense_77_f1_m_1: 0.9657 - dense_77_f1_m_2: 0.9657 - dense_78_f1_m: 0.8739 - dense_78_f1_m_1: 0.8739 - dense_78_f1_m_2: 0.8739 - val_loss: 0.5668 - val_dense_76_loss: 0.0958 - val_dense_77_loss: 0.2333 - val_dense_78_loss: 0.2377 - val_dense_76_f1_m: 0.9442 - val_dense_76_f1_m_1: 0.9442 - val_dense_76_f1_m_2: 0.9442 - val_dense_77_f1_m: 0.9814 - val_dense_77_f1_m_1: 0.9814 - val_dense_77_f1_m_2: 0.9814 - val_dense_78_f1_m: 0.9425 - val_dense_78_f1_m_1: 0.9425 - val_dense_78_f1_m_2: 0.9425\n",
            "Epoch 44/50\n",
            "596/596 [==============================] - 0s 175us/step - loss: 0.6467 - dense_76_loss: 0.1161 - dense_77_loss: 0.3123 - dense_78_loss: 0.2183 - dense_76_f1_m: 0.7985 - dense_76_f1_m_1: 0.7985 - dense_76_f1_m_2: 0.7985 - dense_77_f1_m: 0.9604 - dense_77_f1_m_1: 0.9604 - dense_77_f1_m_2: 0.9604 - dense_78_f1_m: 0.8708 - dense_78_f1_m_1: 0.8708 - dense_78_f1_m_2: 0.8708 - val_loss: 0.6057 - val_dense_76_loss: 0.1355 - val_dense_77_loss: 0.2224 - val_dense_78_loss: 0.2479 - val_dense_76_f1_m: 0.9219 - val_dense_76_f1_m_1: 0.9219 - val_dense_76_f1_m_2: 0.9219 - val_dense_77_f1_m: 0.9734 - val_dense_77_f1_m_1: 0.9734 - val_dense_77_f1_m_2: 0.9734 - val_dense_78_f1_m: 0.9440 - val_dense_78_f1_m_1: 0.9440 - val_dense_78_f1_m_2: 0.9440\n",
            "Epoch 45/50\n",
            "596/596 [==============================] - 0s 185us/step - loss: 0.6344 - dense_76_loss: 0.1320 - dense_77_loss: 0.2842 - dense_78_loss: 0.2182 - dense_76_f1_m: 0.8744 - dense_76_f1_m_1: 0.8744 - dense_76_f1_m_2: 0.8744 - dense_77_f1_m: 0.9630 - dense_77_f1_m_1: 0.9630 - dense_77_f1_m_2: 0.9630 - dense_78_f1_m: 0.8806 - dense_78_f1_m_1: 0.8806 - dense_78_f1_m_2: 0.8806 - val_loss: 0.5352 - val_dense_76_loss: 0.0549 - val_dense_77_loss: 0.2512 - val_dense_78_loss: 0.2291 - val_dense_76_f1_m: 0.9364 - val_dense_76_f1_m_1: 0.9364 - val_dense_76_f1_m_2: 0.9364 - val_dense_77_f1_m: 0.9733 - val_dense_77_f1_m_1: 0.9733 - val_dense_77_f1_m_2: 0.9733 - val_dense_78_f1_m: 0.9244 - val_dense_78_f1_m_1: 0.9244 - val_dense_78_f1_m_2: 0.9244\n",
            "Epoch 46/50\n",
            "596/596 [==============================] - 0s 165us/step - loss: 0.6727 - dense_76_loss: 0.1390 - dense_77_loss: 0.3009 - dense_78_loss: 0.2328 - dense_76_f1_m: 0.7757 - dense_76_f1_m_1: 0.7757 - dense_76_f1_m_2: 0.7757 - dense_77_f1_m: 0.9639 - dense_77_f1_m_1: 0.9639 - dense_77_f1_m_2: 0.9639 - dense_78_f1_m: 0.8584 - dense_78_f1_m_1: 0.8584 - dense_78_f1_m_2: 0.8584 - val_loss: 0.5195 - val_dense_76_loss: 0.0598 - val_dense_77_loss: 0.2307 - val_dense_78_loss: 0.2291 - val_dense_76_f1_m: 0.9442 - val_dense_76_f1_m_1: 0.9442 - val_dense_76_f1_m_2: 0.9442 - val_dense_77_f1_m: 0.9775 - val_dense_77_f1_m_1: 0.9775 - val_dense_77_f1_m_2: 0.9775 - val_dense_78_f1_m: 0.9299 - val_dense_78_f1_m_1: 0.9299 - val_dense_78_f1_m_2: 0.9299\n",
            "Epoch 47/50\n",
            "596/596 [==============================] - 0s 171us/step - loss: 0.7491 - dense_76_loss: 0.1550 - dense_77_loss: 0.3041 - dense_78_loss: 0.2900 - dense_76_f1_m: 0.8396 - dense_76_f1_m_1: 0.8396 - dense_76_f1_m_2: 0.8396 - dense_77_f1_m: 0.9671 - dense_77_f1_m_1: 0.9671 - dense_77_f1_m_2: 0.9671 - dense_78_f1_m: 0.8772 - dense_78_f1_m_1: 0.8772 - dense_78_f1_m_2: 0.8772 - val_loss: 0.7312 - val_dense_76_loss: 0.2265 - val_dense_77_loss: 0.2037 - val_dense_78_loss: 0.3010 - val_dense_76_f1_m: 0.7930 - val_dense_76_f1_m_1: 0.7930 - val_dense_76_f1_m_2: 0.7930 - val_dense_77_f1_m: 0.9674 - val_dense_77_f1_m_1: 0.9674 - val_dense_77_f1_m_2: 0.9674 - val_dense_78_f1_m: 0.9364 - val_dense_78_f1_m_1: 0.9364 - val_dense_78_f1_m_2: 0.9364\n",
            "Epoch 48/50\n",
            "596/596 [==============================] - 0s 162us/step - loss: 0.7664 - dense_76_loss: 0.1460 - dense_77_loss: 0.3886 - dense_78_loss: 0.2318 - dense_76_f1_m: 0.7883 - dense_76_f1_m_1: 0.7883 - dense_76_f1_m_2: 0.7883 - dense_77_f1_m: 0.9555 - dense_77_f1_m_1: 0.9555 - dense_77_f1_m_2: 0.9555 - dense_78_f1_m: 0.8537 - dense_78_f1_m_1: 0.8537 - dense_78_f1_m_2: 0.8537 - val_loss: 0.7344 - val_dense_76_loss: 0.1655 - val_dense_77_loss: 0.3165 - val_dense_78_loss: 0.2524 - val_dense_76_f1_m: 0.5915 - val_dense_76_f1_m_1: 0.5915 - val_dense_76_f1_m_2: 0.5915 - val_dense_77_f1_m: 0.9696 - val_dense_77_f1_m_1: 0.9696 - val_dense_77_f1_m_2: 0.9696 - val_dense_78_f1_m: 0.8333 - val_dense_78_f1_m_1: 0.8333 - val_dense_78_f1_m_2: 0.8333\n",
            "Epoch 49/50\n",
            "596/596 [==============================] - 0s 159us/step - loss: 0.8488 - dense_76_loss: 0.2241 - dense_77_loss: 0.3277 - dense_78_loss: 0.2970 - dense_76_f1_m: 0.7466 - dense_76_f1_m_1: 0.7466 - dense_76_f1_m_2: 0.7466 - dense_77_f1_m: 0.9496 - dense_77_f1_m_1: 0.9496 - dense_77_f1_m_2: 0.9496 - dense_78_f1_m: 0.8696 - dense_78_f1_m_1: 0.8696 - dense_78_f1_m_2: 0.8696 - val_loss: 0.6101 - val_dense_76_loss: 0.1015 - val_dense_77_loss: 0.2745 - val_dense_78_loss: 0.2341 - val_dense_76_f1_m: 0.7863 - val_dense_76_f1_m_1: 0.7863 - val_dense_76_f1_m_2: 0.7863 - val_dense_77_f1_m: 0.9774 - val_dense_77_f1_m_1: 0.9774 - val_dense_77_f1_m_2: 0.9774 - val_dense_78_f1_m: 0.8590 - val_dense_78_f1_m_1: 0.8590 - val_dense_78_f1_m_2: 0.8590\n",
            "Epoch 50/50\n",
            "596/596 [==============================] - 0s 160us/step - loss: 0.6532 - dense_76_loss: 0.1287 - dense_77_loss: 0.2837 - dense_78_loss: 0.2407 - dense_76_f1_m: 0.8193 - dense_76_f1_m_1: 0.8193 - dense_76_f1_m_2: 0.8193 - dense_77_f1_m: 0.9577 - dense_77_f1_m_1: 0.9577 - dense_77_f1_m_2: 0.9577 - dense_78_f1_m: 0.8683 - dense_78_f1_m_1: 0.8683 - dense_78_f1_m_2: 0.8683 - val_loss: 0.5127 - val_dense_76_loss: 0.0742 - val_dense_77_loss: 0.1951 - val_dense_78_loss: 0.2434 - val_dense_76_f1_m: 0.9238 - val_dense_76_f1_m_1: 0.9238 - val_dense_76_f1_m_2: 0.9238 - val_dense_77_f1_m: 0.9776 - val_dense_77_f1_m_1: 0.9776 - val_dense_77_f1_m_2: 0.9776 - val_dense_78_f1_m: 0.9190 - val_dense_78_f1_m_1: 0.9190 - val_dense_78_f1_m_2: 0.9190\n",
            "(420, 1)\n",
            "(420, 1)\n",
            "(420, 5)\n"
          ],
          "name": "stdout"
        }
      ]
    },
    {
      "cell_type": "code",
      "metadata": {
        "id": "casT5v9RXYa3",
        "colab_type": "code",
        "colab": {}
      },
      "source": [
        "db_wres = {}\n",
        "db_wres = {'yy1':yy1_w,'yy2':yy2_w,'yy3':yy3_w,'history':his_w}\n",
        "feed_data_to_pkl('weighted_res_hist',db_wres)\n",
        "feed_data_to_pkl('weighted_model',model_w)"
      ],
      "execution_count": 0,
      "outputs": []
    },
    {
      "cell_type": "code",
      "metadata": {
        "id": "m_4IyYtJLZc9",
        "colab_type": "code",
        "colab": {}
      },
      "source": [
        "y3_test_f =[]\n",
        "y3_train_f = []\n",
        "for i in range(len(y3_test)):\n",
        "  y3_test_f.append(np.argmax(y3_test[i]))\n",
        "for i in range(len(y3_train)):\n",
        "  y3_train_f.append(np.argmax(y3_train[i])) \n",
        "y3_train_f = np.array(y3_train_f)\n",
        "y3_test_f = np.array(y3_test_f)"
      ],
      "execution_count": 0,
      "outputs": []
    },
    {
      "cell_type": "code",
      "metadata": {
        "id": "jhRj8gyGKVyr",
        "colab_type": "code",
        "colab": {}
      },
      "source": [
        "yy1_b,yy2_b,yy3_b,his_bal,model_bal = fit_predict_balanced_model(X_train, y1_train.ravel(),y2_train.ravel(),\n",
        "                                                     y3_train_f, X_test, y1_test.ravel(),y2_test.ravel(),y3_test_f)"
      ],
      "execution_count": 0,
      "outputs": []
    },
    {
      "cell_type": "code",
      "metadata": {
        "trusted": true,
        "id": "LpJczJi2Zy04",
        "colab_type": "code",
        "outputId": "be339f4d-affb-43c5-f3df-11e7647beb9f",
        "colab": {
          "base_uri": "https://localhost:8080/",
          "height": 51
        }
      },
      "source": [
        "print(y3_train.shape)\n",
        "print(y3_test.shape)"
      ],
      "execution_count": 95,
      "outputs": [
        {
          "output_type": "stream",
          "text": [
            "(852, 5)\n",
            "(420, 5)\n"
          ],
          "name": "stdout"
        }
      ]
    },
    {
      "cell_type": "code",
      "metadata": {
        "id": "QvOU_KV6Oqm5",
        "colab_type": "code",
        "colab": {}
      },
      "source": [
        ""
      ],
      "execution_count": 0,
      "outputs": []
    },
    {
      "cell_type": "code",
      "metadata": {
        "trusted": true,
        "id": "0koQHAP6Zy1O",
        "colab_type": "code",
        "outputId": "6300fde9-3797-4162-93c3-c423f701a2f2",
        "colab": {}
      },
      "source": [
        "# evaluate the model\n",
        "f1score = model.evaluate(X_test, [y1_test,y2_test,y3_test])\n",
        "#classifier =KerasClassifier(build_fn=making_model(193), epochs=100, batch_size=10, verbose=0)"
      ],
      "execution_count": 0,
      "outputs": [
        {
          "output_type": "stream",
          "text": [
            "410/410 [==============================] - 0s 100us/step\n"
          ],
          "name": "stdout"
        }
      ]
    },
    {
      "cell_type": "code",
      "metadata": {
        "trusted": true,
        "id": "6-dbhek0Zy1R",
        "colab_type": "code",
        "outputId": "418fdbdb-bd4b-4bde-c948-6c2ef4796fc5",
        "colab": {}
      },
      "source": [
        "f1score"
      ],
      "execution_count": 0,
      "outputs": [
        {
          "output_type": "execute_result",
          "data": {
            "text/plain": [
              "[0.4752868788998301,\n",
              " 0.08234787732362747,\n",
              " 0.10622140020132065,\n",
              " 0.2854807674884796,\n",
              " 0.7038729786872864,\n",
              " 0.9776144623756409,\n",
              " 0.9295616149902344]"
            ]
          },
          "metadata": {
            "tags": []
          },
          "execution_count": 29
        }
      ]
    },
    {
      "cell_type": "code",
      "metadata": {
        "trusted": true,
        "id": "R-Bot_SNZy1W",
        "colab_type": "code",
        "colab": {}
      },
      "source": [
        "yy1,yy2,yy3 = model.predict(X_test)\n",
        "def normalise_op(yy1,yy2,yy3):\n",
        "  shape = yy3.shape\n",
        "  for i in range(0, shape[0]):\n",
        "    for j in range(0, shape[1]):\n",
        "      if yy3[i, j] >= 0.5:\n",
        "        yy3[i, j] = 1\n",
        "      else:\n",
        "        yy3[i, j] = 0\n",
        "  for i in range(0, shape[0]):\n",
        "    if yy2[i, 0] >= 0.5:\n",
        "      yy2[i, 0] = 1\n",
        "    else:\n",
        "      yy2[i, 0] = 0\n",
        "  for i in range(0, shape[0]):\n",
        "    if yy1[i, 0] >= 0.5:\n",
        "      yy1[i, 0] = 1\n",
        "    else:\n",
        "      yy1[i, 0] = 0  \n",
        "  return yy1,yy2,yy3\n",
        "yy1,yy2,yy3 = normalise_op(yy1,yy2,yy3)"
      ],
      "execution_count": 0,
      "outputs": []
    },
    {
      "cell_type": "code",
      "metadata": {
        "trusted": true,
        "id": "iyZoEg66Zy1Z",
        "colab_type": "code",
        "colab": {}
      },
      "source": [
        "res_pred=np.empty(shape=(len(yy3),1),dtype=int)\n",
        "res_ex = np.empty(shape=(len(yy3),1),dtype=int)"
      ],
      "execution_count": 0,
      "outputs": []
    },
    {
      "cell_type": "code",
      "metadata": {
        "trusted": true,
        "id": "0kszRdbmZy1c",
        "colab_type": "code",
        "colab": {}
      },
      "source": [
        "for i in range(len(yy3)):\n",
        "    res_pred[i] = argmax(yy3[i])\n",
        "    res_ex[i] = argmax(y3_test[i])\n",
        "    #print(argmax(yy3[i]))\n",
        "    #print(y3_test[i])\n",
        "    #print(\"--------------------------------------------\")"
      ],
      "execution_count": 0,
      "outputs": []
    },
    {
      "cell_type": "code",
      "metadata": {
        "trusted": true,
        "id": "G99HuFWBZy1e",
        "colab_type": "code",
        "outputId": "927e4c38-d590-4c49-d9aa-63a608affccd",
        "colab": {}
      },
      "source": [
        "print(confusion_matrix(y1_test,yy1))\n",
        "print(classification_report(y1_test,yy1))"
      ],
      "execution_count": 0,
      "outputs": [
        {
          "output_type": "stream",
          "text": [
            "[[374   1]\n",
            " [ 10  25]]\n",
            "              precision    recall  f1-score   support\n",
            "\n",
            "           0       0.97      1.00      0.99       375\n",
            "           1       0.96      0.71      0.82        35\n",
            "\n",
            "    accuracy                           0.97       410\n",
            "   macro avg       0.97      0.86      0.90       410\n",
            "weighted avg       0.97      0.97      0.97       410\n",
            "\n"
          ],
          "name": "stdout"
        }
      ]
    },
    {
      "cell_type": "code",
      "metadata": {
        "trusted": true,
        "id": "ZmdDCgQBZy1h",
        "colab_type": "code",
        "outputId": "106cb1a9-8b24-4ee0-fa76-8febef35e851",
        "colab": {}
      },
      "source": [
        "print(confusion_matrix(y2_test,yy2))\n",
        "print(classification_report(y2_test,yy2))"
      ],
      "execution_count": 0,
      "outputs": [
        {
          "output_type": "stream",
          "text": [
            "[[ 14   8]\n",
            " [  9 379]]\n",
            "              precision    recall  f1-score   support\n",
            "\n",
            "           0       0.61      0.64      0.62        22\n",
            "           1       0.98      0.98      0.98       388\n",
            "\n",
            "    accuracy                           0.96       410\n",
            "   macro avg       0.79      0.81      0.80       410\n",
            "weighted avg       0.96      0.96      0.96       410\n",
            "\n"
          ],
          "name": "stdout"
        }
      ]
    },
    {
      "cell_type": "code",
      "metadata": {
        "trusted": true,
        "id": "M-wNbOaTZy1j",
        "colab_type": "code",
        "outputId": "ce79b42e-42c8-4290-b253-8d8305018b99",
        "colab": {}
      },
      "source": [
        "confusion_matrix(res_ex,res_pred)"
      ],
      "execution_count": 0,
      "outputs": [
        {
          "output_type": "execute_result",
          "data": {
            "text/plain": [
              "array([[371,   0,   0,   6,   0],\n",
              "       [ 13,   0,   0,   0,   0],\n",
              "       [ 17,   0,   0,   1,   0],\n",
              "       [  0,   0,   0,   0,   0],\n",
              "       [  2,   0,   0,   0,   0]])"
            ]
          },
          "metadata": {
            "tags": []
          },
          "execution_count": 36
        }
      ]
    },
    {
      "cell_type": "code",
      "metadata": {
        "trusted": true,
        "id": "lP6vd4aqZy1m",
        "colab_type": "code",
        "outputId": "d00b126d-bc83-4caa-ab01-94d0ee53c454",
        "colab": {}
      },
      "source": [
        "model.summary()"
      ],
      "execution_count": 0,
      "outputs": [
        {
          "output_type": "stream",
          "text": [
            "Model: \"model_1\"\n",
            "__________________________________________________________________________________________________\n",
            "Layer (type)                    Output Shape         Param #     Connected to                     \n",
            "==================================================================================================\n",
            "input_1 (InputLayer)            (None, 193)          0                                            \n",
            "__________________________________________________________________________________________________\n",
            "sequential_1 (Sequential)       (None, 193)          0           input_1[0][0]                    \n",
            "__________________________________________________________________________________________________\n",
            "dense_1 (Dense)                 (None, 40)           7760        sequential_1[1][0]               \n",
            "__________________________________________________________________________________________________\n",
            "batch_normalization_1 (BatchNor (None, 40)           160         dense_1[0][0]                    \n",
            "__________________________________________________________________________________________________\n",
            "dropout_1 (Dropout)             (None, 40)           0           batch_normalization_1[0][0]      \n",
            "__________________________________________________________________________________________________\n",
            "dense_2 (Dense)                 (None, 20)           820         dropout_1[0][0]                  \n",
            "__________________________________________________________________________________________________\n",
            "batch_normalization_2 (BatchNor (None, 20)           80          dense_2[0][0]                    \n",
            "__________________________________________________________________________________________________\n",
            "dropout_2 (Dropout)             (None, 20)           0           batch_normalization_2[0][0]      \n",
            "__________________________________________________________________________________________________\n",
            "dense_3 (Dense)                 (None, 8)            168         dropout_2[0][0]                  \n",
            "__________________________________________________________________________________________________\n",
            "batch_normalization_3 (BatchNor (None, 8)            32          dense_3[0][0]                    \n",
            "__________________________________________________________________________________________________\n",
            "dropout_3 (Dropout)             (None, 8)            0           batch_normalization_3[0][0]      \n",
            "__________________________________________________________________________________________________\n",
            "dense_4 (Dense)                 (None, 1)            9           dropout_3[0][0]                  \n",
            "__________________________________________________________________________________________________\n",
            "dense_5 (Dense)                 (None, 1)            9           dropout_3[0][0]                  \n",
            "__________________________________________________________________________________________________\n",
            "dense_6 (Dense)                 (None, 5)            45          dropout_3[0][0]                  \n",
            "==================================================================================================\n",
            "Total params: 9,083\n",
            "Trainable params: 8,947\n",
            "Non-trainable params: 136\n",
            "__________________________________________________________________________________________________\n"
          ],
          "name": "stdout"
        }
      ]
    },
    {
      "cell_type": "code",
      "metadata": {
        "trusted": true,
        "id": "4HsxCSq3Zy1o",
        "colab_type": "code",
        "outputId": "8a22a87e-0740-4b00-d2c6-f0ef7ad51e4b",
        "colab": {}
      },
      "source": [
        "print(f1_score(res_ex,res_pred,average='weighted'))\n",
        "print(precision_score(res_ex,res_pred,average='weighted'))\n",
        "print(recall_score(res_ex,res_pred,average='weighted'))"
      ],
      "execution_count": 0,
      "outputs": [
        {
          "output_type": "stream",
          "text": [
            "0.8747154471544717\n",
            "0.8464988198269079\n",
            "0.9048780487804878\n"
          ],
          "name": "stdout"
        },
        {
          "output_type": "stream",
          "text": [
            "/opt/conda/lib/python3.6/site-packages/sklearn/metrics/classification.py:1437: UndefinedMetricWarning: F-score is ill-defined and being set to 0.0 in labels with no predicted samples.\n",
            "  'precision', 'predicted', average, warn_for)\n",
            "/opt/conda/lib/python3.6/site-packages/sklearn/metrics/classification.py:1439: UndefinedMetricWarning: F-score is ill-defined and being set to 0.0 in labels with no true samples.\n",
            "  'recall', 'true', average, warn_for)\n",
            "/opt/conda/lib/python3.6/site-packages/sklearn/metrics/classification.py:1437: UndefinedMetricWarning: Precision is ill-defined and being set to 0.0 in labels with no predicted samples.\n",
            "  'precision', 'predicted', average, warn_for)\n",
            "/opt/conda/lib/python3.6/site-packages/sklearn/metrics/classification.py:1439: UndefinedMetricWarning: Recall is ill-defined and being set to 0.0 in labels with no true samples.\n",
            "  'recall', 'true', average, warn_for)\n"
          ],
          "name": "stderr"
        }
      ]
    },
    {
      "cell_type": "code",
      "metadata": {
        "trusted": true,
        "id": "QgWDA_e0Zy1s",
        "colab_type": "code",
        "outputId": "1c5d292d-5a22-4b4d-8b5e-8a7a8718ebb9",
        "colab": {}
      },
      "source": [
        "print(f1_score(res_ex,res_pred,average='micro'))\n",
        "print(precision_score(res_ex,res_pred,average='micro'))\n",
        "print(recall_score(res_ex,res_pred,average='micro'))"
      ],
      "execution_count": 0,
      "outputs": [
        {
          "output_type": "stream",
          "text": [
            "0.9048780487804878\n",
            "0.9048780487804878\n",
            "0.9048780487804878\n"
          ],
          "name": "stdout"
        }
      ]
    },
    {
      "cell_type": "code",
      "metadata": {
        "trusted": true,
        "id": "kBaOW2W3Zy1v",
        "colab_type": "code",
        "outputId": "346d37f7-99a1-4563-a659-3ab237adcda4",
        "colab": {}
      },
      "source": [
        "accuracy_score(res_ex,res_pred)"
      ],
      "execution_count": 0,
      "outputs": [
        {
          "output_type": "execute_result",
          "data": {
            "text/plain": [
              "0.9048780487804878"
            ]
          },
          "metadata": {
            "tags": []
          },
          "execution_count": 40
        }
      ]
    },
    {
      "cell_type": "code",
      "metadata": {
        "trusted": true,
        "id": "WxdXsxJ5Zy1y",
        "colab_type": "code",
        "outputId": "22a2c6d3-9148-4441-fcb0-266122b541b9",
        "colab": {}
      },
      "source": [
        "print(f1_score(res_ex,res_pred,average='macro'))\n",
        "print(precision_score(res_ex,res_pred,average='macro'))\n",
        "print(recall_score(res_ex,res_pred,average='macro'))"
      ],
      "execution_count": 0,
      "outputs": [
        {
          "output_type": "stream",
          "text": [
            "0.19025641025641027\n",
            "0.18411910669975187\n",
            "0.19681697612732096\n"
          ],
          "name": "stdout"
        }
      ]
    },
    {
      "cell_type": "code",
      "metadata": {
        "trusted": true,
        "id": "yCu81Ic2Zy10",
        "colab_type": "code",
        "colab": {}
      },
      "source": [
        "from imblearn.keras import BalancedBatchGenerator\n",
        "from sklearn.metrics import roc_auc_score\n",
        "\n",
        "def fit_predict_balanced_model(X_train, y_train, X_test, y_test):\n",
        "    model = classifier\n",
        "    training_generator = BalancedBatchGenerator(X_train, y_train)\n",
        "    model.fit_generator(generator=training_generator,epochs=100,verbose=1)\n",
        "    y_pred = model.predict_proba(X_test)\n",
        "    print(classification_report(y_test, y_pred))\n",
        "    return roc_auc_score(y_test, y_pred)\n",
        "res = fit_predict_balanced_model(X_train, y_train, X_test, y_test)"
      ],
      "execution_count": 0,
      "outputs": []
    },
    {
      "cell_type": "code",
      "metadata": {
        "trusted": true,
        "id": "olPs6zgJZy12",
        "colab_type": "code",
        "colab": {}
      },
      "source": [
        "classifier"
      ],
      "execution_count": 0,
      "outputs": []
    },
    {
      "cell_type": "code",
      "metadata": {
        "trusted": true,
        "id": "3OAt4Af-Zy15",
        "colab_type": "code",
        "colab": {}
      },
      "source": [
        "model"
      ],
      "execution_count": 0,
      "outputs": []
    },
    {
      "cell_type": "code",
      "metadata": {
        "colab_type": "code",
        "id": "7qAVm6BttvHG",
        "trusted": true,
        "colab": {}
      },
      "source": [
        "# Fitting our model \n",
        "import eli5\n",
        "from eli5.sklearn import PermutationImportance\n",
        "\n",
        "history=model.fit(X_train, y_train,validation_data=(X_test, y_test),nb_epoch = 100)\n",
        "#history=classifier.fit(X,y,validation_data=(X_test, y_test), batch_size = 10, nb_epoch = 100)\n",
        "#acc = []\n",
        "# Predicting the Test set results"
      ],
      "execution_count": 0,
      "outputs": []
    },
    {
      "cell_type": "code",
      "metadata": {
        "colab_type": "code",
        "id": "4iXz1qF3tvJY",
        "trusted": true,
        "colab": {}
      },
      "source": [
        "# F1 score\n",
        "f1_score(y_test,y_pred)"
      ],
      "execution_count": 0,
      "outputs": []
    }
  ]
}