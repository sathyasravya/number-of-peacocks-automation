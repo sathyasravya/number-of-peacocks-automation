{
  "nbformat": 4,
  "nbformat_minor": 0,
  "metadata": {
    "colab": {
      "name": "copy_btp_post_1.ipynb",
      "provenance": [],
      "collapsed_sections": [],
      "toc_visible": true,
      "include_colab_link": true
    },
    "kernelspec": {
      "display_name": "Python 3",
      "language": "python",
      "name": "python3"
    },
    "language_info": {
      "codemirror_mode": {
        "name": "ipython",
        "version": 3
      },
      "file_extension": ".py",
      "mimetype": "text/x-python",
      "name": "python",
      "nbconvert_exporter": "python",
      "pygments_lexer": "ipython3",
      "version": "3.5.2"
    }
  },
  "cells": [
    {
      "cell_type": "markdown",
      "metadata": {
        "id": "view-in-github",
        "colab_type": "text"
      },
      "source": [
        "<a href=\"https://colab.research.google.com/github/sathyasravya/number-of-peacocks-automation/blob/master/copy_btp_post_1_2.ipynb\" target=\"_parent\"><img src=\"https://colab.research.google.com/assets/colab-badge.svg\" alt=\"Open In Colab\"/></a>"
      ]
    },
    {
      "cell_type": "code",
      "metadata": {
        "colab_type": "code",
        "id": "g9_aGJP3tvF4",
        "trusted": true,
        "colab": {}
      },
      "source": [
        "import glob\n",
        "import os\n",
        "import librosa\n",
        "import numpy as np\n",
        "import seaborn as sns\n",
        "import wave\n",
        "import contextlib\n",
        "import pandas as pd\n",
        "\n",
        "from sklearn.metrics import accuracy_score,classification_report,f1_score\n",
        "import matplotlib.pyplot as plt\n",
        "from matplotlib.pyplot import specgram\n",
        "%matplotlib inline\n",
        "plt.style.use('ggplot')\n",
        "\n",
        "plt.rcParams['font.family'] = 'serif'\n",
        "plt.rcParams['font.serif'] = 'Ubuntu'\n",
        "plt.rcParams['font.monospace'] = 'Ubuntu Mono'\n",
        "plt.rcParams['font.size'] = 12\n",
        "plt.rcParams['axes.labelsize'] = 11\n",
        "plt.rcParams['axes.labelweight'] = 'bold'\n",
        "plt.rcParams['axes.titlesize'] = 14\n",
        "plt.rcParams['xtick.labelsize'] = 10\n",
        "plt.rcParams['ytick.labelsize'] = 10\n",
        "plt.rcParams['legend.fontsize'] = 11\n",
        "plt.rcParams['figure.titlesize'] = 13"
      ],
      "execution_count": 0,
      "outputs": []
    },
    {
      "cell_type": "code",
      "metadata": {
        "id": "l4bRI1pyaDS8",
        "colab_type": "code",
        "colab": {
          "base_uri": "https://localhost:8080/",
          "height": 122
        },
        "outputId": "70a489e4-3da9-4c1a-e493-052a2522c639"
      },
      "source": [
        "from google.colab import drive\n",
        "drive.mount('/content/drive')"
      ],
      "execution_count": 2,
      "outputs": [
        {
          "output_type": "stream",
          "text": [
            "Go to this URL in a browser: https://accounts.google.com/o/oauth2/auth?client_id=947318989803-6bn6qk8qdgf4n4g3pfee6491hc0brc4i.apps.googleusercontent.com&redirect_uri=urn%3Aietf%3Awg%3Aoauth%3A2.0%3Aoob&scope=email%20https%3A%2F%2Fwww.googleapis.com%2Fauth%2Fdocs.test%20https%3A%2F%2Fwww.googleapis.com%2Fauth%2Fdrive%20https%3A%2F%2Fwww.googleapis.com%2Fauth%2Fdrive.photos.readonly%20https%3A%2F%2Fwww.googleapis.com%2Fauth%2Fpeopleapi.readonly&response_type=code\n",
            "\n",
            "Enter your authorization code:\n",
            "··········\n",
            "Mounted at /content/drive\n"
          ],
          "name": "stdout"
        }
      ]
    },
    {
      "cell_type": "code",
      "metadata": {
        "trusted": true,
        "id": "4whjGG3mZyzq",
        "colab_type": "code",
        "outputId": "3542266f-f207-477a-facc-0107fa28f2c9",
        "colab": {
          "base_uri": "https://localhost:8080/",
          "height": 34
        }
      },
      "source": [
        "s = \"02 Eow_peacock_2.WAV\"\n",
        "s.split(\"_\")\n",
        "#print(fn.split('_')[-1]=='2.WAV')"
      ],
      "execution_count": 3,
      "outputs": [
        {
          "output_type": "execute_result",
          "data": {
            "text/plain": [
              "['02 Eow', 'peacock', '2.WAV']"
            ]
          },
          "metadata": {
            "tags": []
          },
          "execution_count": 3
        }
      ]
    },
    {
      "cell_type": "markdown",
      "metadata": {
        "colab_type": "text",
        "id": "ovHpIKfEtvGG"
      },
      "source": [
        "# Features plots - Code"
      ]
    },
    {
      "cell_type": "code",
      "metadata": {
        "colab_type": "code",
        "id": "CGCfJPgjtvGM",
        "trusted": true,
        "colab": {}
      },
      "source": [
        "def load_sound_files(file_paths):\n",
        "    raw_sounds = []\n",
        "    for fp in file_paths:\n",
        "        X,sr = librosa.load(fp)\n",
        "        raw_sounds.append(X)\n",
        "    return raw_sounds\n",
        "\n",
        "def plot_waves(sound_names,raw_sounds):\n",
        "    i = 1\n",
        "    fig = plt.figure(figsize=(25,60), dpi = 900)\n",
        "    for n,f in zip(sound_names,raw_sounds):\n",
        "        plt.subplot(10,1,i)\n",
        "        librosa.display.waveplot(np.array(f),sr=22050)\n",
        "        plt.title(n.title())\n",
        "        i += 1\n",
        "    plt.suptitle('Figure 1: Waveplot',x=0.5, y=0.915,fontsize=18)\n",
        "    plt.show()\n",
        "    \n",
        "def plot_specgram(sound_names,raw_sounds):\n",
        "    i = 1\n",
        "    fig = plt.figure(figsize=(25,60), dpi = 900)\n",
        "    for n,f in zip(sound_names,raw_sounds):\n",
        "        plt.subplot(10,1,i)\n",
        "        specgram(np.array(f), Fs=22050)\n",
        "        plt.title(n.title())\n",
        "        i += 1\n",
        "    plt.suptitle('Figure 2: Spectrogram',x=0.5, y=0.915,fontsize=18)\n",
        "    plt.show()\n",
        "\n",
        "def plot_log_power_specgram(sound_names,raw_sounds):\n",
        "    i = 1\n",
        "    fig = plt.figure(figsize=(25,60), dpi = 900)\n",
        "    for n,f in zip(sound_names,raw_sounds):\n",
        "        plt.subplot(10,1,i)\n",
        "        D = librosa.logamplitude(np.abs(librosa.stft(f))**2, ref_power=np.max)\n",
        "        librosa.display.specshow(D,x_axis='time' ,y_axis='log')\n",
        "        plt.title(n.title())\n",
        "        i += 1\n",
        "    plt.suptitle('Figure 3: Log power spectrogram',x=0.5, y=0.915,fontsize=18)\n",
        "    plt.show()"
      ],
      "execution_count": 0,
      "outputs": []
    },
    {
      "cell_type": "markdown",
      "metadata": {
        "colab_type": "text",
        "id": "ndXOjzE0tvGT"
      },
      "source": [
        "# Extracting features"
      ]
    },
    {
      "cell_type": "code",
      "metadata": {
        "colab_type": "code",
        "id": "CRakr1AetvGW",
        "trusted": true,
        "colab": {}
      },
      "source": [
        "def extract_feature(file_name):\n",
        "    X, sample_rate = librosa.load(file_name)\n",
        "    stft = np.abs(librosa.stft(X))\n",
        "    mfccs = np.mean(librosa.feature.mfcc(y=X, sr=sample_rate, n_mfcc=40).T,axis=0)\n",
        "    chroma = np.mean(librosa.feature.chroma_stft(S=stft, sr=sample_rate).T,axis=0)\n",
        "    mel = np.mean(librosa.feature.melspectrogram(X, sr=sample_rate).T,axis=0)\n",
        "    contrast = np.mean(librosa.feature.spectral_contrast(S=stft, sr=sample_rate).T,axis=0)\n",
        "    tonnetz = np.mean(librosa.feature.tonnetz(y=librosa.effects.harmonic(X), sr=sample_rate).T,axis=0)\n",
        "    #print(chroma.shape)\n",
        "    #print(\"chroma\")\n",
        "    #print(mfccs.shape)\n",
        "    #print(\"mfccs\")\n",
        "    #print(mel.shape)\n",
        "    #print(\"mels\")\n",
        "    #print(contrast.shape)\n",
        "    #print(\"contrast\")\n",
        "    #print(tonnetz.shape)\n",
        "    #print(\"tonnetz\")    \n",
        "    return mfccs,chroma,mel,contrast,tonnetz\n",
        "\n",
        "def parse_audio_files(parent_dir,sub_dirs,file_ext='*.wav'):\n",
        "    d=0\n",
        "    duration1 = []\n",
        "    duration2 = []\n",
        "    for label, sub_dir in enumerate(sub_dirs):\n",
        "        for fn in glob.glob(os.path.join(parent_dir,sub_dir,file_ext)):\n",
        "            with contextlib.closing(wave.open(fn,'r')) as f:\n",
        "                frames = f.getnframes()\n",
        "                rate = f.getframerate()\n",
        "                duration = frames / float(rate)\n",
        "                #print(pd.Series(fn.split('_')).unique())\n",
        "                #print(d,duration)\n",
        "                d=d+1\n",
        "                #print(\" \")\n",
        "                #dn=0\n",
        "                if(sub_dir!='noise_set'):\n",
        "                    #if(duration<0):\n",
        "                    #    dn =dn+1\n",
        "                    duration1.append(duration)  \n",
        "                else:\n",
        "                    duration2.append(duration)\n",
        "            \n",
        "    return duration1,duration2"
      ],
      "execution_count": 0,
      "outputs": []
    },
    {
      "cell_type": "code",
      "metadata": {
        "trusted": true,
        "id": "Qtu4lVc0Zyz4",
        "colab_type": "code",
        "colab": {}
      },
      "source": [
        "def parse_audio_files2(parent_dir,sub_dirs):\n",
        "    features = np.empty((0,193))\n",
        "    finlabel = np.empty((0,3))\n",
        "    labells=[]\n",
        "    labells1=np.empty(0) \n",
        "    labells2=np.empty(0) \n",
        "    d=0\n",
        "    fns = []\n",
        "    labels=[]\n",
        "    label1s=[]\n",
        "    label2s=[]\n",
        "    for label, sub_dir in enumerate(sub_dirs):\n",
        "        print(sub_dir)\n",
        "        if(sub_dir =='iid' or sub_dir=='Kaan' or sub_dir =='extra_mp3'):\n",
        "          file_ext='*.WAV'\n",
        "        else:\n",
        "          file_ext='*.wav'        \n",
        "       # print(glob.glob(os.path.join(parent_dir,sub_dir,file_ext)))\n",
        "        for fn in glob.glob(os.path.join(parent_dir,sub_dir,file_ext)):\n",
        "            #print(\"heyyy0\")\n",
        "            mfccs, chroma, mel, contrast,tonnetz = extract_feature(fn)\n",
        "            ext_features = np.hstack([mfccs,chroma,mel,contrast,tonnetz])\n",
        "          #  print(\"ext_features\")\n",
        "          #  print(ext_features.shape)\n",
        "            features = np.vstack([features,ext_features])\n",
        "          #  print(\"features\")\n",
        "          #  print(features.shape)\n",
        "           # if(sub_dir != 'extra_mp3'):\n",
        "            if(sub_dir!='noise_set'):\n",
        "              #print(\"heyyy2\")\n",
        "              label =\"1\"\n",
        "              d = d+1\n",
        "              if (len(fn.split('_'))>=6):\n",
        "                label1 = \"1\"\n",
        "              else:\n",
        "                label1=\"0\"\n",
        "                label=\"1\"\n",
        "             #   print(\"heyyy3\")\n",
        "              if(sub_dir=='TRIM_old' or sub_dir=='extra_mp3'):\n",
        "                #print(\"heyyy1\")\n",
        "                if(fn.split('_')[-1]=='2.wav'or fn.split('_')[-1]=='2.WAV'):\n",
        "                  label2=\"2\"\n",
        "                if(fn.split('_')[-1]=='3.wav'or fn.split('_')[-1]=='3.WAV'):\n",
        "                  label2=\"3\"   \n",
        "                if(fn.split('_')[-1]=='1.wav'or fn.split('_')[-1]=='1.WAV'):\n",
        "                  label2=\"1\"\n",
        "                if(fn.split('_')[-1]=='MI.wav'or fn.split('_')[-1]=='MI.WAV'):\n",
        "                  label2=\"4\"\n",
        "                if(fn.split('_')[3]=='Multiplepeacock'):\n",
        "                  label2 = \"4\"\n",
        "                else:\n",
        "                  label2 =\"1\"\n",
        "              else:\n",
        "                if(fn.split('_')[-1]=='1.wav' or fn.split('_')[-1]=='1.WAV'):\n",
        "                  label2=\"1\"\n",
        "                elif(fn.split('_')[-1]=='2.wav' or fn.split('_')[-1]=='2.WAV'):\n",
        "                  label2 =\"2\" \n",
        "                elif(fn.split('_')[-1]=='3.wav' or fn.split('_')[-1]=='3.WAV'):\n",
        "                  label2 =\"3\"\n",
        "                elif(fn.split('_')[-1]=='MI.wav' or fn.split('_')[-1]=='3or4.wav' or fn.split('_')[-1]=='3or4.WAV' or fn.split('_')[-1]=='MI.WAV'):\n",
        "                  label2 =\"4\"                        \n",
        "                else:\n",
        "                  label2 =\"0\"\n",
        "                            \n",
        "            else:\n",
        "              label =\"0\"\n",
        "              label1=\"1\"\n",
        "              label2 =\"0\"\n",
        "           # print(\"heyyy\")\n",
        "            #print(label,label1,label2)\n",
        "            fns.append(fn.split('_')[1:])\n",
        "            use = np.hstack([label,label1,label2])\n",
        "            finlabel = np.vstack([finlabel,use])\n",
        "            labels.append(label)\n",
        "            label1s.append(label1)\n",
        "            label2s.append(label2)\n",
        "    return(fns, np.array(features), np.array(finlabel),np.array(labels), np.array(label1s), np.array(label2s))"
      ],
      "execution_count": 0,
      "outputs": []
    },
    {
      "cell_type": "markdown",
      "metadata": {
        "id": "3ewBs9DWZyz7",
        "colab_type": "text"
      },
      "source": [
        "> #  Feed Train & Test Data "
      ]
    },
    {
      "cell_type": "code",
      "metadata": {
        "colab_type": "code",
        "id": "yi23reLvtvGh",
        "trusted": true,
        "_kg_hide-output": true,
        "colab": {}
      },
      "source": [
        "parent_dir = '/content/drive/My Drive/Colab Notebooks/data' #/content/drive/My Drive/Colab Notebooks/data\n",
        "sub_dirs = ['iid','Kaan','C_new2','TRIM_old','A_new1','trimmed_new3','noise_set','Chincholi'] #train dirs\n",
        "sub_dirs2 = ['extra_mp3']\n",
        "duration1,duration2= parse_audio_files(parent_dir,sub_dirs)"
      ],
      "execution_count": 0,
      "outputs": []
    },
    {
      "cell_type": "code",
      "metadata": {
        "id": "D86MaGIrpZeQ",
        "colab_type": "code",
        "colab": {}
      },
      "source": [
        "#duration1"
      ],
      "execution_count": 0,
      "outputs": []
    },
    {
      "cell_type": "code",
      "metadata": {
        "trusted": true,
        "id": "3lfrksU5Zy0A",
        "colab_type": "code",
        "colab": {}
      },
      "source": [
        "dafr = pd.DataFrame()\n",
        "dafr[\"peacock_audio_durations\"] = pd.Series(duration1)\n",
        "dafr[\"noise_durations\"] = pd.Series(duration2)\n",
        "dafr.to_pickle('/content/drive/My Drive/Colab Notebooks/filedurations.pkl')"
      ],
      "execution_count": 0,
      "outputs": []
    },
    {
      "cell_type": "markdown",
      "metadata": {
        "id": "uy4n_DIzZy0D",
        "colab_type": "text"
      },
      "source": [
        "# Data Distribution"
      ]
    },
    {
      "cell_type": "code",
      "metadata": {
        "trusted": true,
        "id": "u-oT5HlxZy0E",
        "colab_type": "code",
        "outputId": "1d64f959-e54b-4ccb-9d54-d38c295352d9",
        "colab": {
          "base_uri": "https://localhost:8080/",
          "height": 275
        }
      },
      "source": [
        "sns.set(style=\"whitegrid\")\n",
        "ax = sns.violinplot(data=dafr)"
      ],
      "execution_count": 13,
      "outputs": [
        {
          "output_type": "display_data",
          "data": {
            "image/png": "[encoded data removed]",
            "text/plain": [
              "<Figure size 432x288 with 1 Axes>"
            ]
          },
          "metadata": {
            "tags": []
          }
        }
      ]
    },
    {
      "cell_type": "code",
      "metadata": {
        "trusted": true,
        "id": "ax6qc3R5Zy0I",
        "colab_type": "code",
        "outputId": "07585757-dd7f-4a30-f5f2-be831dd6d69b",
        "colab": {
          "base_uri": "https://localhost:8080/",
          "height": 309
        }
      },
      "source": [
        "fn,features,final_labels,label,label1,label2 = parse_audio_files2(parent_dir,sub_dirs)"
      ],
      "execution_count": 76,
      "outputs": [
        {
          "output_type": "stream",
          "text": [
            "iid\n",
            "Kaan\n",
            "C_new2\n",
            "TRIM_old\n",
            "A_new1\n",
            "trimmed_new3\n",
            "noise_set\n"
          ],
          "name": "stdout"
        },
        {
          "output_type": "stream",
          "text": [
            "/usr/local/lib/python3.6/dist-packages/librosa/core/pitch.py:145: UserWarning: Trying to estimate tuning from empty frequency set.\n",
            "  warnings.warn('Trying to estimate tuning from empty frequency set.')\n",
            "/usr/local/lib/python3.6/dist-packages/librosa/core/pitch.py:145: UserWarning: Trying to estimate tuning from empty frequency set.\n",
            "  warnings.warn('Trying to estimate tuning from empty frequency set.')\n",
            "/usr/local/lib/python3.6/dist-packages/librosa/core/pitch.py:145: UserWarning: Trying to estimate tuning from empty frequency set.\n",
            "  warnings.warn('Trying to estimate tuning from empty frequency set.')\n",
            "/usr/local/lib/python3.6/dist-packages/librosa/core/pitch.py:145: UserWarning: Trying to estimate tuning from empty frequency set.\n",
            "  warnings.warn('Trying to estimate tuning from empty frequency set.')\n"
          ],
          "name": "stderr"
        },
        {
          "output_type": "stream",
          "text": [
            "Chincholi\n"
          ],
          "name": "stdout"
        }
      ]
    },
    {
      "cell_type": "code",
      "metadata": {
        "id": "QcLhnMhB6DE7",
        "colab_type": "code",
        "colab": {
          "base_uri": "https://localhost:8080/",
          "height": 68
        },
        "outputId": "0f759ac8-c8cb-4ca3-a1c7-38cf674d517b"
      },
      "source": [
        "pd.Series(label).value_counts()"
      ],
      "execution_count": 77,
      "outputs": [
        {
          "output_type": "execute_result",
          "data": {
            "text/plain": [
              "0    1143\n",
              "1     129\n",
              "dtype: int64"
            ]
          },
          "metadata": {
            "tags": []
          },
          "execution_count": 77
        }
      ]
    },
    {
      "cell_type": "code",
      "metadata": {
        "id": "INT3qzhU5b0N",
        "colab_type": "code",
        "colab": {}
      },
      "source": [
        "import pickle\n",
        "def feed_data_to_pkl(fn,db):\n",
        "  filename = '/content/drive/My Drive/Colab Notebooks/'+fn+'.pkl'\n",
        "  outfile = open(filename,'wb')\n",
        "  pickle.dump(db,outfile)\n",
        "  outfile.close()\n",
        "  return\n",
        "def load_data_frm_pkl(fn):\n",
        "  filename = '/content/drive/My Drive/Colab Notebooks/'+fn+'.pkl'\n",
        "  infile = open(filename,'rb')\n",
        "  new_dict = pickle.load(infile)\n",
        "  infile.close()\n",
        "  return new_dict"
      ],
      "execution_count": 0,
      "outputs": []
    },
    {
      "cell_type": "code",
      "metadata": {
        "id": "bczQIcUzldJY",
        "colab_type": "code",
        "colab": {}
      },
      "source": [
        "db1 = {}\n",
        "db2 ={}\n",
        "db1 = {'filename': fn, 'features': features, 'fin_labels':final_labels, 'label':label,\n",
        "       'label1':label1,'label2':label2 } \n",
        "filename = 'good_data'\n",
        "feed_data_to_pkl(filename,db1)\n",
        "#outfile = open(filename,'wb')\n",
        "#pickle.dump(db1,outfile)\n",
        "#outfile.close()"
      ],
      "execution_count": 0,
      "outputs": []
    },
    {
      "cell_type": "code",
      "metadata": {
        "id": "b0q1i1Rzqj8p",
        "colab_type": "code",
        "colab": {}
      },
      "source": [
        "new_dict = load_data_frm_pkl('good_data')"
      ],
      "execution_count": 0,
      "outputs": []
    },
    {
      "cell_type": "code",
      "metadata": {
        "id": "ffSq0xoXskKK",
        "colab_type": "code",
        "colab": {}
      },
      "source": [
        "fn = new_dict['filename']\n",
        "features = new_dict['features']\n",
        "final_labels =new_dict['fin_labels'] \n",
        "label = new_dict['label'] \n",
        "label1 = new_dict['label1']\n",
        "label2 = new_dict['label2']"
      ],
      "execution_count": 0,
      "outputs": []
    },
    {
      "cell_type": "code",
      "metadata": {
        "id": "hE8SZsI4u18g",
        "colab_type": "code",
        "colab": {}
      },
      "source": [
        "#pd.Series(features).shape"
      ],
      "execution_count": 0,
      "outputs": []
    },
    {
      "cell_type": "code",
      "metadata": {
        "id": "ti3ohgNpsNuG",
        "colab_type": "code",
        "colab": {}
      },
      "source": [
        "def to_df(fn,label,label1,label2):\n",
        "  d = pd.DataFrame()\n",
        "#pd.DataFrame(list(new_dict.items()),columns=['filename', 'features','fin_labels','label','label1','label2'])\n",
        "  d['filename'] = pd.Series(fn)\n",
        "  #d['features'] =pd.Series(features)\n",
        "  #d['fin_labels'] = final_labels\n",
        "  d['label'] = label\n",
        "  d['label1'] = label1\n",
        "  d['label2'] = label2\n",
        "  return d\n",
        "d = to_df(fn,label,label1,label2)"
      ],
      "execution_count": 0,
      "outputs": []
    },
    {
      "cell_type": "code",
      "metadata": {
        "id": "ENGMWKiNvL4Z",
        "colab_type": "code",
        "colab": {}
      },
      "source": [
        "d.to_csv('/content/drive/My Drive/Colab Notebooks/data1.csv')"
      ],
      "execution_count": 0,
      "outputs": []
    },
    {
      "cell_type": "code",
      "metadata": {
        "id": "e6dPP-_3q3cX",
        "colab_type": "code",
        "colab": {
          "base_uri": "https://localhost:8080/",
          "height": 34
        },
        "outputId": "514ebd8c-cbe4-4209-e898-05d0c45d53dd"
      },
      "source": [
        "label2.shape"
      ],
      "execution_count": 84,
      "outputs": [
        {
          "output_type": "execute_result",
          "data": {
            "text/plain": [
              "(1272,)"
            ]
          },
          "metadata": {
            "tags": []
          },
          "execution_count": 84
        }
      ]
    },
    {
      "cell_type": "code",
      "metadata": {
        "id": "fm5kN3E-zgHI",
        "colab_type": "code",
        "colab": {
          "base_uri": "https://localhost:8080/",
          "height": 34
        },
        "outputId": "c65c274a-d912-4a03-a7da-fe0606940313"
      },
      "source": [
        "fn_new,features_new,fl_new,label_new,label1_new,label2_new = parse_audio_files2(parent_dir,sub_dirs2)"
      ],
      "execution_count": 50,
      "outputs": [
        {
          "output_type": "stream",
          "text": [
            "extra_mp3\n"
          ],
          "name": "stdout"
        }
      ]
    },
    {
      "cell_type": "code",
      "metadata": {
        "trusted": true,
        "id": "oQuhLt3lZy0L",
        "colab_type": "code",
        "outputId": "b67b4a2b-05db-4ee3-aa22-5e5cc5b344f4",
        "colab": {
          "base_uri": "https://localhost:8080/",
          "height": 51
        }
      },
      "source": [
        "print(fl_new.shape)\n",
        "final_labels.shape"
      ],
      "execution_count": 51,
      "outputs": [
        {
          "output_type": "stream",
          "text": [
            "(30, 3)\n"
          ],
          "name": "stdout"
        },
        {
          "output_type": "execute_result",
          "data": {
            "text/plain": [
              "(1272, 3)"
            ]
          },
          "metadata": {
            "tags": []
          },
          "execution_count": 51
        }
      ]
    },
    {
      "cell_type": "code",
      "metadata": {
        "id": "3ImH8dKNrgdE",
        "colab_type": "code",
        "colab": {}
      },
      "source": [
        "##filename = 'train_feat_labels'\n",
        "db2={}\n",
        "db2 = {'filename': fn_new, 'features': features_new, 'fin_labels':fl_new, 'label':label_new,\n",
        "      'label1':label1_new,'label2':label2_new }\n",
        "file2 = 'good_data2'\n",
        "feed_data_to_pkl(file2,db2)"
      ],
      "execution_count": 0,
      "outputs": []
    },
    {
      "cell_type": "code",
      "metadata": {
        "id": "shIwlifrw5lQ",
        "colab_type": "code",
        "colab": {
          "base_uri": "https://localhost:8080/",
          "height": 34
        },
        "outputId": "6ca3151a-fac1-4345-93b3-c7f794446e26"
      },
      "source": [
        "pd.Series(db2['filename']).shape"
      ],
      "execution_count": 56,
      "outputs": [
        {
          "output_type": "execute_result",
          "data": {
            "text/plain": [
              "(30,)"
            ]
          },
          "metadata": {
            "tags": []
          },
          "execution_count": 56
        }
      ]
    },
    {
      "cell_type": "code",
      "metadata": {
        "id": "RXzxenesvfLC",
        "colab_type": "code",
        "colab": {}
      },
      "source": [
        "d2 = to_df(fn_new,label_new,label1_new,label2_new)\n",
        "d2.to_csv('/content/drive/My Drive/Colab Notebooks/data2.csv')"
      ],
      "execution_count": 0,
      "outputs": []
    },
    {
      "cell_type": "code",
      "metadata": {
        "id": "g4O4wo1_wBAE",
        "colab_type": "code",
        "colab": {}
      },
      "source": [
        "new_dict2 = load_data_frm_pkl('good_data2')\n",
        "fn_new = new_dict2['filename']\n",
        "features_new = new_dict2['features']\n",
        "fl_new =new_dict2['fin_labels'] \n",
        "label_new = new_dict2['label'] \n",
        "label1_new = new_dict2['label1']\n",
        "label2_new = new_dict2['label2']"
      ],
      "execution_count": 0,
      "outputs": []
    },
    {
      "cell_type": "code",
      "metadata": {
        "id": "ijvhrheewXoi",
        "colab_type": "code",
        "colab": {
          "base_uri": "https://localhost:8080/",
          "height": 34
        },
        "outputId": "889d6c0f-e610-409f-e31f-769fc3464064"
      },
      "source": [
        "fl_new.shape"
      ],
      "execution_count": 85,
      "outputs": [
        {
          "output_type": "execute_result",
          "data": {
            "text/plain": [
              "(30, 3)"
            ]
          },
          "metadata": {
            "tags": []
          },
          "execution_count": 85
        }
      ]
    },
    {
      "cell_type": "code",
      "metadata": {
        "id": "1mRAA6iNr6VB",
        "colab_type": "code",
        "colab": {}
      },
      "source": [
        "#filename = '/content/drive/My Drive/Colab Notebooks/tr_fea_labels.pkl'\n",
        "#infile = open(filename,'rb')\n",
        "#new_dict = pickle.load(infile)\n",
        "#infile.close()"
      ],
      "execution_count": 0,
      "outputs": []
    },
    {
      "cell_type": "code",
      "metadata": {
        "id": "fGL27HFbt-LT",
        "colab_type": "code",
        "colab": {
          "base_uri": "https://localhost:8080/",
          "height": 34
        },
        "outputId": "1daa1d41-e75b-42f6-e8fe-ada07c68b26f"
      },
      "source": [
        "features.shape"
      ],
      "execution_count": 86,
      "outputs": [
        {
          "output_type": "execute_result",
          "data": {
            "text/plain": [
              "(1272, 193)"
            ]
          },
          "metadata": {
            "tags": []
          },
          "execution_count": 86
        }
      ]
    },
    {
      "cell_type": "code",
      "metadata": {
        "id": "DwAEsHLWlgxV",
        "colab_type": "code",
        "colab": {}
      },
      "source": [
        ""
      ],
      "execution_count": 0,
      "outputs": []
    },
    {
      "cell_type": "code",
      "metadata": {
        "id": "MUhyEoQXk51p",
        "colab_type": "code",
        "colab": {}
      },
      "source": [
        "#outfile = open(file2,'wb')\n",
        "#pickle.dump(db2,outfile)\n",
        "#outfile.close()"
      ],
      "execution_count": 0,
      "outputs": []
    },
    {
      "cell_type": "code",
      "metadata": {
        "trusted": true,
        "id": "5Mt6VbZPZy0O",
        "colab_type": "code",
        "colab": {}
      },
      "source": [
        "from sklearn.preprocessing import MultiLabelBinarizer,LabelBinarizer\n",
        "from numpy import argmax\n",
        "from keras.utils import to_categorical\n",
        "from keras import initializers\n",
        "\n",
        "one_hot1 = LabelBinarizer()\n",
        "# One-hot encode data\n",
        "label_ = one_hot1.fit_transform(label)\n",
        "label_1 = one_hot1.fit_transform(label1)\n",
        "#print(one_hot1.classes_)print(label_)print(label_1)\n",
        "one_hot2 = MultiLabelBinarizer()\n",
        "# One-hot encode data\n",
        "#label_2 = one_hot2.fit_transform(label2)\n",
        "label__2 = to_categorical(label2)\n",
        "#print(label__2)\n",
        "#one_hot2.classes_"
      ],
      "execution_count": 0,
      "outputs": []
    },
    {
      "cell_type": "code",
      "metadata": {
        "trusted": true,
        "id": "etZQcctOZy0S",
        "colab_type": "code",
        "outputId": "cf7a3641-8f6e-41d4-9b4b-a2b8791dc450",
        "colab": {
          "base_uri": "https://localhost:8080/",
          "height": 68
        }
      },
      "source": [
        "print(label__2.shape)\n",
        "print(label_1.shape)\n",
        "print(label_.shape)\n",
        "#print(label_2.shape)"
      ],
      "execution_count": 88,
      "outputs": [
        {
          "output_type": "stream",
          "text": [
            "(1272, 5)\n",
            "(1272, 1)\n",
            "(1272, 1)\n"
          ],
          "name": "stdout"
        }
      ]
    },
    {
      "cell_type": "code",
      "metadata": {
        "trusted": true,
        "id": "5XNccvKWZy0a",
        "colab_type": "code",
        "outputId": "11c5ab35-7c49-4786-e172-3fdc94a39644",
        "colab": {
          "base_uri": "https://localhost:8080/",
          "height": 779
        }
      },
      "source": [
        "def show_bar_dist_data(d1):\n",
        "  d1['label'].value_counts().plot(kind='bar')\n",
        "            #,'disturbance','single_peacock']].plot(kind='bar')\n",
        "#plt.xticks(np.arange(0, 51, 5)) \n",
        "  plt.yticks(np.arange(0, 1200, 50)) \n",
        "  plt.show()\n",
        "  d1['label1'].value_counts().plot(kind='bar')\n",
        "  plt.yticks(np.arange(0, 1200, 50)) \n",
        "  plt.show()\n",
        "  d1['label2'].value_counts().plot(kind='bar')\n",
        "  plt.yticks(np.arange(0, 1200, 25)) \n",
        "  plt.show()\n",
        "show_bar_dist_data(d)"
      ],
      "execution_count": 89,
      "outputs": [
        {
          "output_type": "display_data",
          "data": {
            "image/png": "[encoded data removed]",
            "text/plain": [
              "<Figure size 432x288 with 1 Axes>"
            ]
          },
          "metadata": {
            "tags": []
          }
        },
        {
          "output_type": "display_data",
          "data": {
            "image/png": "[encoded data removed]",
            "text/plain": [
              "<Figure size 432x288 with 1 Axes>"
            ]
          },
          "metadata": {
            "tags": []
          }
        },
        {
          "output_type": "display_data",
          "data": {
            "image/png": "[encoded data removed]",
            "text/plain": [
              "<Figure size 432x288 with 1 Axes>"
            ]
          },
          "metadata": {
            "tags": []
          }
        }
      ]
    },
    {
      "cell_type": "code",
      "metadata": {
        "id": "nAh2pLCmyu5N",
        "colab_type": "code",
        "colab": {
          "base_uri": "https://localhost:8080/",
          "height": 779
        },
        "outputId": "3ced634b-3c0a-4c00-8862-28043b11c0a2"
      },
      "source": [
        "show_bar_dist_data(d2)"
      ],
      "execution_count": 64,
      "outputs": [
        {
          "output_type": "display_data",
          "data": {
            "image/png": "[encoded data removed]",
            "text/plain": [
              "<Figure size 432x288 with 1 Axes>"
            ]
          },
          "metadata": {
            "tags": []
          }
        },
        {
          "output_type": "display_data",
          "data": {
            "image/png": "[encoded data removed]",
            "text/plain": [
              "<Figure size 432x288 with 1 Axes>"
            ]
          },
          "metadata": {
            "tags": []
          }
        },
        {
          "output_type": "display_data",
          "data": {
            "image/png": "[encoded data removed]",
            "text/plain": [
              "<Figure size 432x288 with 1 Axes>"
            ]
          },
          "metadata": {
            "tags": []
          }
        }
      ]
    },
    {
      "cell_type": "code",
      "metadata": {
        "trusted": true,
        "id": "_WU4ITASZy0d",
        "colab_type": "code",
        "outputId": "8fea7a0f-2baf-425d-ce95-b209375e12ec",
        "colab": {
          "base_uri": "https://localhost:8080/",
          "height": 68
        }
      },
      "source": [
        "pd.Series(label).value_counts()"
      ],
      "execution_count": 90,
      "outputs": [
        {
          "output_type": "execute_result",
          "data": {
            "text/plain": [
              "0    1143\n",
              "1     129\n",
              "dtype: int64"
            ]
          },
          "metadata": {
            "tags": []
          },
          "execution_count": 90
        }
      ]
    },
    {
      "cell_type": "code",
      "metadata": {
        "trusted": true,
        "id": "riVZ7-VCZy0g",
        "colab_type": "code",
        "outputId": "7e44c5a7-9133-4923-e81e-005a209a3ce9",
        "colab": {
          "base_uri": "https://localhost:8080/",
          "height": 68
        }
      },
      "source": [
        "pd.Series(label1).value_counts()"
      ],
      "execution_count": 91,
      "outputs": [
        {
          "output_type": "execute_result",
          "data": {
            "text/plain": [
              "1    1174\n",
              "0      98\n",
              "dtype: int64"
            ]
          },
          "metadata": {
            "tags": []
          },
          "execution_count": 91
        }
      ]
    },
    {
      "cell_type": "code",
      "metadata": {
        "trusted": true,
        "id": "l6qMNHkEZy0k",
        "colab_type": "code",
        "outputId": "2e6a6e39-d3ed-4dde-d78d-413901db5122",
        "colab": {
          "base_uri": "https://localhost:8080/",
          "height": 119
        }
      },
      "source": [
        "pd.Series(label2).value_counts()"
      ],
      "execution_count": 92,
      "outputs": [
        {
          "output_type": "execute_result",
          "data": {
            "text/plain": [
              "0    1146\n",
              "1      64\n",
              "2      48\n",
              "4      11\n",
              "3       3\n",
              "dtype: int64"
            ]
          },
          "metadata": {
            "tags": []
          },
          "execution_count": 92
        }
      ]
    },
    {
      "cell_type": "markdown",
      "metadata": {
        "colab_type": "text",
        "id": "Aj-3YAWttvGr"
      },
      "source": [
        "# MLP keras "
      ]
    },
    {
      "cell_type": "code",
      "metadata": {
        "colab_type": "code",
        "id": "Kgb0pURqtvGt",
        "trusted": true,
        "colab": {}
      },
      "source": [
        "import keras \n",
        "from keras.models import Sequential\n",
        "from keras.layers import Dense, Activation,Flatten, Dropout\n",
        "from keras.layers.normalization import BatchNormalization\n",
        "\n",
        "from sklearn.preprocessing import StandardScaler\n",
        "from sklearn.model_selection import train_test_split\n",
        "from keras.layers import Conv2D, MaxPooling2D\n",
        "#from keras import regularizers, optimizer\n",
        "import pandas as pd\n",
        "import random\n",
        "import tensorflow as tf\n",
        "from sklearn.metrics import confusion_matrix,precision_score,recall_score,f1_score,multilabel_confusion_matrix\n",
        "from keras.wrappers.scikit_learn import KerasClassifier\n",
        "from keras.utils import np_utils\n",
        "from keras.layers import Input\n",
        "from keras.models import Model\n",
        "from keras.optimizers import Adam\n",
        "from sklearn.model_selection import cross_val_score\n",
        "from sklearn.model_selection import KFold\n",
        "from keras import backend as K\n",
        "random.seed(42)\n",
        "np.random.seed(42)\n",
        "tf.set_random_seed(42)\n",
        "\n",
        "#my_init = initializers.glorot_uniform(seed=42)\n",
        "#session_conf = tf.ConfigProto(intra_op_parallelism_threads=1,\n",
        "#                              inter_op_parallelism_threads=1)\n",
        "#sess = tf.Session(graph=tf.get_default_graph(), config=session_conf)\n",
        "#K.set_session(sess)"
      ],
      "execution_count": 0,
      "outputs": []
    },
    {
      "cell_type": "code",
      "metadata": {
        "id": "adfAzJz-uSwA",
        "colab_type": "code",
        "colab": {}
      },
      "source": [
        "import time\n",
        "from functools import wraps\n",
        "def timeit(f):\n",
        "    @wraps(f)\n",
        "    def wrapper(*args, **kwds):\n",
        "        start_time = time.time()\n",
        "        result = f(*args, **kwds)\n",
        "        elapsed_time = time.time() - start_time\n",
        "        print('Elapsed computation time: {:.3f} secs'\n",
        "              .format(elapsed_time))\n",
        "        return (elapsed_time, result)\n",
        "    return wrapper"
      ],
      "execution_count": 0,
      "outputs": []
    },
    {
      "cell_type": "code",
      "metadata": {
        "colab_type": "code",
        "id": "OYlHjiYWtvG1",
        "trusted": true,
        "colab": {}
      },
      "source": [
        "X_train, X_test, y1_train, y1_test,y2_train,y2_test,y3_train,y3_test = train_test_split(features,\n",
        "                                            label_,label_1,label__2, test_size=0.33, random_state=42)"
      ],
      "execution_count": 0,
      "outputs": []
    },
    {
      "cell_type": "code",
      "metadata": {
        "id": "mYDIKWa_Ew8x",
        "colab_type": "code",
        "colab": {}
      },
      "source": [
        "db_train_test ={}\n",
        "db_train_test = { 'X_train':X_train,'y1_train':y1_train,'y2_train':y2_train,'y3_train':y3_train,\n",
        "                 'X_test':X_test,'y1_test':y1_test,'y2_test':y2_test,'y3_test':y3_test}\n",
        "file_tr_te = 'data_train_test'\n",
        "feed_data_to_pkl(file_tr_te,db_train_test)\n",
        "#db_train_test['X_train'] = X_train\n",
        "#db_train_test['y1_train']=y1_train\n",
        "#db_train_test['y1_test'] = y1_test\n",
        "#db_train_test['y2_train'] = y2_train\n",
        "#db_train_test['y2_test'] =y2_test\n",
        "#db_train_test['y3_test'] = y3_test\n",
        "#db_train_test['y3_train'] = y3_train\n"
      ],
      "execution_count": 0,
      "outputs": []
    },
    {
      "cell_type": "code",
      "metadata": {
        "trusted": true,
        "id": "uC4BdgmaZy1D",
        "colab_type": "code",
        "colab": {}
      },
      "source": [
        "def make_model(n_dim):\n",
        "  #create the model\n",
        "  inn=(Input(shape = (n_dim,)))\n",
        "  x= (Sequential())(inn)\n",
        "  # Adding the input layer and the first hidden layer\n",
        "  x=(Dense(output_dim = 40, init = 'uniform', activation = 'relu', input_dim = 193))(x)\n",
        "  x=(BatchNormalization())(x)\n",
        "  x=(Dropout(0.2))(x)\n",
        "  # Adding the second hidden layer\n",
        "  x=(Dense(output_dim = 20, init = 'uniform', activation = 'relu'))(x)\n",
        "  x=(BatchNormalization())(x)\n",
        "  x=(Dropout(0.2))(x)\n",
        "\n",
        "  x=(Dense(output_dim = 8, init = 'uniform', activation = 'relu'))(x)\n",
        "  x=(BatchNormalization())(x)\n",
        "  x=(Dropout(0.2))(x)\n",
        "  # Adding the output layer\n",
        "  out1 =(Dense(output_dim = 1, init = 'uniform', activation = 'sigmoid'))(x)\n",
        "  out2 =(Dense(output_dim = 1, init = 'uniform', activation = 'sigmoid'))(x)\n",
        "  out3 =(Dense(output_dim = 5, init = 'uniform', activation = 'softmax'))(x)\n",
        "  # Compiling Neural Network\n",
        "  model = Model(inputs=[inn], outputs=[out1, out2,out3])\n",
        "  #classifier.compile(optimizer = 'adam', loss = 'binary_crossentropy', metrics = ['accuracy'])\n",
        "  # compile the model\n",
        "  model.compile(optimizer='adam', loss=['binary_crossentropy','binary_crossentropy','categorical_crossentropy'],\n",
        "              metrics=[f1_m,f1_m,f1_m])\n",
        "  return model"
      ],
      "execution_count": 0,
      "outputs": []
    },
    {
      "cell_type": "code",
      "metadata": {
        "id": "If1kUtvP8zM4",
        "colab_type": "code",
        "colab": {}
      },
      "source": [
        "from sklearn.metrics import roc_auc_score\n",
        "def fit_predict_imbalanced_model(X_train, y1_train,y2_train,y3_train, X_test, y1_test,y2_test,y3_test):\n",
        "    model = make_model(X_train.shape[1])\n",
        "    print(model.summary())\n",
        "    history = model.fit(X_train, [y1_train,y2_train,y3_train],validation_split=0.3,epochs=50, verbose=1, batch_size=30)\n",
        "    yy1,yy2,yy3 = model.predict(X_test)\n",
        "    print(yy1.shape)\n",
        "    print(yy2.shape)\n",
        "    print(yy3.shape)\n",
        "    return yy1,yy2,yy3,history,model"
      ],
      "execution_count": 0,
      "outputs": []
    },
    {
      "cell_type": "code",
      "metadata": {
        "id": "5ZDpQjsUA5Ba",
        "colab_type": "code",
        "colab": {
          "base_uri": "https://localhost:8080/",
          "height": 1000
        },
        "outputId": "95c10244-c171-41b1-e395-8179526e5c0b"
      },
      "source": [
        "yy1,yy2,yy3,his_plain,model_plain = fit_predict_imbalanced_model(X_train, y1_train,y2_train,\n",
        "                                                     y3_train, X_test, y1_test,y2_test,y3_test)"
      ],
      "execution_count": 120,
      "outputs": [
        {
          "output_type": "stream",
          "text": [
            "/usr/local/lib/python3.6/dist-packages/ipykernel_launcher.py:6: UserWarning: Update your `Dense` call to the Keras 2 API: `Dense(activation=\"relu\", input_dim=193, units=40, kernel_initializer=\"uniform\")`\n",
            "  \n",
            "/usr/local/lib/python3.6/dist-packages/ipykernel_launcher.py:10: UserWarning: Update your `Dense` call to the Keras 2 API: `Dense(activation=\"relu\", units=20, kernel_initializer=\"uniform\")`\n",
            "  # Remove the CWD from sys.path while we load stuff.\n",
            "/usr/local/lib/python3.6/dist-packages/ipykernel_launcher.py:14: UserWarning: Update your `Dense` call to the Keras 2 API: `Dense(activation=\"relu\", units=8, kernel_initializer=\"uniform\")`\n",
            "  \n",
            "/usr/local/lib/python3.6/dist-packages/ipykernel_launcher.py:18: UserWarning: Update your `Dense` call to the Keras 2 API: `Dense(activation=\"sigmoid\", units=1, kernel_initializer=\"uniform\")`\n",
            "/usr/local/lib/python3.6/dist-packages/ipykernel_launcher.py:19: UserWarning: Update your `Dense` call to the Keras 2 API: `Dense(activation=\"sigmoid\", units=1, kernel_initializer=\"uniform\")`\n",
            "/usr/local/lib/python3.6/dist-packages/ipykernel_launcher.py:20: UserWarning: Update your `Dense` call to the Keras 2 API: `Dense(activation=\"softmax\", units=5, kernel_initializer=\"uniform\")`\n"
          ],
          "name": "stderr"
        },
        {
          "output_type": "stream",
          "text": [
            "Model: \"model_8\"\n",
            "__________________________________________________________________________________________________\n",
            "Layer (type)                    Output Shape         Param #     Connected to                     \n",
            "==================================================================================================\n",
            "input_8 (InputLayer)            (None, 193)          0                                            \n",
            "__________________________________________________________________________________________________\n",
            "sequential_8 (Sequential)       (None, 193)          0           input_8[0][0]                    \n",
            "__________________________________________________________________________________________________\n",
            "dense_43 (Dense)                (None, 40)           7760        sequential_8[1][0]               \n",
            "__________________________________________________________________________________________________\n",
            "batch_normalization_22 (BatchNo (None, 40)           160         dense_43[0][0]                   \n",
            "__________________________________________________________________________________________________\n",
            "dropout_22 (Dropout)            (None, 40)           0           batch_normalization_22[0][0]     \n",
            "__________________________________________________________________________________________________\n",
            "dense_44 (Dense)                (None, 20)           820         dropout_22[0][0]                 \n",
            "__________________________________________________________________________________________________\n",
            "batch_normalization_23 (BatchNo (None, 20)           80          dense_44[0][0]                   \n",
            "__________________________________________________________________________________________________\n",
            "dropout_23 (Dropout)            (None, 20)           0           batch_normalization_23[0][0]     \n",
            "__________________________________________________________________________________________________\n",
            "dense_45 (Dense)                (None, 8)            168         dropout_23[0][0]                 \n",
            "__________________________________________________________________________________________________\n",
            "batch_normalization_24 (BatchNo (None, 8)            32          dense_45[0][0]                   \n",
            "__________________________________________________________________________________________________\n",
            "dropout_24 (Dropout)            (None, 8)            0           batch_normalization_24[0][0]     \n",
            "__________________________________________________________________________________________________\n",
            "dense_46 (Dense)                (None, 1)            9           dropout_24[0][0]                 \n",
            "__________________________________________________________________________________________________\n",
            "dense_47 (Dense)                (None, 1)            9           dropout_24[0][0]                 \n",
            "__________________________________________________________________________________________________\n",
            "dense_48 (Dense)                (None, 5)            45          dropout_24[0][0]                 \n",
            "==================================================================================================\n",
            "Total params: 9,083\n",
            "Trainable params: 8,947\n",
            "Non-trainable params: 136\n",
            "__________________________________________________________________________________________________\n",
            "None\n",
            "Train on 596 samples, validate on 256 samples\n",
            "Epoch 1/50\n",
            "596/596 [==============================] - 3s 6ms/step - loss: 2.9710 - dense_46_loss: 0.6857 - dense_47_loss: 0.6949 - dense_48_loss: 1.5904 - dense_46_f1_m: 0.2745 - dense_46_f1_m_1: 0.2745 - dense_46_f1_m_2: 0.2745 - dense_47_f1_m: 0.6915 - dense_47_f1_m_1: 0.6915 - dense_47_f1_m_2: 0.6915 - dense_48_f1_m: 0.0000e+00 - dense_48_f1_m_1: 0.0000e+00 - dense_48_f1_m_2: 0.0000e+00 - val_loss: 2.9382 - val_dense_46_loss: 0.6777 - val_dense_47_loss: 0.6808 - val_dense_48_loss: 1.5797 - val_dense_46_f1_m: 0.2986 - val_dense_46_f1_m_1: 0.2986 - val_dense_46_f1_m_2: 0.2986 - val_dense_47_f1_m: 0.9001 - val_dense_47_f1_m_1: 0.9001 - val_dense_47_f1_m_2: 0.9001 - val_dense_48_f1_m: 0.0076 - val_dense_48_f1_m_1: 0.0076 - val_dense_48_f1_m_2: 0.0076\n",
            "Epoch 2/50\n",
            "596/596 [==============================] - 0s 151us/step - loss: 2.8915 - dense_46_loss: 0.6672 - dense_47_loss: 0.6798 - dense_48_loss: 1.5445 - dense_46_f1_m: 0.3233 - dense_46_f1_m_1: 0.3233 - dense_46_f1_m_2: 0.3233 - dense_47_f1_m: 0.8354 - dense_47_f1_m_1: 0.8354 - dense_47_f1_m_2: 0.8354 - dense_48_f1_m: 0.0000e+00 - dense_48_f1_m_1: 0.0000e+00 - dense_48_f1_m_2: 0.0000e+00 - val_loss: 2.8056 - val_dense_46_loss: 0.6413 - val_dense_47_loss: 0.6665 - val_dense_48_loss: 1.4979 - val_dense_46_f1_m: 0.3073 - val_dense_46_f1_m_1: 0.3073 - val_dense_46_f1_m_2: 0.3073 - val_dense_47_f1_m: 0.8974 - val_dense_47_f1_m_1: 0.8974 - val_dense_47_f1_m_2: 0.8974 - val_dense_48_f1_m: 0.0076 - val_dense_48_f1_m_1: 0.0076 - val_dense_48_f1_m_2: 0.0076\n",
            "Epoch 3/50\n",
            "596/596 [==============================] - 0s 150us/step - loss: 2.7777 - dense_46_loss: 0.6411 - dense_47_loss: 0.6567 - dense_48_loss: 1.4799 - dense_46_f1_m: 0.3788 - dense_46_f1_m_1: 0.3788 - dense_46_f1_m_2: 0.3788 - dense_47_f1_m: 0.8746 - dense_47_f1_m_1: 0.8746 - dense_47_f1_m_2: 0.8746 - dense_48_f1_m: 0.0000e+00 - dense_48_f1_m_1: 0.0000e+00 - dense_48_f1_m_2: 0.0000e+00 - val_loss: 2.3740 - val_dense_46_loss: 0.5351 - val_dense_47_loss: 0.6025 - val_dense_48_loss: 1.2365 - val_dense_46_f1_m: 0.8610 - val_dense_46_f1_m_1: 0.8610 - val_dense_46_f1_m_2: 0.8610 - val_dense_47_f1_m: 0.9854 - val_dense_47_f1_m_1: 0.9854 - val_dense_47_f1_m_2: 0.9854 - val_dense_48_f1_m: 0.0300 - val_dense_48_f1_m_1: 0.0300 - val_dense_48_f1_m_2: 0.0300\n",
            "Epoch 4/50\n",
            "596/596 [==============================] - 0s 175us/step - loss: 2.6339 - dense_46_loss: 0.6058 - dense_47_loss: 0.6266 - dense_48_loss: 1.4015 - dense_46_f1_m: 0.4704 - dense_46_f1_m_1: 0.4704 - dense_46_f1_m_2: 0.4704 - dense_47_f1_m: 0.9009 - dense_47_f1_m_1: 0.9009 - dense_47_f1_m_2: 0.9009 - dense_48_f1_m: 0.0065 - dense_48_f1_m_1: 0.0065 - dense_48_f1_m_2: 0.0065 - val_loss: 2.0964 - val_dense_46_loss: 0.4823 - val_dense_47_loss: 0.5446 - val_dense_48_loss: 1.0694 - val_dense_46_f1_m: 0.8538 - val_dense_46_f1_m_1: 0.8538 - val_dense_46_f1_m_2: 0.8538 - val_dense_47_f1_m: 0.9702 - val_dense_47_f1_m_1: 0.9702 - val_dense_47_f1_m_2: 0.9702 - val_dense_48_f1_m: 0.0302 - val_dense_48_f1_m_1: 0.0302 - val_dense_48_f1_m_2: 0.0302\n",
            "Epoch 5/50\n",
            "596/596 [==============================] - 0s 154us/step - loss: 2.4577 - dense_46_loss: 0.5650 - dense_47_loss: 0.5909 - dense_48_loss: 1.3018 - dense_46_f1_m: 0.5166 - dense_46_f1_m_1: 0.5166 - dense_46_f1_m_2: 0.5166 - dense_47_f1_m: 0.9037 - dense_47_f1_m_1: 0.9037 - dense_47_f1_m_2: 0.9037 - dense_48_f1_m: 0.0290 - dense_48_f1_m_1: 0.0290 - dense_48_f1_m_2: 0.0290 - val_loss: 1.6254 - val_dense_46_loss: 0.3783 - val_dense_47_loss: 0.4521 - val_dense_48_loss: 0.7950 - val_dense_46_f1_m: 0.9208 - val_dense_46_f1_m_1: 0.9208 - val_dense_46_f1_m_2: 0.9208 - val_dense_47_f1_m: 0.9810 - val_dense_47_f1_m_1: 0.9810 - val_dense_47_f1_m_2: 0.9810 - val_dense_48_f1_m: 0.5475 - val_dense_48_f1_m_1: 0.5475 - val_dense_48_f1_m_2: 0.5475\n",
            "Epoch 6/50\n",
            "596/596 [==============================] - 0s 146us/step - loss: 2.2769 - dense_46_loss: 0.5224 - dense_47_loss: 0.5557 - dense_48_loss: 1.1988 - dense_46_f1_m: 0.5904 - dense_46_f1_m_1: 0.5904 - dense_46_f1_m_2: 0.5904 - dense_47_f1_m: 0.9268 - dense_47_f1_m_1: 0.9268 - dense_47_f1_m_2: 0.9268 - dense_48_f1_m: 0.0803 - dense_48_f1_m_1: 0.0803 - dense_48_f1_m_2: 0.0803 - val_loss: 1.3346 - val_dense_46_loss: 0.3384 - val_dense_47_loss: 0.3861 - val_dense_48_loss: 0.6101 - val_dense_46_f1_m: 0.3398 - val_dense_46_f1_m_1: 0.3398 - val_dense_46_f1_m_2: 0.3398 - val_dense_47_f1_m: 0.9730 - val_dense_47_f1_m_1: 0.9730 - val_dense_47_f1_m_2: 0.9730 - val_dense_48_f1_m: 0.9313 - val_dense_48_f1_m_1: 0.9313 - val_dense_48_f1_m_2: 0.9313\n",
            "Epoch 7/50\n",
            "596/596 [==============================] - 0s 159us/step - loss: 2.1120 - dense_46_loss: 0.4873 - dense_47_loss: 0.5286 - dense_48_loss: 1.0960 - dense_46_f1_m: 0.6236 - dense_46_f1_m_1: 0.6236 - dense_46_f1_m_2: 0.6236 - dense_47_f1_m: 0.9340 - dense_47_f1_m_1: 0.9340 - dense_47_f1_m_2: 0.9340 - dense_48_f1_m: 0.2753 - dense_48_f1_m_1: 0.2753 - dense_48_f1_m_2: 0.2753 - val_loss: 1.1320 - val_dense_46_loss: 0.2801 - val_dense_47_loss: 0.3444 - val_dense_48_loss: 0.5075 - val_dense_46_f1_m: 0.9247 - val_dense_46_f1_m_1: 0.9247 - val_dense_46_f1_m_2: 0.9247 - val_dense_47_f1_m: 0.9810 - val_dense_47_f1_m_1: 0.9810 - val_dense_47_f1_m_2: 0.9810 - val_dense_48_f1_m: 0.9234 - val_dense_48_f1_m_1: 0.9234 - val_dense_48_f1_m_2: 0.9234\n",
            "Epoch 8/50\n",
            "596/596 [==============================] - 0s 170us/step - loss: 1.9075 - dense_46_loss: 0.4396 - dense_47_loss: 0.4907 - dense_48_loss: 0.9772 - dense_46_f1_m: 0.6964 - dense_46_f1_m_1: 0.6964 - dense_46_f1_m_2: 0.6964 - dense_47_f1_m: 0.9461 - dense_47_f1_m_1: 0.9461 - dense_47_f1_m_2: 0.9461 - dense_48_f1_m: 0.4216 - dense_48_f1_m_1: 0.4216 - dense_48_f1_m_2: 0.4216 - val_loss: 0.9293 - val_dense_46_loss: 0.2397 - val_dense_47_loss: 0.2930 - val_dense_48_loss: 0.3966 - val_dense_46_f1_m: 0.7567 - val_dense_46_f1_m_1: 0.7567 - val_dense_46_f1_m_2: 0.7567 - val_dense_47_f1_m: 0.9770 - val_dense_47_f1_m_1: 0.9770 - val_dense_47_f1_m_2: 0.9770 - val_dense_48_f1_m: 0.9530 - val_dense_48_f1_m_1: 0.9530 - val_dense_48_f1_m_2: 0.9530\n",
            "Epoch 9/50\n",
            "596/596 [==============================] - 0s 161us/step - loss: 1.7566 - dense_46_loss: 0.4039 - dense_47_loss: 0.4636 - dense_48_loss: 0.8892 - dense_46_f1_m: 0.7249 - dense_46_f1_m_1: 0.7249 - dense_46_f1_m_2: 0.7249 - dense_47_f1_m: 0.9503 - dense_47_f1_m_1: 0.9503 - dense_47_f1_m_2: 0.9503 - dense_48_f1_m: 0.6269 - dense_48_f1_m_1: 0.6269 - dense_48_f1_m_2: 0.6269 - val_loss: 0.7845 - val_dense_46_loss: 0.2105 - val_dense_47_loss: 0.2569 - val_dense_48_loss: 0.3171 - val_dense_46_f1_m: 0.8114 - val_dense_46_f1_m_1: 0.8114 - val_dense_46_f1_m_2: 0.8114 - val_dense_47_f1_m: 0.9811 - val_dense_47_f1_m_1: 0.9811 - val_dense_47_f1_m_2: 0.9811 - val_dense_48_f1_m: 0.9510 - val_dense_48_f1_m_1: 0.9510 - val_dense_48_f1_m_2: 0.9510\n",
            "Epoch 10/50\n",
            "596/596 [==============================] - 0s 158us/step - loss: 1.5680 - dense_46_loss: 0.3714 - dense_47_loss: 0.4174 - dense_48_loss: 0.7792 - dense_46_f1_m: 0.7188 - dense_46_f1_m_1: 0.7188 - dense_46_f1_m_2: 0.7188 - dense_47_f1_m: 0.9662 - dense_47_f1_m_1: 0.9662 - dense_47_f1_m_2: 0.9662 - dense_48_f1_m: 0.7463 - dense_48_f1_m_1: 0.7463 - dense_48_f1_m_2: 0.7463 - val_loss: 0.6633 - val_dense_46_loss: 0.1707 - val_dense_47_loss: 0.2284 - val_dense_48_loss: 0.2642 - val_dense_46_f1_m: 0.9051 - val_dense_46_f1_m_1: 0.9051 - val_dense_46_f1_m_2: 0.9051 - val_dense_47_f1_m: 0.9852 - val_dense_47_f1_m_1: 0.9852 - val_dense_47_f1_m_2: 0.9852 - val_dense_48_f1_m: 0.9508 - val_dense_48_f1_m_1: 0.9508 - val_dense_48_f1_m_2: 0.9508\n",
            "Epoch 11/50\n",
            "596/596 [==============================] - 0s 157us/step - loss: 1.4220 - dense_46_loss: 0.3310 - dense_47_loss: 0.3975 - dense_48_loss: 0.6936 - dense_46_f1_m: 0.7486 - dense_46_f1_m_1: 0.7486 - dense_46_f1_m_2: 0.7486 - dense_47_f1_m: 0.9654 - dense_47_f1_m_1: 0.9654 - dense_47_f1_m_2: 0.9654 - dense_48_f1_m: 0.8310 - dense_48_f1_m_1: 0.8310 - dense_48_f1_m_2: 0.8310 - val_loss: 0.6820 - val_dense_46_loss: 0.1876 - val_dense_47_loss: 0.2222 - val_dense_48_loss: 0.2722 - val_dense_46_f1_m: 0.5820 - val_dense_46_f1_m_1: 0.5820 - val_dense_46_f1_m_2: 0.5820 - val_dense_47_f1_m: 0.9729 - val_dense_47_f1_m_1: 0.9729 - val_dense_47_f1_m_2: 0.9729 - val_dense_48_f1_m: 0.9489 - val_dense_48_f1_m_1: 0.9489 - val_dense_48_f1_m_2: 0.9489\n",
            "Epoch 12/50\n",
            "596/596 [==============================] - 0s 153us/step - loss: 1.2622 - dense_46_loss: 0.2998 - dense_47_loss: 0.3599 - dense_48_loss: 0.6025 - dense_46_f1_m: 0.8443 - dense_46_f1_m_1: 0.8443 - dense_46_f1_m_2: 0.8443 - dense_47_f1_m: 0.9713 - dense_47_f1_m_1: 0.9713 - dense_47_f1_m_2: 0.9713 - dense_48_f1_m: 0.8579 - dense_48_f1_m_1: 0.8579 - dense_48_f1_m_2: 0.8579 - val_loss: 0.7285 - val_dense_46_loss: 0.2164 - val_dense_47_loss: 0.2109 - val_dense_48_loss: 0.3012 - val_dense_46_f1_m: 0.0625 - val_dense_46_f1_m_1: 0.0625 - val_dense_46_f1_m_2: 0.0625 - val_dense_47_f1_m: 0.9695 - val_dense_47_f1_m_1: 0.9695 - val_dense_47_f1_m_2: 0.9695 - val_dense_48_f1_m: 0.9282 - val_dense_48_f1_m_1: 0.9282 - val_dense_48_f1_m_2: 0.9282\n",
            "Epoch 13/50\n",
            "596/596 [==============================] - 0s 145us/step - loss: 1.1232 - dense_46_loss: 0.2659 - dense_47_loss: 0.3268 - dense_48_loss: 0.5305 - dense_46_f1_m: 0.8564 - dense_46_f1_m_1: 0.8564 - dense_46_f1_m_2: 0.8564 - dense_47_f1_m: 0.9726 - dense_47_f1_m_1: 0.9726 - dense_47_f1_m_2: 0.9726 - dense_48_f1_m: 0.8974 - dense_48_f1_m_1: 0.8974 - dense_48_f1_m_2: 0.8974 - val_loss: 0.5072 - val_dense_46_loss: 0.1241 - val_dense_47_loss: 0.1796 - val_dense_48_loss: 0.2034 - val_dense_46_f1_m: 0.9219 - val_dense_46_f1_m_1: 0.9219 - val_dense_46_f1_m_2: 0.9219 - val_dense_47_f1_m: 0.9874 - val_dense_47_f1_m_1: 0.9874 - val_dense_47_f1_m_2: 0.9874 - val_dense_48_f1_m: 0.9489 - val_dense_48_f1_m_1: 0.9489 - val_dense_48_f1_m_2: 0.9489\n",
            "Epoch 14/50\n",
            "596/596 [==============================] - 0s 162us/step - loss: 1.0636 - dense_46_loss: 0.2496 - dense_47_loss: 0.3207 - dense_48_loss: 0.4933 - dense_46_f1_m: 0.8557 - dense_46_f1_m_1: 0.8557 - dense_46_f1_m_2: 0.8557 - dense_47_f1_m: 0.9771 - dense_47_f1_m_1: 0.9771 - dense_47_f1_m_2: 0.9771 - dense_48_f1_m: 0.9006 - dense_48_f1_m_1: 0.9006 - dense_48_f1_m_2: 0.9006 - val_loss: 0.4866 - val_dense_46_loss: 0.1260 - val_dense_47_loss: 0.1633 - val_dense_48_loss: 0.1973 - val_dense_46_f1_m: 0.7500 - val_dense_46_f1_m_1: 0.7500 - val_dense_46_f1_m_2: 0.7500 - val_dense_47_f1_m: 0.9853 - val_dense_47_f1_m_1: 0.9853 - val_dense_47_f1_m_2: 0.9853 - val_dense_48_f1_m: 0.9494 - val_dense_48_f1_m_1: 0.9494 - val_dense_48_f1_m_2: 0.9494\n",
            "Epoch 15/50\n",
            "596/596 [==============================] - 0s 151us/step - loss: 0.9317 - dense_46_loss: 0.2178 - dense_47_loss: 0.2936 - dense_48_loss: 0.4202 - dense_46_f1_m: 0.8867 - dense_46_f1_m_1: 0.8867 - dense_46_f1_m_2: 0.8867 - dense_47_f1_m: 0.9764 - dense_47_f1_m_1: 0.9764 - dense_47_f1_m_2: 0.9764 - dense_48_f1_m: 0.9187 - dense_48_f1_m_1: 0.9187 - dense_48_f1_m_2: 0.9187 - val_loss: 0.4478 - val_dense_46_loss: 0.1088 - val_dense_47_loss: 0.1528 - val_dense_48_loss: 0.1862 - val_dense_46_f1_m: 0.7500 - val_dense_46_f1_m_1: 0.7500 - val_dense_46_f1_m_2: 0.7500 - val_dense_47_f1_m: 0.9853 - val_dense_47_f1_m_1: 0.9853 - val_dense_47_f1_m_2: 0.9853 - val_dense_48_f1_m: 0.9451 - val_dense_48_f1_m_1: 0.9451 - val_dense_48_f1_m_2: 0.9451\n",
            "Epoch 16/50\n",
            "596/596 [==============================] - 0s 166us/step - loss: 0.9162 - dense_46_loss: 0.2186 - dense_47_loss: 0.2812 - dense_48_loss: 0.4164 - dense_46_f1_m: 0.8155 - dense_46_f1_m_1: 0.8155 - dense_46_f1_m_2: 0.8155 - dense_47_f1_m: 0.9776 - dense_47_f1_m_1: 0.9776 - dense_47_f1_m_2: 0.9776 - dense_48_f1_m: 0.9153 - dense_48_f1_m_1: 0.9153 - dense_48_f1_m_2: 0.9153 - val_loss: 0.4437 - val_dense_46_loss: 0.1125 - val_dense_47_loss: 0.1492 - val_dense_48_loss: 0.1820 - val_dense_46_f1_m: 0.8047 - val_dense_46_f1_m_1: 0.8047 - val_dense_46_f1_m_2: 0.8047 - val_dense_47_f1_m: 0.9855 - val_dense_47_f1_m_1: 0.9855 - val_dense_47_f1_m_2: 0.9855 - val_dense_48_f1_m: 0.9532 - val_dense_48_f1_m_1: 0.9532 - val_dense_48_f1_m_2: 0.9532\n",
            "Epoch 17/50\n",
            "596/596 [==============================] - 0s 159us/step - loss: 0.8487 - dense_46_loss: 0.2040 - dense_47_loss: 0.2652 - dense_48_loss: 0.3794 - dense_46_f1_m: 0.8362 - dense_46_f1_m_1: 0.8362 - dense_46_f1_m_2: 0.8362 - dense_47_f1_m: 0.9740 - dense_47_f1_m_1: 0.9740 - dense_47_f1_m_2: 0.9740 - dense_48_f1_m: 0.9229 - dense_48_f1_m_1: 0.9229 - dense_48_f1_m_2: 0.9229 - val_loss: 0.8059 - val_dense_46_loss: 0.2469 - val_dense_47_loss: 0.1938 - val_dense_48_loss: 0.3652 - val_dense_46_f1_m: 0.0000e+00 - val_dense_46_f1_m_1: 0.0000e+00 - val_dense_46_f1_m_2: 0.0000e+00 - val_dense_47_f1_m: 0.9696 - val_dense_47_f1_m_1: 0.9696 - val_dense_47_f1_m_2: 0.9696 - val_dense_48_f1_m: 0.9180 - val_dense_48_f1_m_1: 0.9180 - val_dense_48_f1_m_2: 0.9180\n",
            "Epoch 18/50\n",
            "596/596 [==============================] - 0s 182us/step - loss: 0.9147 - dense_46_loss: 0.2095 - dense_47_loss: 0.2944 - dense_48_loss: 0.4108 - dense_46_f1_m: 0.8026 - dense_46_f1_m_1: 0.8026 - dense_46_f1_m_2: 0.8026 - dense_47_f1_m: 0.9728 - dense_47_f1_m_1: 0.9728 - dense_47_f1_m_2: 0.9728 - dense_48_f1_m: 0.9103 - dense_48_f1_m_1: 0.9103 - dense_48_f1_m_2: 0.9103 - val_loss: 0.3882 - val_dense_46_loss: 0.0967 - val_dense_47_loss: 0.1219 - val_dense_48_loss: 0.1696 - val_dense_46_f1_m: 0.7266 - val_dense_46_f1_m_1: 0.7266 - val_dense_46_f1_m_2: 0.7266 - val_dense_47_f1_m: 0.9835 - val_dense_47_f1_m_1: 0.9835 - val_dense_47_f1_m_2: 0.9835 - val_dense_48_f1_m: 0.9494 - val_dense_48_f1_m_1: 0.9494 - val_dense_48_f1_m_2: 0.9494\n",
            "Epoch 19/50\n",
            "596/596 [==============================] - 0s 164us/step - loss: 0.6989 - dense_46_loss: 0.1435 - dense_47_loss: 0.2384 - dense_48_loss: 0.3171 - dense_46_f1_m: 0.9385 - dense_46_f1_m_1: 0.9385 - dense_46_f1_m_2: 0.9385 - dense_47_f1_m: 0.9851 - dense_47_f1_m_1: 0.9851 - dense_47_f1_m_2: 0.9851 - dense_48_f1_m: 0.9332 - dense_48_f1_m_1: 0.9332 - dense_48_f1_m_2: 0.9332 - val_loss: 0.4448 - val_dense_46_loss: 0.1180 - val_dense_47_loss: 0.1300 - val_dense_48_loss: 0.1968 - val_dense_46_f1_m: 0.6484 - val_dense_46_f1_m_1: 0.6484 - val_dense_46_f1_m_2: 0.6484 - val_dense_47_f1_m: 0.9855 - val_dense_47_f1_m_1: 0.9855 - val_dense_47_f1_m_2: 0.9855 - val_dense_48_f1_m: 0.9437 - val_dense_48_f1_m_1: 0.9437 - val_dense_48_f1_m_2: 0.9437\n",
            "Epoch 20/50\n",
            "596/596 [==============================] - 0s 157us/step - loss: 0.8006 - dense_46_loss: 0.1827 - dense_47_loss: 0.2615 - dense_48_loss: 0.3564 - dense_46_f1_m: 0.7709 - dense_46_f1_m_1: 0.7709 - dense_46_f1_m_2: 0.7709 - dense_47_f1_m: 0.9699 - dense_47_f1_m_1: 0.9699 - dense_47_f1_m_2: 0.9699 - dense_48_f1_m: 0.9244 - dense_48_f1_m_1: 0.9244 - dense_48_f1_m_2: 0.9244 - val_loss: 0.3661 - val_dense_46_loss: 0.0855 - val_dense_47_loss: 0.1233 - val_dense_48_loss: 0.1573 - val_dense_46_f1_m: 0.7734 - val_dense_46_f1_m_1: 0.7734 - val_dense_46_f1_m_2: 0.7734 - val_dense_47_f1_m: 0.9874 - val_dense_47_f1_m_1: 0.9874 - val_dense_47_f1_m_2: 0.9874 - val_dense_48_f1_m: 0.9552 - val_dense_48_f1_m_1: 0.9552 - val_dense_48_f1_m_2: 0.9552\n",
            "Epoch 21/50\n",
            "596/596 [==============================] - 0s 156us/step - loss: 0.5976 - dense_46_loss: 0.1165 - dense_47_loss: 0.2162 - dense_48_loss: 0.2649 - dense_46_f1_m: 0.9294 - dense_46_f1_m_1: 0.9294 - dense_46_f1_m_2: 0.9294 - dense_47_f1_m: 0.9823 - dense_47_f1_m_1: 0.9823 - dense_47_f1_m_2: 0.9823 - dense_48_f1_m: 0.9351 - dense_48_f1_m_1: 0.9351 - dense_48_f1_m_2: 0.9351 - val_loss: 0.4443 - val_dense_46_loss: 0.1165 - val_dense_47_loss: 0.1272 - val_dense_48_loss: 0.2006 - val_dense_46_f1_m: 0.7266 - val_dense_46_f1_m_1: 0.7266 - val_dense_46_f1_m_2: 0.7266 - val_dense_47_f1_m: 0.9874 - val_dense_47_f1_m_1: 0.9874 - val_dense_47_f1_m_2: 0.9874 - val_dense_48_f1_m: 0.9437 - val_dense_48_f1_m_1: 0.9437 - val_dense_48_f1_m_2: 0.9437\n",
            "Epoch 22/50\n",
            "596/596 [==============================] - 0s 153us/step - loss: 0.5851 - dense_46_loss: 0.1093 - dense_47_loss: 0.2242 - dense_48_loss: 0.2515 - dense_46_f1_m: 0.9468 - dense_46_f1_m_1: 0.9468 - dense_46_f1_m_2: 0.9468 - dense_47_f1_m: 0.9821 - dense_47_f1_m_1: 0.9821 - dense_47_f1_m_2: 0.9821 - dense_48_f1_m: 0.9339 - dense_48_f1_m_1: 0.9339 - dense_48_f1_m_2: 0.9339 - val_loss: 0.3781 - val_dense_46_loss: 0.0808 - val_dense_47_loss: 0.1282 - val_dense_48_loss: 0.1691 - val_dense_46_f1_m: 0.8583 - val_dense_46_f1_m_1: 0.8583 - val_dense_46_f1_m_2: 0.8583 - val_dense_47_f1_m: 0.9811 - val_dense_47_f1_m_1: 0.9811 - val_dense_47_f1_m_2: 0.9811 - val_dense_48_f1_m: 0.9472 - val_dense_48_f1_m_1: 0.9472 - val_dense_48_f1_m_2: 0.9472\n",
            "Epoch 23/50\n",
            "596/596 [==============================] - 0s 151us/step - loss: 0.6878 - dense_46_loss: 0.1582 - dense_47_loss: 0.2224 - dense_48_loss: 0.3071 - dense_46_f1_m: 0.8296 - dense_46_f1_m_1: 0.8296 - dense_46_f1_m_2: 0.8296 - dense_47_f1_m: 0.9756 - dense_47_f1_m_1: 0.9756 - dense_47_f1_m_2: 0.9756 - dense_48_f1_m: 0.9290 - dense_48_f1_m_1: 0.9290 - dense_48_f1_m_2: 0.9290 - val_loss: 0.6953 - val_dense_46_loss: 0.2132 - val_dense_47_loss: 0.1681 - val_dense_48_loss: 0.3140 - val_dense_46_f1_m: 0.0000e+00 - val_dense_46_f1_m_1: 0.0000e+00 - val_dense_46_f1_m_2: 0.0000e+00 - val_dense_47_f1_m: 0.9696 - val_dense_47_f1_m_1: 0.9696 - val_dense_47_f1_m_2: 0.9696 - val_dense_48_f1_m: 0.9211 - val_dense_48_f1_m_1: 0.9211 - val_dense_48_f1_m_2: 0.9211\n",
            "Epoch 24/50\n",
            "596/596 [==============================] - 0s 150us/step - loss: 0.6797 - dense_46_loss: 0.1396 - dense_47_loss: 0.2454 - dense_48_loss: 0.2947 - dense_46_f1_m: 0.8317 - dense_46_f1_m_1: 0.8317 - dense_46_f1_m_2: 0.8317 - dense_47_f1_m: 0.9757 - dense_47_f1_m_1: 0.9757 - dense_47_f1_m_2: 0.9757 - dense_48_f1_m: 0.9198 - dense_48_f1_m_1: 0.9198 - dense_48_f1_m_2: 0.9198 - val_loss: 0.6748 - val_dense_46_loss: 0.2054 - val_dense_47_loss: 0.1653 - val_dense_48_loss: 0.3042 - val_dense_46_f1_m: 0.0586 - val_dense_46_f1_m_1: 0.0586 - val_dense_46_f1_m_2: 0.0586 - val_dense_47_f1_m: 0.9675 - val_dense_47_f1_m_1: 0.9675 - val_dense_47_f1_m_2: 0.9675 - val_dense_48_f1_m: 0.9251 - val_dense_48_f1_m_1: 0.9251 - val_dense_48_f1_m_2: 0.9251\n",
            "Epoch 25/50\n",
            "596/596 [==============================] - 0s 147us/step - loss: 0.5608 - dense_46_loss: 0.1099 - dense_47_loss: 0.1813 - dense_48_loss: 0.2696 - dense_46_f1_m: 0.9106 - dense_46_f1_m_1: 0.9106 - dense_46_f1_m_2: 0.9106 - dense_47_f1_m: 0.9842 - dense_47_f1_m_1: 0.9842 - dense_47_f1_m_2: 0.9842 - dense_48_f1_m: 0.9309 - dense_48_f1_m_1: 0.9309 - dense_48_f1_m_2: 0.9309 - val_loss: 0.8639 - val_dense_46_loss: 0.2680 - val_dense_47_loss: 0.1930 - val_dense_48_loss: 0.4029 - val_dense_46_f1_m: 0.0000e+00 - val_dense_46_f1_m_1: 0.0000e+00 - val_dense_46_f1_m_2: 0.0000e+00 - val_dense_47_f1_m: 0.9696 - val_dense_47_f1_m_1: 0.9696 - val_dense_47_f1_m_2: 0.9696 - val_dense_48_f1_m: 0.9180 - val_dense_48_f1_m_1: 0.9180 - val_dense_48_f1_m_2: 0.9180\n",
            "Epoch 26/50\n",
            "596/596 [==============================] - 0s 144us/step - loss: 0.6827 - dense_46_loss: 0.1501 - dense_47_loss: 0.2347 - dense_48_loss: 0.2980 - dense_46_f1_m: 0.8240 - dense_46_f1_m_1: 0.8240 - dense_46_f1_m_2: 0.8240 - dense_47_f1_m: 0.9804 - dense_47_f1_m_1: 0.9804 - dense_47_f1_m_2: 0.9804 - dense_48_f1_m: 0.9315 - dense_48_f1_m_1: 0.9315 - dense_48_f1_m_2: 0.9315 - val_loss: 0.6345 - val_dense_46_loss: 0.1891 - val_dense_47_loss: 0.1572 - val_dense_48_loss: 0.2883 - val_dense_46_f1_m: 0.2109 - val_dense_46_f1_m_1: 0.2109 - val_dense_46_f1_m_2: 0.2109 - val_dense_47_f1_m: 0.9693 - val_dense_47_f1_m_1: 0.9693 - val_dense_47_f1_m_2: 0.9693 - val_dense_48_f1_m: 0.9266 - val_dense_48_f1_m_1: 0.9266 - val_dense_48_f1_m_2: 0.9266\n",
            "Epoch 27/50\n",
            "596/596 [==============================] - 0s 160us/step - loss: 0.5283 - dense_46_loss: 0.0976 - dense_47_loss: 0.2097 - dense_48_loss: 0.2211 - dense_46_f1_m: 0.8619 - dense_46_f1_m_1: 0.8619 - dense_46_f1_m_2: 0.8619 - dense_47_f1_m: 0.9804 - dense_47_f1_m_1: 0.9804 - dense_47_f1_m_2: 0.9804 - dense_48_f1_m: 0.9420 - dense_48_f1_m_1: 0.9420 - dense_48_f1_m_2: 0.9420 - val_loss: 0.3427 - val_dense_46_loss: 0.0642 - val_dense_47_loss: 0.1257 - val_dense_48_loss: 0.1528 - val_dense_46_f1_m: 0.8817 - val_dense_46_f1_m_1: 0.8817 - val_dense_46_f1_m_2: 0.8817 - val_dense_47_f1_m: 0.9832 - val_dense_47_f1_m_1: 0.9832 - val_dense_47_f1_m_2: 0.9832 - val_dense_48_f1_m: 0.9510 - val_dense_48_f1_m_1: 0.9510 - val_dense_48_f1_m_2: 0.9510\n",
            "Epoch 28/50\n",
            "596/596 [==============================] - 0s 144us/step - loss: 0.4859 - dense_46_loss: 0.0845 - dense_47_loss: 0.1625 - dense_48_loss: 0.2389 - dense_46_f1_m: 0.9173 - dense_46_f1_m_1: 0.9173 - dense_46_f1_m_2: 0.9173 - dense_47_f1_m: 0.9860 - dense_47_f1_m_1: 0.9860 - dense_47_f1_m_2: 0.9860 - dense_48_f1_m: 0.9377 - dense_48_f1_m_1: 0.9377 - dense_48_f1_m_2: 0.9377 - val_loss: 0.3575 - val_dense_46_loss: 0.0721 - val_dense_47_loss: 0.1222 - val_dense_48_loss: 0.1632 - val_dense_46_f1_m: 0.8594 - val_dense_46_f1_m_1: 0.8594 - val_dense_46_f1_m_2: 0.8594 - val_dense_47_f1_m: 0.9854 - val_dense_47_f1_m_1: 0.9854 - val_dense_47_f1_m_2: 0.9854 - val_dense_48_f1_m: 0.9491 - val_dense_48_f1_m_1: 0.9491 - val_dense_48_f1_m_2: 0.9491\n",
            "Epoch 29/50\n",
            "596/596 [==============================] - 0s 143us/step - loss: 0.4275 - dense_46_loss: 0.0764 - dense_47_loss: 0.1626 - dense_48_loss: 0.1885 - dense_46_f1_m: 0.9645 - dense_46_f1_m_1: 0.9645 - dense_46_f1_m_2: 0.9645 - dense_47_f1_m: 0.9857 - dense_47_f1_m_1: 0.9857 - dense_47_f1_m_2: 0.9857 - dense_48_f1_m: 0.9443 - dense_48_f1_m_1: 0.9443 - dense_48_f1_m_2: 0.9443 - val_loss: 0.3695 - val_dense_46_loss: 0.0719 - val_dense_47_loss: 0.1270 - val_dense_48_loss: 0.1707 - val_dense_46_f1_m: 0.8359 - val_dense_46_f1_m_1: 0.8359 - val_dense_46_f1_m_2: 0.8359 - val_dense_47_f1_m: 0.9833 - val_dense_47_f1_m_1: 0.9833 - val_dense_47_f1_m_2: 0.9833 - val_dense_48_f1_m: 0.9434 - val_dense_48_f1_m_1: 0.9434 - val_dense_48_f1_m_2: 0.9434\n",
            "Epoch 30/50\n",
            "596/596 [==============================] - 0s 161us/step - loss: 0.4942 - dense_46_loss: 0.0872 - dense_47_loss: 0.1914 - dense_48_loss: 0.2156 - dense_46_f1_m: 0.9033 - dense_46_f1_m_1: 0.9033 - dense_46_f1_m_2: 0.9033 - dense_47_f1_m: 0.9834 - dense_47_f1_m_1: 0.9834 - dense_47_f1_m_2: 0.9834 - dense_48_f1_m: 0.9436 - dense_48_f1_m_1: 0.9436 - dense_48_f1_m_2: 0.9436 - val_loss: 0.3618 - val_dense_46_loss: 0.0676 - val_dense_47_loss: 0.1286 - val_dense_48_loss: 0.1655 - val_dense_46_f1_m: 0.8359 - val_dense_46_f1_m_1: 0.8359 - val_dense_46_f1_m_2: 0.8359 - val_dense_47_f1_m: 0.9833 - val_dense_47_f1_m_1: 0.9833 - val_dense_47_f1_m_2: 0.9833 - val_dense_48_f1_m: 0.9432 - val_dense_48_f1_m_1: 0.9432 - val_dense_48_f1_m_2: 0.9432\n",
            "Epoch 31/50\n",
            "596/596 [==============================] - 0s 147us/step - loss: 0.4399 - dense_46_loss: 0.0702 - dense_47_loss: 0.1708 - dense_48_loss: 0.1988 - dense_46_f1_m: 0.8976 - dense_46_f1_m_1: 0.8976 - dense_46_f1_m_2: 0.8976 - dense_47_f1_m: 0.9843 - dense_47_f1_m_1: 0.9843 - dense_47_f1_m_2: 0.9843 - dense_48_f1_m: 0.9393 - dense_48_f1_m_1: 0.9393 - dense_48_f1_m_2: 0.9393 - val_loss: 0.3962 - val_dense_46_loss: 0.0850 - val_dense_47_loss: 0.1267 - val_dense_48_loss: 0.1845 - val_dense_46_f1_m: 0.8125 - val_dense_46_f1_m_1: 0.8125 - val_dense_46_f1_m_2: 0.8125 - val_dense_47_f1_m: 0.9812 - val_dense_47_f1_m_1: 0.9812 - val_dense_47_f1_m_2: 0.9812 - val_dense_48_f1_m: 0.9451 - val_dense_48_f1_m_1: 0.9451 - val_dense_48_f1_m_2: 0.9451\n",
            "Epoch 32/50\n",
            "596/596 [==============================] - 0s 138us/step - loss: 0.4612 - dense_46_loss: 0.0793 - dense_47_loss: 0.1873 - dense_48_loss: 0.1945 - dense_46_f1_m: 0.9030 - dense_46_f1_m_1: 0.9030 - dense_46_f1_m_2: 0.9030 - dense_47_f1_m: 0.9796 - dense_47_f1_m_1: 0.9796 - dense_47_f1_m_2: 0.9796 - dense_48_f1_m: 0.9413 - dense_48_f1_m_1: 0.9413 - dense_48_f1_m_2: 0.9413 - val_loss: 0.3497 - val_dense_46_loss: 0.0504 - val_dense_47_loss: 0.1485 - val_dense_48_loss: 0.1509 - val_dense_46_f1_m: 0.8856 - val_dense_46_f1_m_1: 0.8856 - val_dense_46_f1_m_2: 0.8856 - val_dense_47_f1_m: 0.9852 - val_dense_47_f1_m_1: 0.9852 - val_dense_47_f1_m_2: 0.9852 - val_dense_48_f1_m: 0.9514 - val_dense_48_f1_m_1: 0.9514 - val_dense_48_f1_m_2: 0.9514\n",
            "Epoch 33/50\n",
            "596/596 [==============================] - 0s 140us/step - loss: 0.4119 - dense_46_loss: 0.0751 - dense_47_loss: 0.1474 - dense_48_loss: 0.1894 - dense_46_f1_m: 0.9361 - dense_46_f1_m_1: 0.9361 - dense_46_f1_m_2: 0.9361 - dense_47_f1_m: 0.9859 - dense_47_f1_m_1: 0.9859 - dense_47_f1_m_2: 0.9859 - dense_48_f1_m: 0.9433 - dense_48_f1_m_1: 0.9433 - dense_48_f1_m_2: 0.9433 - val_loss: 0.3740 - val_dense_46_loss: 0.0687 - val_dense_47_loss: 0.1342 - val_dense_48_loss: 0.1711 - val_dense_46_f1_m: 0.8398 - val_dense_46_f1_m_1: 0.8398 - val_dense_46_f1_m_2: 0.8398 - val_dense_47_f1_m: 0.9790 - val_dense_47_f1_m_1: 0.9790 - val_dense_47_f1_m_2: 0.9790 - val_dense_48_f1_m: 0.9470 - val_dense_48_f1_m_1: 0.9470 - val_dense_48_f1_m_2: 0.9470\n",
            "Epoch 34/50\n",
            "596/596 [==============================] - 0s 146us/step - loss: 0.5168 - dense_46_loss: 0.0968 - dense_47_loss: 0.1894 - dense_48_loss: 0.2306 - dense_46_f1_m: 0.8630 - dense_46_f1_m_1: 0.8630 - dense_46_f1_m_2: 0.8630 - dense_47_f1_m: 0.9793 - dense_47_f1_m_1: 0.9793 - dense_47_f1_m_2: 0.9793 - dense_48_f1_m: 0.9291 - dense_48_f1_m_1: 0.9291 - dense_48_f1_m_2: 0.9291 - val_loss: 0.3949 - val_dense_46_loss: 0.0617 - val_dense_47_loss: 0.1611 - val_dense_48_loss: 0.1721 - val_dense_46_f1_m: 0.8856 - val_dense_46_f1_m_1: 0.8856 - val_dense_46_f1_m_2: 0.8856 - val_dense_47_f1_m: 0.9831 - val_dense_47_f1_m_1: 0.9831 - val_dense_47_f1_m_2: 0.9831 - val_dense_48_f1_m: 0.9479 - val_dense_48_f1_m_1: 0.9479 - val_dense_48_f1_m_2: 0.9479\n",
            "Epoch 35/50\n",
            "596/596 [==============================] - 0s 146us/step - loss: 0.4979 - dense_46_loss: 0.0927 - dense_47_loss: 0.1859 - dense_48_loss: 0.2193 - dense_46_f1_m: 0.8997 - dense_46_f1_m_1: 0.8997 - dense_46_f1_m_2: 0.8997 - dense_47_f1_m: 0.9824 - dense_47_f1_m_1: 0.9824 - dense_47_f1_m_2: 0.9824 - dense_48_f1_m: 0.9401 - dense_48_f1_m_1: 0.9401 - dense_48_f1_m_2: 0.9401 - val_loss: 0.4492 - val_dense_46_loss: 0.1020 - val_dense_47_loss: 0.1331 - val_dense_48_loss: 0.2141 - val_dense_46_f1_m: 0.7930 - val_dense_46_f1_m_1: 0.7930 - val_dense_46_f1_m_2: 0.7930 - val_dense_47_f1_m: 0.9791 - val_dense_47_f1_m_1: 0.9791 - val_dense_47_f1_m_2: 0.9791 - val_dense_48_f1_m: 0.9394 - val_dense_48_f1_m_1: 0.9394 - val_dense_48_f1_m_2: 0.9394\n",
            "Epoch 36/50\n",
            "596/596 [==============================] - 0s 144us/step - loss: 0.5459 - dense_46_loss: 0.1137 - dense_47_loss: 0.1888 - dense_48_loss: 0.2434 - dense_46_f1_m: 0.8782 - dense_46_f1_m_1: 0.8782 - dense_46_f1_m_2: 0.8782 - dense_47_f1_m: 0.9813 - dense_47_f1_m_1: 0.9813 - dense_47_f1_m_2: 0.9813 - dense_48_f1_m: 0.9365 - dense_48_f1_m_1: 0.9365 - dense_48_f1_m_2: 0.9365 - val_loss: 0.3902 - val_dense_46_loss: 0.0814 - val_dense_47_loss: 0.1243 - val_dense_48_loss: 0.1845 - val_dense_46_f1_m: 0.7930 - val_dense_46_f1_m_1: 0.7930 - val_dense_46_f1_m_2: 0.7930 - val_dense_47_f1_m: 0.9812 - val_dense_47_f1_m_1: 0.9812 - val_dense_47_f1_m_2: 0.9812 - val_dense_48_f1_m: 0.9432 - val_dense_48_f1_m_1: 0.9432 - val_dense_48_f1_m_2: 0.9432\n",
            "Epoch 37/50\n",
            "596/596 [==============================] - 0s 161us/step - loss: 0.3999 - dense_46_loss: 0.0651 - dense_47_loss: 0.1531 - dense_48_loss: 0.1816 - dense_46_f1_m: 0.9370 - dense_46_f1_m_1: 0.9370 - dense_46_f1_m_2: 0.9370 - dense_47_f1_m: 0.9842 - dense_47_f1_m_1: 0.9842 - dense_47_f1_m_2: 0.9842 - dense_48_f1_m: 0.9345 - dense_48_f1_m_1: 0.9345 - dense_48_f1_m_2: 0.9345 - val_loss: 0.3125 - val_dense_46_loss: 0.0430 - val_dense_47_loss: 0.1363 - val_dense_48_loss: 0.1332 - val_dense_46_f1_m: 0.9219 - val_dense_46_f1_m_1: 0.9219 - val_dense_46_f1_m_2: 0.9219 - val_dense_47_f1_m: 0.9874 - val_dense_47_f1_m_1: 0.9874 - val_dense_47_f1_m_2: 0.9874 - val_dense_48_f1_m: 0.9552 - val_dense_48_f1_m_1: 0.9552 - val_dense_48_f1_m_2: 0.9552\n",
            "Epoch 38/50\n",
            "596/596 [==============================] - 0s 157us/step - loss: 0.4669 - dense_46_loss: 0.0878 - dense_47_loss: 0.1577 - dense_48_loss: 0.2214 - dense_46_f1_m: 0.8945 - dense_46_f1_m_1: 0.8945 - dense_46_f1_m_2: 0.8945 - dense_47_f1_m: 0.9822 - dense_47_f1_m_1: 0.9822 - dense_47_f1_m_2: 0.9822 - dense_48_f1_m: 0.9332 - dense_48_f1_m_1: 0.9332 - dense_48_f1_m_2: 0.9332 - val_loss: 0.3080 - val_dense_46_loss: 0.0483 - val_dense_47_loss: 0.1213 - val_dense_48_loss: 0.1384 - val_dense_46_f1_m: 0.9219 - val_dense_46_f1_m_1: 0.9219 - val_dense_46_f1_m_2: 0.9219 - val_dense_47_f1_m: 0.9874 - val_dense_47_f1_m_1: 0.9874 - val_dense_47_f1_m_2: 0.9874 - val_dense_48_f1_m: 0.9532 - val_dense_48_f1_m_1: 0.9532 - val_dense_48_f1_m_2: 0.9532\n",
            "Epoch 39/50\n",
            "596/596 [==============================] - 0s 142us/step - loss: 0.5195 - dense_46_loss: 0.0978 - dense_47_loss: 0.1851 - dense_48_loss: 0.2366 - dense_46_f1_m: 0.8626 - dense_46_f1_m_1: 0.8626 - dense_46_f1_m_2: 0.8626 - dense_47_f1_m: 0.9767 - dense_47_f1_m_1: 0.9767 - dense_47_f1_m_2: 0.9767 - dense_48_f1_m: 0.9360 - dense_48_f1_m_1: 0.9360 - dense_48_f1_m_2: 0.9360 - val_loss: 0.3613 - val_dense_46_loss: 0.0707 - val_dense_47_loss: 0.1116 - val_dense_48_loss: 0.1790 - val_dense_46_f1_m: 0.8398 - val_dense_46_f1_m_1: 0.8398 - val_dense_46_f1_m_2: 0.8398 - val_dense_47_f1_m: 0.9833 - val_dense_47_f1_m_1: 0.9833 - val_dense_47_f1_m_2: 0.9833 - val_dense_48_f1_m: 0.9419 - val_dense_48_f1_m_1: 0.9419 - val_dense_48_f1_m_2: 0.9419\n",
            "Epoch 40/50\n",
            "596/596 [==============================] - 0s 141us/step - loss: 0.4688 - dense_46_loss: 0.0978 - dense_47_loss: 0.1549 - dense_48_loss: 0.2161 - dense_46_f1_m: 0.8688 - dense_46_f1_m_1: 0.8688 - dense_46_f1_m_2: 0.8688 - dense_47_f1_m: 0.9811 - dense_47_f1_m_1: 0.9811 - dense_47_f1_m_2: 0.9811 - dense_48_f1_m: 0.9352 - dense_48_f1_m_1: 0.9352 - dense_48_f1_m_2: 0.9352 - val_loss: 0.4710 - val_dense_46_loss: 0.1226 - val_dense_47_loss: 0.1240 - val_dense_48_loss: 0.2244 - val_dense_46_f1_m: 0.5195 - val_dense_46_f1_m_1: 0.5195 - val_dense_46_f1_m_2: 0.5195 - val_dense_47_f1_m: 0.9751 - val_dense_47_f1_m_1: 0.9751 - val_dense_47_f1_m_2: 0.9751 - val_dense_48_f1_m: 0.9338 - val_dense_48_f1_m_1: 0.9338 - val_dense_48_f1_m_2: 0.9338\n",
            "Epoch 41/50\n",
            "596/596 [==============================] - 0s 143us/step - loss: 0.4473 - dense_46_loss: 0.0897 - dense_47_loss: 0.1491 - dense_48_loss: 0.2084 - dense_46_f1_m: 0.8299 - dense_46_f1_m_1: 0.8299 - dense_46_f1_m_2: 0.8299 - dense_47_f1_m: 0.9788 - dense_47_f1_m_1: 0.9788 - dense_47_f1_m_2: 0.9788 - dense_48_f1_m: 0.9382 - dense_48_f1_m_1: 0.9382 - dense_48_f1_m_2: 0.9382 - val_loss: 0.4909 - val_dense_46_loss: 0.1247 - val_dense_47_loss: 0.1282 - val_dense_48_loss: 0.2380 - val_dense_46_f1_m: 0.6016 - val_dense_46_f1_m_1: 0.6016 - val_dense_46_f1_m_2: 0.6016 - val_dense_47_f1_m: 0.9771 - val_dense_47_f1_m_1: 0.9771 - val_dense_47_f1_m_2: 0.9771 - val_dense_48_f1_m: 0.9301 - val_dense_48_f1_m_1: 0.9301 - val_dense_48_f1_m_2: 0.9301\n",
            "Epoch 42/50\n",
            "596/596 [==============================] - 0s 148us/step - loss: 0.4494 - dense_46_loss: 0.0877 - dense_47_loss: 0.1512 - dense_48_loss: 0.2105 - dense_46_f1_m: 0.8567 - dense_46_f1_m_1: 0.8567 - dense_46_f1_m_2: 0.8567 - dense_47_f1_m: 0.9785 - dense_47_f1_m_1: 0.9785 - dense_47_f1_m_2: 0.9785 - dense_48_f1_m: 0.9400 - dense_48_f1_m_1: 0.9400 - dense_48_f1_m_2: 0.9400 - val_loss: 0.3276 - val_dense_46_loss: 0.0425 - val_dense_47_loss: 0.1290 - val_dense_48_loss: 0.1561 - val_dense_46_f1_m: 0.9833 - val_dense_46_f1_m_1: 0.9833 - val_dense_46_f1_m_2: 0.9833 - val_dense_47_f1_m: 0.9852 - val_dense_47_f1_m_1: 0.9852 - val_dense_47_f1_m_2: 0.9852 - val_dense_48_f1_m: 0.9443 - val_dense_48_f1_m_1: 0.9443 - val_dense_48_f1_m_2: 0.9443\n",
            "Epoch 43/50\n",
            "596/596 [==============================] - 0s 150us/step - loss: 0.4495 - dense_46_loss: 0.0688 - dense_47_loss: 0.1659 - dense_48_loss: 0.2148 - dense_46_f1_m: 0.9129 - dense_46_f1_m_1: 0.9129 - dense_46_f1_m_2: 0.9129 - dense_47_f1_m: 0.9802 - dense_47_f1_m_1: 0.9802 - dense_47_f1_m_2: 0.9802 - dense_48_f1_m: 0.9327 - dense_48_f1_m_1: 0.9327 - dense_48_f1_m_2: 0.9327 - val_loss: 0.3638 - val_dense_46_loss: 0.0512 - val_dense_47_loss: 0.1409 - val_dense_48_loss: 0.1717 - val_dense_46_f1_m: 0.9598 - val_dense_46_f1_m_1: 0.9598 - val_dense_46_f1_m_2: 0.9598 - val_dense_47_f1_m: 0.9852 - val_dense_47_f1_m_1: 0.9852 - val_dense_47_f1_m_2: 0.9852 - val_dense_48_f1_m: 0.9467 - val_dense_48_f1_m_1: 0.9467 - val_dense_48_f1_m_2: 0.9467\n",
            "Epoch 44/50\n",
            "596/596 [==============================] - 0s 153us/step - loss: 0.3827 - dense_46_loss: 0.0712 - dense_47_loss: 0.1312 - dense_48_loss: 0.1803 - dense_46_f1_m: 0.8756 - dense_46_f1_m_1: 0.8756 - dense_46_f1_m_2: 0.8756 - dense_47_f1_m: 0.9824 - dense_47_f1_m_1: 0.9824 - dense_47_f1_m_2: 0.9824 - dense_48_f1_m: 0.9402 - dense_48_f1_m_1: 0.9402 - dense_48_f1_m_2: 0.9402 - val_loss: 0.3522 - val_dense_46_loss: 0.0422 - val_dense_47_loss: 0.1489 - val_dense_48_loss: 0.1611 - val_dense_46_f1_m: 0.9665 - val_dense_46_f1_m_1: 0.9665 - val_dense_46_f1_m_2: 0.9665 - val_dense_47_f1_m: 0.9830 - val_dense_47_f1_m_1: 0.9830 - val_dense_47_f1_m_2: 0.9830 - val_dense_48_f1_m: 0.9446 - val_dense_48_f1_m_1: 0.9446 - val_dense_48_f1_m_2: 0.9446\n",
            "Epoch 45/50\n",
            "596/596 [==============================] - 0s 157us/step - loss: 0.4749 - dense_46_loss: 0.0876 - dense_47_loss: 0.1684 - dense_48_loss: 0.2189 - dense_46_f1_m: 0.8761 - dense_46_f1_m_1: 0.8761 - dense_46_f1_m_2: 0.8761 - dense_47_f1_m: 0.9815 - dense_47_f1_m_1: 0.9815 - dense_47_f1_m_2: 0.9815 - dense_48_f1_m: 0.9368 - dense_48_f1_m_1: 0.9368 - dense_48_f1_m_2: 0.9368 - val_loss: 0.2591 - val_dense_46_loss: 0.0284 - val_dense_47_loss: 0.1053 - val_dense_48_loss: 0.1254 - val_dense_46_f1_m: 0.9609 - val_dense_46_f1_m_1: 0.9609 - val_dense_46_f1_m_2: 0.9609 - val_dense_47_f1_m: 0.9854 - val_dense_47_f1_m_1: 0.9854 - val_dense_47_f1_m_2: 0.9854 - val_dense_48_f1_m: 0.9485 - val_dense_48_f1_m_1: 0.9485 - val_dense_48_f1_m_2: 0.9485\n",
            "Epoch 46/50\n",
            "596/596 [==============================] - 0s 156us/step - loss: 0.4084 - dense_46_loss: 0.0861 - dense_47_loss: 0.1295 - dense_48_loss: 0.1927 - dense_46_f1_m: 0.8778 - dense_46_f1_m_1: 0.8778 - dense_46_f1_m_2: 0.8778 - dense_47_f1_m: 0.9812 - dense_47_f1_m_1: 0.9812 - dense_47_f1_m_2: 0.9812 - dense_48_f1_m: 0.9377 - dense_48_f1_m_1: 0.9377 - dense_48_f1_m_2: 0.9377 - val_loss: 0.2856 - val_dense_46_loss: 0.0535 - val_dense_47_loss: 0.0922 - val_dense_48_loss: 0.1400 - val_dense_46_f1_m: 0.8516 - val_dense_46_f1_m_1: 0.8516 - val_dense_46_f1_m_2: 0.8516 - val_dense_47_f1_m: 0.9855 - val_dense_47_f1_m_1: 0.9855 - val_dense_47_f1_m_2: 0.9855 - val_dense_48_f1_m: 0.9444 - val_dense_48_f1_m_1: 0.9444 - val_dense_48_f1_m_2: 0.9444\n",
            "Epoch 47/50\n",
            "596/596 [==============================] - 0s 150us/step - loss: 0.4012 - dense_46_loss: 0.0720 - dense_47_loss: 0.1291 - dense_48_loss: 0.2000 - dense_46_f1_m: 0.8708 - dense_46_f1_m_1: 0.8708 - dense_46_f1_m_2: 0.8708 - dense_47_f1_m: 0.9819 - dense_47_f1_m_1: 0.9819 - dense_47_f1_m_2: 0.9819 - dense_48_f1_m: 0.9343 - dense_48_f1_m_1: 0.9343 - dense_48_f1_m_2: 0.9343 - val_loss: 0.2603 - val_dense_46_loss: 0.0277 - val_dense_47_loss: 0.1103 - val_dense_48_loss: 0.1223 - val_dense_46_f1_m: 1.0000 - val_dense_46_f1_m_1: 1.0000 - val_dense_46_f1_m_2: 1.0000 - val_dense_47_f1_m: 0.9874 - val_dense_47_f1_m_1: 0.9874 - val_dense_47_f1_m_2: 0.9874 - val_dense_48_f1_m: 0.9509 - val_dense_48_f1_m_1: 0.9509 - val_dense_48_f1_m_2: 0.9509\n",
            "Epoch 48/50\n",
            "596/596 [==============================] - 0s 166us/step - loss: 0.3074 - dense_46_loss: 0.0448 - dense_47_loss: 0.1056 - dense_48_loss: 0.1570 - dense_46_f1_m: 0.9553 - dense_46_f1_m_1: 0.9553 - dense_46_f1_m_2: 0.9553 - dense_47_f1_m: 0.9848 - dense_47_f1_m_1: 0.9848 - dense_47_f1_m_2: 0.9848 - dense_48_f1_m: 0.9406 - dense_48_f1_m_1: 0.9406 - dense_48_f1_m_2: 0.9406 - val_loss: 0.2619 - val_dense_46_loss: 0.0303 - val_dense_47_loss: 0.1092 - val_dense_48_loss: 0.1224 - val_dense_46_f1_m: 0.9219 - val_dense_46_f1_m_1: 0.9219 - val_dense_46_f1_m_2: 0.9219 - val_dense_47_f1_m: 0.9874 - val_dense_47_f1_m_1: 0.9874 - val_dense_47_f1_m_2: 0.9874 - val_dense_48_f1_m: 0.9468 - val_dense_48_f1_m_1: 0.9468 - val_dense_48_f1_m_2: 0.9468\n",
            "Epoch 49/50\n",
            "596/596 [==============================] - 0s 156us/step - loss: 0.3802 - dense_46_loss: 0.0637 - dense_47_loss: 0.1290 - dense_48_loss: 0.1875 - dense_46_f1_m: 0.9065 - dense_46_f1_m_1: 0.9065 - dense_46_f1_m_2: 0.9065 - dense_47_f1_m: 0.9819 - dense_47_f1_m_1: 0.9819 - dense_47_f1_m_2: 0.9819 - dense_48_f1_m: 0.9373 - dense_48_f1_m_1: 0.9373 - dense_48_f1_m_2: 0.9373 - val_loss: 0.2477 - val_dense_46_loss: 0.0286 - val_dense_47_loss: 0.1010 - val_dense_48_loss: 0.1181 - val_dense_46_f1_m: 0.9219 - val_dense_46_f1_m_1: 0.9219 - val_dense_46_f1_m_2: 0.9219 - val_dense_47_f1_m: 0.9874 - val_dense_47_f1_m_1: 0.9874 - val_dense_47_f1_m_2: 0.9874 - val_dense_48_f1_m: 0.9506 - val_dense_48_f1_m_1: 0.9506 - val_dense_48_f1_m_2: 0.9506\n",
            "Epoch 50/50\n",
            "596/596 [==============================] - 0s 159us/step - loss: 0.3316 - dense_46_loss: 0.0540 - dense_47_loss: 0.1116 - dense_48_loss: 0.1661 - dense_46_f1_m: 0.9369 - dense_46_f1_m_1: 0.9369 - dense_46_f1_m_2: 0.9369 - dense_47_f1_m: 0.9861 - dense_47_f1_m_1: 0.9861 - dense_47_f1_m_2: 0.9861 - dense_48_f1_m: 0.9493 - dense_48_f1_m_1: 0.9493 - dense_48_f1_m_2: 0.9493 - val_loss: 0.2716 - val_dense_46_loss: 0.0477 - val_dense_47_loss: 0.0889 - val_dense_48_loss: 0.1350 - val_dense_46_f1_m: 0.8984 - val_dense_46_f1_m_1: 0.8984 - val_dense_46_f1_m_2: 0.8984 - val_dense_47_f1_m: 0.9855 - val_dense_47_f1_m_1: 0.9855 - val_dense_47_f1_m_2: 0.9855 - val_dense_48_f1_m: 0.9576 - val_dense_48_f1_m_1: 0.9576 - val_dense_48_f1_m_2: 0.9576\n",
            "(420, 1)\n",
            "(420, 1)\n",
            "(420, 5)\n"
          ],
          "name": "stdout"
        }
      ]
    },
    {
      "cell_type": "code",
      "metadata": {
        "id": "uazFkBtIIJsX",
        "colab_type": "code",
        "colab": {}
      },
      "source": [
        "db_plain_res = {}\n",
        "db_plain_res = {'yy1':yy1,'yy2':yy2,'yy3':yy3,'history':his_plain}\n",
        "feed_data_to_pkl('plain_res_his',db_plain_res)\n",
        "feed_data_to_pkl('plain_model',model_plain)"
      ],
      "execution_count": 0,
      "outputs": []
    },
    {
      "cell_type": "code",
      "metadata": {
        "id": "yWnYTDfl9L8R",
        "colab_type": "code",
        "colab": {}
      },
      "source": [
        "from imblearn.keras import BalancedBatchGenerator\n",
        "def fit_predict_balanced_model(X_train, y1_train,y2_train,y3_train, X_test, y1_test,y2_test,y3_test):\n",
        "    model = make_model(X_train.shape[1])\n",
        "    training_generator = BalancedBatchGenerator(X_train, [y1_train,y2_train,y3_train],validation_split=0.3,\n",
        "                                                batch_size=30,\n",
        "                                                random_state=42)\n",
        "    history = model.fit_generator(generator=training_generator, epochs=50, verbose=1)\n",
        "    y_pred = model.predict_proba(X_test, batch_size=30)\n",
        "    return roc_auc_score(y_test, y_pred)"
      ],
      "execution_count": 0,
      "outputs": []
    },
    {
      "cell_type": "code",
      "metadata": {
        "trusted": true,
        "id": "LpJczJi2Zy04",
        "colab_type": "code",
        "outputId": "be339f4d-affb-43c5-f3df-11e7647beb9f",
        "colab": {
          "base_uri": "https://localhost:8080/",
          "height": 51
        }
      },
      "source": [
        "print(y3_train.shape)\n",
        "print(y3_test.shape)"
      ],
      "execution_count": 95,
      "outputs": [
        {
          "output_type": "stream",
          "text": [
            "(852, 5)\n",
            "(420, 5)\n"
          ],
          "name": "stdout"
        }
      ]
    },
    {
      "cell_type": "markdown",
      "metadata": {
        "colab_type": "text",
        "id": "0lzGtpAMtvHE"
      },
      "source": [
        "## Multi output neural network"
      ]
    },
    {
      "cell_type": "code",
      "metadata": {
        "trusted": true,
        "id": "Uv2grtcVZy0-",
        "colab_type": "code",
        "colab": {}
      },
      "source": [
        "def recall_m(y_true, y_pred):\n",
        "        true_positives = K.sum(K.round(K.clip(y_true * y_pred, 0, 1)))\n",
        "        possible_positives = K.sum(K.round(K.clip(y_true, 0, 1)))\n",
        "        recall = true_positives / (possible_positives + K.epsilon())\n",
        "        return recall\n",
        "\n",
        "def precision_m(y_true, y_pred):\n",
        "        true_positives = K.sum(K.round(K.clip(y_true * y_pred, 0, 1)))\n",
        "        predicted_positives = K.sum(K.round(K.clip(y_pred, 0, 1)))\n",
        "        precision = true_positives / (predicted_positives + K.epsilon())\n",
        "        return precision\n",
        "\n",
        "def f1_m(y_true, y_pred):\n",
        "    precision = precision_m(y_true, y_pred)\n",
        "    recall = recall_m(y_true, y_pred)\n",
        "    return 2*((precision*recall)/(precision+recall+K.epsilon()))"
      ],
      "execution_count": 0,
      "outputs": []
    },
    {
      "cell_type": "code",
      "metadata": {
        "trusted": true,
        "id": "KUWHsjfmZy1A",
        "colab_type": "code",
        "colab": {}
      },
      "source": [
        "def f1(y_true, y_pred):\n",
        "    y_pred = K.round(y_pred)\n",
        "    tp = K.sum(K.cast(y_true*y_pred, 'float'), axis=0)\n",
        "    tn = K.sum(K.cast((1-y_true)*(1-y_pred), 'float'), axis=0)\n",
        "    fp = K.sum(K.cast((1-y_true)*y_pred, 'float'), axis=0)\n",
        "    fn = K.sum(K.cast(y_true*(1-y_pred), 'float'), axis=0)\n",
        "\n",
        "    p = tp / (tp + fp + K.epsilon())\n",
        "    r = tp / (tp + fn + K.epsilon())\n",
        "\n",
        "    f1 = 2*p*r / (p+r+K.epsilon())\n",
        "    f1 = tf.where(tf.is_nan(f1), tf.zeros_like(f1), f1)\n",
        "    return K.mean(f1)\n",
        "\n",
        "def f1_loss(y_true, y_pred):\n",
        "    \n",
        "    tp = K.sum(K.cast(y_true*y_pred, 'float'), axis=0)\n",
        "    tn = K.sum(K.cast((1-y_true)*(1-y_pred), 'float'), axis=0)\n",
        "    fp = K.sum(K.cast((1-y_true)*y_pred, 'float'), axis=0)\n",
        "    fn = K.sum(K.cast(y_true*(1-y_pred), 'float'), axis=0)\n",
        "\n",
        "    p = tp / (tp + fp + K.epsilon())\n",
        "    r = tp / (tp + fn + K.epsilon())\n",
        "\n",
        "    f1 = 2*p*r / (p+r+K.epsilon())\n",
        "    f1 = tf.where(tf.is_nan(f1), tf.zeros_like(f1), f1)\n",
        "    return 1 - K.mean(f1)"
      ],
      "execution_count": 0,
      "outputs": []
    },
    {
      "cell_type": "code",
      "metadata": {
        "trusted": true,
        "id": "_dkHVaj8Zy1J",
        "colab_type": "code",
        "colab": {}
      },
      "source": [
        "class_weights = {0: 1.08377,\n",
        "                1: 25.875,\n",
        "                2: 30.3,\n",
        "                3: 414,\n",
        "                4: 310.5} # w(i) = N/n(i)\n",
        "cw1 = {0:1.,\n",
        "       1:10.} \n",
        "cw2 = {0:10.,\n",
        "       1:1.} "
      ],
      "execution_count": 0,
      "outputs": []
    },
    {
      "cell_type": "code",
      "metadata": {
        "trusted": true,
        "id": "Re2FLngLZy1M",
        "colab_type": "code",
        "outputId": "7a1388f4-1348-488d-8833-06f5ca709efe",
        "colab": {}
      },
      "source": [
        "# fit the model\n",
        "history = model.fit(X_train, [y1_train,y2_train,y3_train],\n",
        "                    validation_split=0.3, epochs=100,batch_size = 10, verbose=1,\n",
        "                    class_weight=[cw1,cw2,class_weights])\n",
        "                    #{'out1':cw1,'ou2t':cw2,'out3':class_weights})"
      ],
      "execution_count": 0,
      "outputs": [
        {
          "output_type": "stream",
          "text": [
            "Train on 582 samples, validate on 250 samples\n",
            "Epoch 1/100\n",
            "582/582 [==============================] - 2s 3ms/step - loss: 10.0809 - dense_4_loss: 1.1519 - dense_5_loss: 1.0012 - dense_6_loss: 7.8334 - dense_4_f1_m: 0.2067 - dense_5_f1_m: 0.6651 - dense_6_f1_m: 0.0000e+00 - val_loss: 11.4032 - val_dense_4_loss: 1.1406 - val_dense_5_loss: 1.0374 - val_dense_6_loss: 9.2253 - val_dense_4_f1_m: 0.0000e+00 - val_dense_5_f1_m: 0.9694 - val_dense_6_f1_m: 0.0000e+00\n",
            "Epoch 2/100\n",
            "582/582 [==============================] - 1s 1ms/step - loss: 9.6669 - dense_4_loss: 1.1072 - dense_5_loss: 0.9717 - dense_6_loss: 7.4962 - dense_4_f1_m: 0.2354 - dense_5_f1_m: 0.7059 - dense_6_f1_m: 0.0000e+00 - val_loss: 11.3877 - val_dense_4_loss: 1.1356 - val_dense_5_loss: 1.0307 - val_dense_6_loss: 9.2214 - val_dense_4_f1_m: 0.0000e+00 - val_dense_5_f1_m: 0.9694 - val_dense_6_f1_m: 0.0000e+00\n",
            "Epoch 3/100\n",
            "582/582 [==============================] - 1s 984us/step - loss: 9.1311 - dense_4_loss: 1.0410 - dense_5_loss: 0.9364 - dense_6_loss: 7.0732 - dense_4_f1_m: 0.2261 - dense_5_f1_m: 0.7187 - dense_6_f1_m: 0.0000e+00 - val_loss: 11.3336 - val_dense_4_loss: 1.1214 - val_dense_5_loss: 1.0167 - val_dense_6_loss: 9.1955 - val_dense_4_f1_m: 0.2027 - val_dense_5_f1_m: 0.9694 - val_dense_6_f1_m: 0.0000e+00\n",
            "Epoch 4/100\n",
            "582/582 [==============================] - 1s 1ms/step - loss: 8.9088 - dense_4_loss: 0.9982 - dense_5_loss: 0.9155 - dense_6_loss: 6.9195 - dense_4_f1_m: 0.2305 - dense_5_f1_m: 0.7590 - dense_6_f1_m: 0.0000e+00 - val_loss: 11.2227 - val_dense_4_loss: 1.0729 - val_dense_5_loss: 0.9819 - val_dense_6_loss: 9.1678 - val_dense_4_f1_m: 0.2843 - val_dense_5_f1_m: 0.8727 - val_dense_6_f1_m: 0.0000e+00\n",
            "Epoch 5/100\n",
            "582/582 [==============================] - 1s 960us/step - loss: 8.8629 - dense_4_loss: 0.9033 - dense_5_loss: 0.8493 - dense_6_loss: 7.0315 - dense_4_f1_m: 0.2822 - dense_5_f1_m: 0.7921 - dense_6_f1_m: 0.0000e+00 - val_loss: 10.9577 - val_dense_4_loss: 1.0309 - val_dense_5_loss: 0.9423 - val_dense_6_loss: 8.9845 - val_dense_4_f1_m: 0.2787 - val_dense_5_f1_m: 0.9617 - val_dense_6_f1_m: 0.0000e+00\n",
            "Epoch 6/100\n",
            "582/582 [==============================] - 1s 984us/step - loss: 8.4214 - dense_4_loss: 0.8725 - dense_5_loss: 0.8390 - dense_6_loss: 6.6369 - dense_4_f1_m: 0.2720 - dense_5_f1_m: 0.8119 - dense_6_f1_m: 0.0062 - val_loss: 10.6368 - val_dense_4_loss: 0.9499 - val_dense_5_loss: 0.8895 - val_dense_6_loss: 8.7974 - val_dense_4_f1_m: 0.3714 - val_dense_5_f1_m: 0.9167 - val_dense_6_f1_m: 0.0000e+00\n",
            "Epoch 7/100\n",
            "582/582 [==============================] - 1s 980us/step - loss: 7.7768 - dense_4_loss: 0.8237 - dense_5_loss: 0.7705 - dense_6_loss: 6.1102 - dense_4_f1_m: 0.2904 - dense_5_f1_m: 0.8291 - dense_6_f1_m: 0.0182 - val_loss: 10.7258 - val_dense_4_loss: 0.8789 - val_dense_5_loss: 0.8267 - val_dense_6_loss: 9.0203 - val_dense_4_f1_m: 0.3720 - val_dense_5_f1_m: 0.9593 - val_dense_6_f1_m: 0.0000e+00\n",
            "Epoch 8/100\n",
            "582/582 [==============================] - 1s 1ms/step - loss: 8.1020 - dense_4_loss: 0.7977 - dense_5_loss: 0.7534 - dense_6_loss: 6.4790 - dense_4_f1_m: 0.2885 - dense_5_f1_m: 0.8292 - dense_6_f1_m: 0.0395 - val_loss: 10.5240 - val_dense_4_loss: 0.8367 - val_dense_5_loss: 0.7833 - val_dense_6_loss: 8.9041 - val_dense_4_f1_m: 0.3600 - val_dense_5_f1_m: 0.9845 - val_dense_6_f1_m: 0.0000e+00\n",
            "Epoch 9/100\n",
            "582/582 [==============================] - 1s 999us/step - loss: 7.3034 - dense_4_loss: 0.7409 - dense_5_loss: 0.7089 - dense_6_loss: 5.8004 - dense_4_f1_m: 0.3284 - dense_5_f1_m: 0.8514 - dense_6_f1_m: 0.0527 - val_loss: 9.7583 - val_dense_4_loss: 0.6826 - val_dense_5_loss: 0.6712 - val_dense_6_loss: 8.4045 - val_dense_4_f1_m: 0.4000 - val_dense_5_f1_m: 0.9799 - val_dense_6_f1_m: 0.0000e+00\n",
            "Epoch 10/100\n",
            "582/582 [==============================] - 1s 988us/step - loss: 7.2270 - dense_4_loss: 0.6835 - dense_5_loss: 0.6626 - dense_6_loss: 5.8223 - dense_4_f1_m: 0.3695 - dense_5_f1_m: 0.8772 - dense_6_f1_m: 0.0825 - val_loss: 9.9772 - val_dense_4_loss: 0.6361 - val_dense_5_loss: 0.6458 - val_dense_6_loss: 8.6953 - val_dense_4_f1_m: 0.3469 - val_dense_5_f1_m: 0.9432 - val_dense_6_f1_m: 0.0073\n",
            "Epoch 11/100\n",
            "582/582 [==============================] - 1s 997us/step - loss: 6.5804 - dense_4_loss: 0.6757 - dense_5_loss: 0.6746 - dense_6_loss: 8.6624 - dense_4_f1_m: 0.3577 - dense_5_f1_m: 0.8776 - dense_6_f1_m: 0.1506 - val_loss: 9.6994 - val_dense_4_loss: 0.5539 - val_dense_5_loss: 0.5775 - val_dense_6_loss: 8.5679 - val_dense_4_f1_m: 0.3840 - val_dense_5_f1_m: 0.9483 - val_dense_6_f1_m: 0.0218\n",
            "Epoch 12/100\n",
            "582/582 [==============================] - 1s 987us/step - loss: 6.6299 - dense_4_loss: 0.6794 - dense_5_loss: 0.6532 - dense_6_loss: 5.2415 - dense_4_f1_m: 0.3392 - dense_5_f1_m: 0.8701 - dense_6_f1_m: 0.2274 - val_loss: 9.1297 - val_dense_4_loss: 0.5103 - val_dense_5_loss: 0.5330 - val_dense_6_loss: 8.0864 - val_dense_4_f1_m: 0.3840 - val_dense_5_f1_m: 0.9567 - val_dense_6_f1_m: 0.0636\n",
            "Epoch 13/100\n",
            "582/582 [==============================] - 1s 1ms/step - loss: 6.2818 - dense_4_loss: 0.6384 - dense_5_loss: 0.6087 - dense_6_loss: 4.9879 - dense_4_f1_m: 0.3835 - dense_5_f1_m: 0.8860 - dense_6_f1_m: 0.2918 - val_loss: 9.1762 - val_dense_4_loss: 0.4875 - val_dense_5_loss: 0.5193 - val_dense_6_loss: 8.1694 - val_dense_4_f1_m: 0.4000 - val_dense_5_f1_m: 0.9824 - val_dense_6_f1_m: 0.3781\n",
            "Epoch 14/100\n",
            "582/582 [==============================] - 1s 967us/step - loss: 5.9043 - dense_4_loss: 0.6230 - dense_5_loss: 0.5912 - dense_6_loss: 4.6495 - dense_4_f1_m: 0.3853 - dense_5_f1_m: 0.8794 - dense_6_f1_m: 0.2957 - val_loss: 9.1427 - val_dense_4_loss: 0.5553 - val_dense_5_loss: 0.5695 - val_dense_6_loss: 8.0179 - val_dense_4_f1_m: 0.4133 - val_dense_5_f1_m: 0.9798 - val_dense_6_f1_m: 0.6052\n",
            "Epoch 15/100\n",
            "582/582 [==============================] - 1s 1ms/step - loss: 5.7440 - dense_4_loss: 0.5811 - dense_5_loss: 0.5649 - dense_6_loss: 4.5641 - dense_4_f1_m: 0.4168 - dense_5_f1_m: 0.8905 - dense_6_f1_m: 0.4096 - val_loss: 10.6442 - val_dense_4_loss: 0.9416 - val_dense_5_loss: 0.8335 - val_dense_6_loss: 8.8690 - val_dense_4_f1_m: 0.0533 - val_dense_5_f1_m: 0.9693 - val_dense_6_f1_m: 0.8464\n",
            "Epoch 16/100\n",
            "582/582 [==============================] - 1s 1ms/step - loss: 5.5283 - dense_4_loss: 0.5590 - dense_5_loss: 0.5418 - dense_6_loss: 4.3840 - dense_4_f1_m: 0.4605 - dense_5_f1_m: 0.9105 - dense_6_f1_m: 0.4200 - val_loss: 9.3441 - val_dense_4_loss: 0.4664 - val_dense_5_loss: 0.5029 - val_dense_6_loss: 8.3748 - val_dense_4_f1_m: 0.4267 - val_dense_5_f1_m: 0.9822 - val_dense_6_f1_m: 0.7922\n",
            "Epoch 17/100\n",
            "582/582 [==============================] - 1s 1ms/step - loss: 5.3760 - dense_4_loss: 0.4887 - dense_5_loss: 0.5106 - dense_6_loss: 4.3360 - dense_4_f1_m: 0.4729 - dense_5_f1_m: 0.9150 - dense_6_f1_m: 0.5187 - val_loss: 9.5136 - val_dense_4_loss: 0.3825 - val_dense_5_loss: 0.4414 - val_dense_6_loss: 8.6897 - val_dense_4_f1_m: 0.3907 - val_dense_5_f1_m: 0.9780 - val_dense_6_f1_m: 0.7310\n",
            "Epoch 18/100\n",
            "582/582 [==============================] - 1s 1ms/step - loss: 5.6538 - dense_4_loss: 0.5911 - dense_5_loss: 0.5792 - dense_6_loss: 4.4360 - dense_4_f1_m: 0.4040 - dense_5_f1_m: 0.9169 - dense_6_f1_m: 0.5473 - val_loss: 9.9914 - val_dense_4_loss: 0.4840 - val_dense_5_loss: 0.5124 - val_dense_6_loss: 8.9949 - val_dense_4_f1_m: 0.3280 - val_dense_5_f1_m: 0.9069 - val_dense_6_f1_m: 0.5053\n",
            "Epoch 19/100\n",
            "582/582 [==============================] - 1s 973us/step - loss: 5.7919 - dense_4_loss: 0.5310 - dense_5_loss: 0.5463 - dense_6_loss: 4.6710 - dense_4_f1_m: 0.4141 - dense_5_f1_m: 0.9102 - dense_6_f1_m: 0.5733 - val_loss: 10.2789 - val_dense_4_loss: 0.5064 - val_dense_5_loss: 0.5325 - val_dense_6_loss: 9.2400 - val_dense_4_f1_m: 0.3333 - val_dense_5_f1_m: 0.9294 - val_dense_6_f1_m: 0.3331\n",
            "Epoch 20/100\n",
            "582/582 [==============================] - 1s 1ms/step - loss: 5.4579 - dense_4_loss: 0.5972 - dense_5_loss: 0.5777 - dense_6_loss: 4.2330 - dense_4_f1_m: 0.4032 - dense_5_f1_m: 0.9285 - dense_6_f1_m: 0.5781 - val_loss: 10.3715 - val_dense_4_loss: 0.4758 - val_dense_5_loss: 0.5329 - val_dense_6_loss: 9.3628 - val_dense_4_f1_m: 0.4400 - val_dense_5_f1_m: 0.9801 - val_dense_6_f1_m: 0.7809\n",
            "Epoch 21/100\n"
          ],
          "name": "stdout"
        },
        {
          "output_type": "stream",
          "text": [
            "582/582 [==============================] - 1s 1ms/step - loss: 5.0487 - dense_4_loss: 0.4689 - dense_5_loss: 0.4467 - dense_6_loss: 4.0846 - dense_4_f1_m: 0.4542 - dense_5_f1_m: 0.9348 - dense_6_f1_m: 0.6293 - val_loss: 9.7749 - val_dense_4_loss: 0.3834 - val_dense_5_loss: 0.4453 - val_dense_6_loss: 8.9462 - val_dense_4_f1_m: 0.4400 - val_dense_5_f1_m: 0.9824 - val_dense_6_f1_m: 0.8808\n",
            "Epoch 22/100\n",
            "582/582 [==============================] - 1s 977us/step - loss: 4.9204 - dense_4_loss: 0.4495 - dense_5_loss: 0.4650 - dense_6_loss: 3.9644 - dense_4_f1_m: 0.4757 - dense_5_f1_m: 0.9343 - dense_6_f1_m: 0.6607 - val_loss: 9.9789 - val_dense_4_loss: 0.4520 - val_dense_5_loss: 0.5118 - val_dense_6_loss: 9.0150 - val_dense_4_f1_m: 0.4400 - val_dense_5_f1_m: 0.9848 - val_dense_6_f1_m: 0.8480\n",
            "Epoch 23/100\n",
            "582/582 [==============================] - 1s 1ms/step - loss: 5.0781 - dense_4_loss: 0.4686 - dense_5_loss: 0.4344 - dense_6_loss: 4.1240 - dense_4_f1_m: 0.4588 - dense_5_f1_m: 0.9436 - dense_6_f1_m: 0.6688 - val_loss: 9.6838 - val_dense_4_loss: 0.4400 - val_dense_5_loss: 0.5076 - val_dense_6_loss: 8.7362 - val_dense_4_f1_m: 0.3867 - val_dense_5_f1_m: 0.9780 - val_dense_6_f1_m: 0.9064\n",
            "Epoch 24/100\n",
            "582/582 [==============================] - 1s 986us/step - loss: 5.6544 - dense_4_loss: 0.5737 - dense_5_loss: 0.5486 - dense_6_loss: 4.7841 - dense_4_f1_m: 0.4292 - dense_5_f1_m: 0.9414 - dense_6_f1_m: 0.6919 - val_loss: 9.1598 - val_dense_4_loss: 0.3701 - val_dense_5_loss: 0.4312 - val_dense_6_loss: 8.3585 - val_dense_4_f1_m: 0.3867 - val_dense_5_f1_m: 0.9780 - val_dense_6_f1_m: 0.8978\n",
            "Epoch 25/100\n",
            "582/582 [==============================] - 1s 1ms/step - loss: 4.9728 - dense_4_loss: 0.4779 - dense_5_loss: 0.4699 - dense_6_loss: 4.1979 - dense_4_f1_m: 0.4763 - dense_5_f1_m: 0.9321 - dense_6_f1_m: 0.7175 - val_loss: 9.8197 - val_dense_4_loss: 0.3298 - val_dense_5_loss: 0.3857 - val_dense_6_loss: 9.1042 - val_dense_4_f1_m: 0.4120 - val_dense_5_f1_m: 0.9709 - val_dense_6_f1_m: 0.7930\n",
            "Epoch 26/100\n",
            "582/582 [==============================] - 1s 994us/step - loss: 4.7070 - dense_4_loss: 0.4145 - dense_5_loss: 0.3984 - dense_6_loss: 3.8580 - dense_4_f1_m: 0.4819 - dense_5_f1_m: 0.9389 - dense_6_f1_m: 0.7226 - val_loss: 9.5200 - val_dense_4_loss: 0.3172 - val_dense_5_loss: 0.3694 - val_dense_6_loss: 8.8335 - val_dense_4_f1_m: 0.3987 - val_dense_5_f1_m: 0.9619 - val_dense_6_f1_m: 0.8244\n",
            "Epoch 27/100\n",
            "582/582 [==============================] - 1s 1ms/step - loss: 5.0279 - dense_4_loss: 0.4780 - dense_5_loss: 0.4761 - dense_6_loss: 4.2358 - dense_4_f1_m: 0.5367 - dense_5_f1_m: 0.9437 - dense_6_f1_m: 0.7349 - val_loss: 9.5844 - val_dense_4_loss: 0.4336 - val_dense_5_loss: 0.4493 - val_dense_6_loss: 8.7016 - val_dense_4_f1_m: 0.3853 - val_dense_5_f1_m: 0.9564 - val_dense_6_f1_m: 0.7504\n",
            "Epoch 28/100\n",
            "582/582 [==============================] - 1s 977us/step - loss: 4.9910 - dense_4_loss: 0.4860 - dense_5_loss: 0.4968 - dense_6_loss: 3.9613 - dense_4_f1_m: 0.4706 - dense_5_f1_m: 0.9362 - dense_6_f1_m: 0.7695 - val_loss: 9.8139 - val_dense_4_loss: 0.3013 - val_dense_5_loss: 0.3699 - val_dense_6_loss: 9.1427 - val_dense_4_f1_m: 0.4133 - val_dense_5_f1_m: 0.9824 - val_dense_6_f1_m: 0.9157\n",
            "Epoch 29/100\n",
            "582/582 [==============================] - 1s 983us/step - loss: 5.4722 - dense_4_loss: 0.4001 - dense_5_loss: 0.3794 - dense_6_loss: 4.6370 - dense_4_f1_m: 0.5051 - dense_5_f1_m: 0.9460 - dense_6_f1_m: 0.7880 - val_loss: 8.8753 - val_dense_4_loss: 0.3341 - val_dense_5_loss: 0.3716 - val_dense_6_loss: 8.1696 - val_dense_4_f1_m: 0.3747 - val_dense_5_f1_m: 0.9615 - val_dense_6_f1_m: 0.7803\n",
            "Epoch 30/100\n",
            "582/582 [==============================] - 1s 998us/step - loss: 5.1036 - dense_4_loss: 0.4507 - dense_5_loss: 0.4386 - dense_6_loss: 4.1570 - dense_4_f1_m: 0.4655 - dense_5_f1_m: 0.9432 - dense_6_f1_m: 0.7521 - val_loss: 10.1053 - val_dense_4_loss: 0.2834 - val_dense_5_loss: 0.3759 - val_dense_6_loss: 9.4459 - val_dense_4_f1_m: 0.4267 - val_dense_5_f1_m: 0.9759 - val_dense_6_f1_m: 0.9055\n",
            "Epoch 31/100\n",
            "582/582 [==============================] - 1s 977us/step - loss: 7.4307 - dense_4_loss: 0.4917 - dense_5_loss: 0.4582 - dense_6_loss: 6.4005 - dense_4_f1_m: 0.4062 - dense_5_f1_m: 0.9272 - dense_6_f1_m: 0.7762 - val_loss: 8.9789 - val_dense_4_loss: 0.4287 - val_dense_5_loss: 0.4940 - val_dense_6_loss: 8.0561 - val_dense_4_f1_m: 0.4133 - val_dense_5_f1_m: 0.9712 - val_dense_6_f1_m: 0.9143\n",
            "Epoch 32/100\n",
            "582/582 [==============================] - 1s 999us/step - loss: 4.8775 - dense_4_loss: 0.4671 - dense_5_loss: 0.4402 - dense_6_loss: 3.9154 - dense_4_f1_m: 0.4514 - dense_5_f1_m: 0.9364 - dense_6_f1_m: 0.7844 - val_loss: 9.0788 - val_dense_4_loss: 0.3213 - val_dense_5_loss: 0.4210 - val_dense_6_loss: 8.3365 - val_dense_4_f1_m: 0.4533 - val_dense_5_f1_m: 0.9777 - val_dense_6_f1_m: 0.9164\n",
            "Epoch 33/100\n",
            "582/582 [==============================] - 1s 979us/step - loss: 4.9543 - dense_4_loss: 0.4262 - dense_5_loss: 0.4355 - dense_6_loss: 4.0343 - dense_4_f1_m: 0.4452 - dense_5_f1_m: 0.9383 - dense_6_f1_m: 0.8080 - val_loss: 9.8701 - val_dense_4_loss: 0.3470 - val_dense_5_loss: 0.4323 - val_dense_6_loss: 9.0909 - val_dense_4_f1_m: 0.4667 - val_dense_5_f1_m: 0.9824 - val_dense_6_f1_m: 0.9407\n",
            "Epoch 34/100\n",
            "582/582 [==============================] - 1s 1ms/step - loss: 4.9643 - dense_4_loss: 0.4696 - dense_5_loss: 0.4230 - dense_6_loss: 4.0133 - dense_4_f1_m: 0.4413 - dense_5_f1_m: 0.9425 - dense_6_f1_m: 0.8167 - val_loss: 9.7162 - val_dense_4_loss: 0.3120 - val_dense_5_loss: 0.3852 - val_dense_6_loss: 9.0190 - val_dense_4_f1_m: 0.4453 - val_dense_5_f1_m: 0.9821 - val_dense_6_f1_m: 0.9062\n",
            "Epoch 35/100\n",
            "582/582 [==============================] - 1s 986us/step - loss: 4.8036 - dense_4_loss: 0.4245 - dense_5_loss: 0.4060 - dense_6_loss: 3.9328 - dense_4_f1_m: 0.4712 - dense_5_f1_m: 0.9391 - dense_6_f1_m: 0.8055 - val_loss: 9.6339 - val_dense_4_loss: 0.2751 - val_dense_5_loss: 0.3415 - val_dense_6_loss: 9.0173 - val_dense_4_f1_m: 0.4533 - val_dense_5_f1_m: 0.9850 - val_dense_6_f1_m: 0.9188\n",
            "Epoch 36/100\n",
            "582/582 [==============================] - 1s 1ms/step - loss: 4.5209 - dense_4_loss: 0.4059 - dense_5_loss: 0.3794 - dense_6_loss: 3.7061 - dense_4_f1_m: 0.4915 - dense_5_f1_m: 0.9438 - dense_6_f1_m: 0.8168 - val_loss: 10.4554 - val_dense_4_loss: 0.4349 - val_dense_5_loss: 0.5176 - val_dense_6_loss: 9.5029 - val_dense_4_f1_m: 0.4000 - val_dense_5_f1_m: 0.9782 - val_dense_6_f1_m: 0.9480\n",
            "Epoch 37/100\n",
            "582/582 [==============================] - 1s 1ms/step - loss: 4.8362 - dense_4_loss: 0.4665 - dense_5_loss: 0.4516 - dense_6_loss: 3.8735 - dense_4_f1_m: 0.5073 - dense_5_f1_m: 0.9533 - dense_6_f1_m: 0.7978 - val_loss: 10.2212 - val_dense_4_loss: 0.4019 - val_dense_5_loss: 0.4546 - val_dense_6_loss: 9.3647 - val_dense_4_f1_m: 0.4400 - val_dense_5_f1_m: 0.9803 - val_dense_6_f1_m: 0.8157\n",
            "Epoch 38/100\n",
            "582/582 [==============================] - 1s 974us/step - loss: 4.6901 - dense_4_loss: 0.4382 - dense_5_loss: 0.4362 - dense_6_loss: 3.7649 - dense_4_f1_m: 0.4311 - dense_5_f1_m: 0.9441 - dense_6_f1_m: 0.7704 - val_loss: 10.1879 - val_dense_4_loss: 0.2599 - val_dense_5_loss: 0.3297 - val_dense_6_loss: 9.5983 - val_dense_4_f1_m: 0.4533 - val_dense_5_f1_m: 0.9848 - val_dense_6_f1_m: 0.9049\n",
            "Epoch 39/100\n",
            "582/582 [==============================] - 1s 1ms/step - loss: 4.6256 - dense_4_loss: 0.3952 - dense_5_loss: 0.3670 - dense_6_loss: 3.8272 - dense_4_f1_m: 0.4893 - dense_5_f1_m: 0.9484 - dense_6_f1_m: 0.7694 - val_loss: 10.2058 - val_dense_4_loss: 0.2389 - val_dense_5_loss: 0.3162 - val_dense_6_loss: 9.6507 - val_dense_4_f1_m: 0.4320 - val_dense_5_f1_m: 0.9827 - val_dense_6_f1_m: 0.9193\n",
            "Epoch 40/100\n",
            "582/582 [==============================] - 1s 961us/step - loss: 4.5797 - dense_4_loss: 0.3923 - dense_5_loss: 0.3852 - dense_6_loss: 3.7535 - dense_4_f1_m: 0.5079 - dense_5_f1_m: 0.9498 - dense_6_f1_m: 0.7902 - val_loss: 10.5628 - val_dense_4_loss: 0.3111 - val_dense_5_loss: 0.4043 - val_dense_6_loss: 9.8474 - val_dense_4_f1_m: 0.4133 - val_dense_5_f1_m: 0.9803 - val_dense_6_f1_m: 0.9457\n",
            "Epoch 41/100\n"
          ],
          "name": "stdout"
        },
        {
          "output_type": "stream",
          "text": [
            "582/582 [==============================] - 1s 1ms/step - loss: 4.0895 - dense_4_loss: 0.3414 - dense_5_loss: 0.3755 - dense_6_loss: 3.3400 - dense_4_f1_m: 0.4744 - dense_5_f1_m: 0.9534 - dense_6_f1_m: 0.8199 - val_loss: 10.4961 - val_dense_4_loss: 0.3112 - val_dense_5_loss: 0.4020 - val_dense_6_loss: 9.7829 - val_dense_4_f1_m: 0.4133 - val_dense_5_f1_m: 0.9803 - val_dense_6_f1_m: 0.9474\n",
            "Epoch 42/100\n",
            "582/582 [==============================] - 1s 1ms/step - loss: 4.2389 - dense_4_loss: 0.3858 - dense_5_loss: 0.3507 - dense_6_loss: 3.4695 - dense_4_f1_m: 0.5040 - dense_5_f1_m: 0.9463 - dense_6_f1_m: 0.8133 - val_loss: 10.8309 - val_dense_4_loss: 0.3181 - val_dense_5_loss: 0.3639 - val_dense_6_loss: 10.1489 - val_dense_4_f1_m: 0.4027 - val_dense_5_f1_m: 0.9735 - val_dense_6_f1_m: 0.8534\n",
            "Epoch 43/100\n",
            "582/582 [==============================] - 1s 999us/step - loss: 4.4038 - dense_4_loss: 0.3786 - dense_5_loss: 0.3624 - dense_6_loss: 3.6224 - dense_4_f1_m: 0.5023 - dense_5_f1_m: 0.9516 - dense_6_f1_m: 0.8296 - val_loss: 11.7613 - val_dense_4_loss: 0.5330 - val_dense_5_loss: 0.6311 - val_dense_6_loss: 10.5972 - val_dense_4_f1_m: 0.3467 - val_dense_5_f1_m: 0.9717 - val_dense_6_f1_m: 0.9546\n",
            "Epoch 44/100\n",
            "582/582 [==============================] - 1s 1ms/step - loss: 4.2403 - dense_4_loss: 0.3676 - dense_5_loss: 0.3687 - dense_6_loss: 3.4652 - dense_4_f1_m: 0.5023 - dense_5_f1_m: 0.9536 - dense_6_f1_m: 0.8291 - val_loss: 11.2600 - val_dense_4_loss: 0.4471 - val_dense_5_loss: 0.4747 - val_dense_6_loss: 10.3383 - val_dense_4_f1_m: 0.3787 - val_dense_5_f1_m: 0.9566 - val_dense_6_f1_m: 0.8451\n",
            "Epoch 45/100\n",
            "582/582 [==============================] - 1s 981us/step - loss: 4.4523 - dense_4_loss: 0.3941 - dense_5_loss: 0.3788 - dense_6_loss: 3.6242 - dense_4_f1_m: 0.4678 - dense_5_f1_m: 0.9513 - dense_6_f1_m: 0.8363 - val_loss: 11.1835 - val_dense_4_loss: 0.4258 - val_dense_5_loss: 0.5039 - val_dense_6_loss: 10.2538 - val_dense_4_f1_m: 0.4400 - val_dense_5_f1_m: 0.9848 - val_dense_6_f1_m: 0.9127\n",
            "Epoch 46/100\n",
            "582/582 [==============================] - 1s 1ms/step - loss: 4.5665 - dense_4_loss: 0.3556 - dense_5_loss: 0.3664 - dense_6_loss: 3.7914 - dense_4_f1_m: 0.5277 - dense_5_f1_m: 0.9627 - dense_6_f1_m: 0.8248 - val_loss: 11.9517 - val_dense_4_loss: 0.4856 - val_dense_5_loss: 0.5844 - val_dense_6_loss: 10.8817 - val_dense_4_f1_m: 0.4400 - val_dense_5_f1_m: 0.9738 - val_dense_6_f1_m: 0.9269\n",
            "Epoch 47/100\n",
            "582/582 [==============================] - 1s 1ms/step - loss: 4.3680 - dense_4_loss: 0.3520 - dense_5_loss: 0.3733 - dense_6_loss: 3.5877 - dense_4_f1_m: 0.5220 - dense_5_f1_m: 0.9550 - dense_6_f1_m: 0.8206 - val_loss: 12.3280 - val_dense_4_loss: 0.5710 - val_dense_5_loss: 0.6716 - val_dense_6_loss: 11.0853 - val_dense_4_f1_m: 0.4267 - val_dense_5_f1_m: 0.9691 - val_dense_6_f1_m: 0.9310\n",
            "Epoch 48/100\n",
            "582/582 [==============================] - 1s 1ms/step - loss: 4.3290 - dense_4_loss: 0.3866 - dense_5_loss: 0.3681 - dense_6_loss: 3.5198 - dense_4_f1_m: 0.4774 - dense_5_f1_m: 0.9585 - dense_6_f1_m: 0.8498 - val_loss: 12.4051 - val_dense_4_loss: 0.5719 - val_dense_5_loss: 0.6924 - val_dense_6_loss: 11.1409 - val_dense_4_f1_m: 0.3600 - val_dense_5_f1_m: 0.9672 - val_dense_6_f1_m: 0.9483\n",
            "Epoch 49/100\n",
            "582/582 [==============================] - 1s 1ms/step - loss: 4.5776 - dense_4_loss: 0.4897 - dense_5_loss: 0.4815 - dense_6_loss: 3.5555 - dense_4_f1_m: 0.3983 - dense_5_f1_m: 0.9232 - dense_6_f1_m: 0.8274 - val_loss: 10.6587 - val_dense_4_loss: 0.3310 - val_dense_5_loss: 0.3846 - val_dense_6_loss: 9.9431 - val_dense_4_f1_m: 0.4173 - val_dense_5_f1_m: 0.9750 - val_dense_6_f1_m: 0.9126\n",
            "Epoch 50/100\n",
            "582/582 [==============================] - 1s 980us/step - loss: 4.9482 - dense_4_loss: 0.3708 - dense_5_loss: 0.3913 - dense_6_loss: 4.1243 - dense_4_f1_m: 0.4729 - dense_5_f1_m: 0.9413 - dense_6_f1_m: 0.8452 - val_loss: 11.9294 - val_dense_4_loss: 0.6136 - val_dense_5_loss: 0.7053 - val_dense_6_loss: 10.6104 - val_dense_4_f1_m: 0.3467 - val_dense_5_f1_m: 0.9714 - val_dense_6_f1_m: 0.9511\n",
            "Epoch 51/100\n",
            "582/582 [==============================] - 1s 1ms/step - loss: 4.1232 - dense_4_loss: 0.3669 - dense_5_loss: 0.3537 - dense_6_loss: 3.3518 - dense_4_f1_m: 0.5220 - dense_5_f1_m: 0.9570 - dense_6_f1_m: 0.8390 - val_loss: 10.7899 - val_dense_4_loss: 0.3487 - val_dense_5_loss: 0.4220 - val_dense_6_loss: 10.0192 - val_dense_4_f1_m: 0.4667 - val_dense_5_f1_m: 0.9827 - val_dense_6_f1_m: 0.9398\n",
            "Epoch 52/100\n",
            "582/582 [==============================] - 1s 976us/step - loss: 4.3769 - dense_4_loss: 0.3855 - dense_5_loss: 0.3947 - dense_6_loss: 3.5522 - dense_4_f1_m: 0.4621 - dense_5_f1_m: 0.9462 - dense_6_f1_m: 0.8284 - val_loss: 11.3260 - val_dense_4_loss: 0.3693 - val_dense_5_loss: 0.4299 - val_dense_6_loss: 10.5269 - val_dense_4_f1_m: 0.4120 - val_dense_5_f1_m: 0.9803 - val_dense_6_f1_m: 0.8753\n",
            "Epoch 53/100\n",
            "582/582 [==============================] - 1s 1ms/step - loss: 4.4794 - dense_4_loss: 0.3852 - dense_5_loss: 0.3957 - dense_6_loss: 3.6464 - dense_4_f1_m: 0.4249 - dense_5_f1_m: 0.9445 - dense_6_f1_m: 0.8315 - val_loss: 11.2250 - val_dense_4_loss: 0.3981 - val_dense_5_loss: 0.4778 - val_dense_6_loss: 10.3491 - val_dense_4_f1_m: 0.4400 - val_dense_5_f1_m: 0.9824 - val_dense_6_f1_m: 0.9083\n",
            "Epoch 54/100\n",
            "582/582 [==============================] - 1s 981us/step - loss: 4.6499 - dense_4_loss: 0.4875 - dense_5_loss: 0.3997 - dense_6_loss: 3.7112 - dense_4_f1_m: 0.4028 - dense_5_f1_m: 0.9396 - dense_6_f1_m: 0.8161 - val_loss: 10.8346 - val_dense_4_loss: 0.3639 - val_dense_5_loss: 0.4155 - val_dense_6_loss: 10.0552 - val_dense_4_f1_m: 0.3853 - val_dense_5_f1_m: 0.9708 - val_dense_6_f1_m: 0.8640\n",
            "Epoch 55/100\n",
            "582/582 [==============================] - 1s 996us/step - loss: 4.1494 - dense_4_loss: 0.4020 - dense_5_loss: 0.4177 - dense_6_loss: 3.5875 - dense_4_f1_m: 0.4876 - dense_5_f1_m: 0.9388 - dense_6_f1_m: 0.8322 - val_loss: 10.7819 - val_dense_4_loss: 0.5064 - val_dense_5_loss: 0.5967 - val_dense_6_loss: 9.6788 - val_dense_4_f1_m: 0.3733 - val_dense_5_f1_m: 0.9782 - val_dense_6_f1_m: 0.9504\n",
            "Epoch 56/100\n",
            "582/582 [==============================] - 1s 994us/step - loss: 5.5576 - dense_4_loss: 0.5076 - dense_5_loss: 0.4544 - dense_6_loss: 4.5304 - dense_4_f1_m: 0.4320 - dense_5_f1_m: 0.9489 - dense_6_f1_m: 0.8257 - val_loss: 12.3768 - val_dense_4_loss: 0.5162 - val_dense_5_loss: 0.6431 - val_dense_6_loss: 11.2175 - val_dense_4_f1_m: 0.3600 - val_dense_5_f1_m: 0.9693 - val_dense_6_f1_m: 0.9529\n",
            "Epoch 57/100\n",
            "582/582 [==============================] - 1s 972us/step - loss: 4.2931 - dense_4_loss: 0.2984 - dense_5_loss: 0.3194 - dense_6_loss: 3.6304 - dense_4_f1_m: 0.5616 - dense_5_f1_m: 0.9647 - dense_6_f1_m: 0.8025 - val_loss: 9.7381 - val_dense_4_loss: 0.5201 - val_dense_5_loss: 0.6007 - val_dense_6_loss: 8.6173 - val_dense_4_f1_m: 0.3733 - val_dense_5_f1_m: 0.9670 - val_dense_6_f1_m: 0.9445\n",
            "Epoch 58/100\n",
            "582/582 [==============================] - 1s 1ms/step - loss: 4.5652 - dense_4_loss: 0.3926 - dense_5_loss: 0.3491 - dense_6_loss: 3.7783 - dense_4_f1_m: 0.4627 - dense_5_f1_m: 0.9530 - dense_6_f1_m: 0.8025 - val_loss: 9.2535 - val_dense_4_loss: 0.3439 - val_dense_5_loss: 0.4407 - val_dense_6_loss: 8.4689 - val_dense_4_f1_m: 0.4133 - val_dense_5_f1_m: 0.9803 - val_dense_6_f1_m: 0.9455\n",
            "Epoch 59/100\n",
            "582/582 [==============================] - 1s 968us/step - loss: 3.8427 - dense_4_loss: 0.2937 - dense_5_loss: 0.2954 - dense_6_loss: 3.2046 - dense_4_f1_m: 0.5367 - dense_5_f1_m: 0.9622 - dense_6_f1_m: 0.8086 - val_loss: 9.7965 - val_dense_4_loss: 0.4375 - val_dense_5_loss: 0.5345 - val_dense_6_loss: 8.8245 - val_dense_4_f1_m: 0.4000 - val_dense_5_f1_m: 0.9714 - val_dense_6_f1_m: 0.9544\n",
            "Epoch 60/100\n",
            "582/582 [==============================] - 1s 1ms/step - loss: 4.1966 - dense_4_loss: 0.3405 - dense_5_loss: 0.3220 - dense_6_loss: 3.4987 - dense_4_f1_m: 0.5000 - dense_5_f1_m: 0.9572 - dense_6_f1_m: 0.8211 - val_loss: 10.4312 - val_dense_4_loss: 0.4178 - val_dense_5_loss: 0.5281 - val_dense_6_loss: 9.4853 - val_dense_4_f1_m: 0.3867 - val_dense_5_f1_m: 0.9714 - val_dense_6_f1_m: 0.9504\n",
            "Epoch 61/100\n"
          ],
          "name": "stdout"
        },
        {
          "output_type": "stream",
          "text": [
            "582/582 [==============================] - 1s 990us/step - loss: 4.1515 - dense_4_loss: 0.3237 - dense_5_loss: 0.3365 - dense_6_loss: 3.4472 - dense_4_f1_m: 0.4853 - dense_5_f1_m: 0.9608 - dense_6_f1_m: 0.8233 - val_loss: 11.6773 - val_dense_4_loss: 0.3356 - val_dense_5_loss: 0.4589 - val_dense_6_loss: 10.8829 - val_dense_4_f1_m: 0.4133 - val_dense_5_f1_m: 0.9759 - val_dense_6_f1_m: 0.9499\n",
            "Epoch 62/100\n",
            "582/582 [==============================] - 1s 996us/step - loss: 4.6740 - dense_4_loss: 0.3376 - dense_5_loss: 0.3365 - dense_6_loss: 3.9591 - dense_4_f1_m: 0.5367 - dense_5_f1_m: 0.9629 - dense_6_f1_m: 0.8249 - val_loss: 10.1461 - val_dense_4_loss: 0.4554 - val_dense_5_loss: 0.5356 - val_dense_6_loss: 9.1550 - val_dense_4_f1_m: 0.3600 - val_dense_5_f1_m: 0.9759 - val_dense_6_f1_m: 0.9394\n",
            "Epoch 63/100\n",
            "582/582 [==============================] - 1s 981us/step - loss: 4.4418 - dense_4_loss: 0.3692 - dense_5_loss: 0.3469 - dense_6_loss: 3.6893 - dense_4_f1_m: 0.4944 - dense_5_f1_m: 0.9511 - dense_6_f1_m: 0.7933 - val_loss: 12.5444 - val_dense_4_loss: 0.6209 - val_dense_5_loss: 0.6702 - val_dense_6_loss: 11.2533 - val_dense_4_f1_m: 0.2933 - val_dense_5_f1_m: 0.9714 - val_dense_6_f1_m: 0.9407\n",
            "Epoch 64/100\n",
            "582/582 [==============================] - 1s 1000us/step - loss: 4.6726 - dense_4_loss: 0.4242 - dense_5_loss: 0.4364 - dense_6_loss: 3.7517 - dense_4_f1_m: 0.4249 - dense_5_f1_m: 0.9379 - dense_6_f1_m: 0.8231 - val_loss: 12.3683 - val_dense_4_loss: 0.4864 - val_dense_5_loss: 0.5657 - val_dense_6_loss: 11.3161 - val_dense_4_f1_m: 0.3600 - val_dense_5_f1_m: 0.9756 - val_dense_6_f1_m: 0.9457\n",
            "Epoch 65/100\n",
            "582/582 [==============================] - 1s 1ms/step - loss: 3.8568 - dense_4_loss: 0.2899 - dense_5_loss: 0.3203 - dense_6_loss: 3.1966 - dense_4_f1_m: 0.5610 - dense_5_f1_m: 0.9492 - dense_6_f1_m: 0.8492 - val_loss: 12.7421 - val_dense_4_loss: 0.5805 - val_dense_5_loss: 0.6557 - val_dense_6_loss: 11.5059 - val_dense_4_f1_m: 0.3600 - val_dense_5_f1_m: 0.9738 - val_dense_6_f1_m: 0.9445\n",
            "Epoch 66/100\n",
            "582/582 [==============================] - 1s 973us/step - loss: 4.1636 - dense_4_loss: 0.3621 - dense_5_loss: 0.3702 - dense_6_loss: 3.3834 - dense_4_f1_m: 0.4701 - dense_5_f1_m: 0.9471 - dense_6_f1_m: 0.8405 - val_loss: 12.8430 - val_dense_4_loss: 0.6591 - val_dense_5_loss: 0.7066 - val_dense_6_loss: 11.4772 - val_dense_4_f1_m: 0.3200 - val_dense_5_f1_m: 0.9717 - val_dense_6_f1_m: 0.9400\n",
            "Epoch 67/100\n",
            "582/582 [==============================] - 1s 998us/step - loss: 4.4068 - dense_4_loss: 0.4150 - dense_5_loss: 0.3816 - dense_6_loss: 3.5558 - dense_4_f1_m: 0.4328 - dense_5_f1_m: 0.9586 - dense_6_f1_m: 0.8522 - val_loss: 11.6221 - val_dense_4_loss: 0.2692 - val_dense_5_loss: 0.3279 - val_dense_6_loss: 11.0250 - val_dense_4_f1_m: 0.4667 - val_dense_5_f1_m: 0.9848 - val_dense_6_f1_m: 0.8706\n",
            "Epoch 68/100\n",
            "582/582 [==============================] - 1s 976us/step - loss: 4.1550 - dense_4_loss: 0.3542 - dense_5_loss: 0.3725 - dense_6_loss: 3.3793 - dense_4_f1_m: 0.4853 - dense_5_f1_m: 0.9461 - dense_6_f1_m: 0.8390 - val_loss: 11.7408 - val_dense_4_loss: 0.2771 - val_dense_5_loss: 0.3218 - val_dense_6_loss: 11.1418 - val_dense_4_f1_m: 0.4667 - val_dense_5_f1_m: 0.9848 - val_dense_6_f1_m: 0.8667\n",
            "Epoch 69/100\n",
            "582/582 [==============================] - 1s 1ms/step - loss: 5.4093 - dense_4_loss: 0.4671 - dense_5_loss: 0.4433 - dense_6_loss: 4.4532 - dense_4_f1_m: 0.4405 - dense_5_f1_m: 0.9350 - dense_6_f1_m: 0.8337 - val_loss: 11.6264 - val_dense_4_loss: 0.3104 - val_dense_5_loss: 0.3606 - val_dense_6_loss: 10.9553 - val_dense_4_f1_m: 0.4667 - val_dense_5_f1_m: 0.9827 - val_dense_6_f1_m: 0.8947\n",
            "Epoch 70/100\n",
            "582/582 [==============================] - 1s 986us/step - loss: 4.2825 - dense_4_loss: 0.3769 - dense_5_loss: 0.3689 - dense_6_loss: 3.4827 - dense_4_f1_m: 0.5249 - dense_5_f1_m: 0.9454 - dense_6_f1_m: 0.8231 - val_loss: 11.1005 - val_dense_4_loss: 0.2464 - val_dense_5_loss: 0.2900 - val_dense_6_loss: 10.5642 - val_dense_4_f1_m: 0.4440 - val_dense_5_f1_m: 0.9827 - val_dense_6_f1_m: 0.8766\n",
            "Epoch 71/100\n",
            "582/582 [==============================] - 1s 1ms/step - loss: 4.3740 - dense_4_loss: 0.4124 - dense_5_loss: 0.3607 - dense_6_loss: 3.5448 - dense_4_f1_m: 0.4232 - dense_5_f1_m: 0.9371 - dense_6_f1_m: 0.8187 - val_loss: 10.9966 - val_dense_4_loss: 0.2638 - val_dense_5_loss: 0.3501 - val_dense_6_loss: 10.3826 - val_dense_4_f1_m: 0.4267 - val_dense_5_f1_m: 0.9827 - val_dense_6_f1_m: 0.9436\n",
            "Epoch 72/100\n",
            "582/582 [==============================] - 1s 995us/step - loss: 4.1002 - dense_4_loss: 0.3681 - dense_5_loss: 0.3793 - dense_6_loss: 3.3180 - dense_4_f1_m: 0.5107 - dense_5_f1_m: 0.9503 - dense_6_f1_m: 0.8152 - val_loss: 10.9239 - val_dense_4_loss: 0.2970 - val_dense_5_loss: 0.3857 - val_dense_6_loss: 10.2412 - val_dense_4_f1_m: 0.4267 - val_dense_5_f1_m: 0.9803 - val_dense_6_f1_m: 0.9276\n",
            "Epoch 73/100\n",
            "582/582 [==============================] - 1s 974us/step - loss: 4.2955 - dense_4_loss: 0.4257 - dense_5_loss: 0.4175 - dense_6_loss: 3.4102 - dense_4_f1_m: 0.4605 - dense_5_f1_m: 0.9470 - dense_6_f1_m: 0.8368 - val_loss: 11.2738 - val_dense_4_loss: 0.2779 - val_dense_5_loss: 0.3657 - val_dense_6_loss: 10.6302 - val_dense_4_f1_m: 0.4400 - val_dense_5_f1_m: 0.9848 - val_dense_6_f1_m: 0.9052\n",
            "Epoch 74/100\n",
            "582/582 [==============================] - 1s 991us/step - loss: 5.0371 - dense_4_loss: 0.5497 - dense_5_loss: 0.4487 - dense_6_loss: 4.0031 - dense_4_f1_m: 0.3785 - dense_5_f1_m: 0.9415 - dense_6_f1_m: 0.7981 - val_loss: 11.1153 - val_dense_4_loss: 0.6953 - val_dense_5_loss: 0.7270 - val_dense_6_loss: 9.6930 - val_dense_4_f1_m: 0.2667 - val_dense_5_f1_m: 0.9738 - val_dense_6_f1_m: 0.9232\n",
            "Epoch 75/100\n",
            "582/582 [==============================] - 1s 974us/step - loss: 4.8481 - dense_4_loss: 0.9030 - dense_5_loss: 0.4065 - dense_6_loss: 5.0167 - dense_4_f1_m: 0.4266 - dense_5_f1_m: 0.9500 - dense_6_f1_m: 0.7928 - val_loss: 11.2830 - val_dense_4_loss: 0.5243 - val_dense_5_loss: 0.5875 - val_dense_6_loss: 10.1712 - val_dense_4_f1_m: 0.3467 - val_dense_5_f1_m: 0.9777 - val_dense_6_f1_m: 0.9305\n",
            "Epoch 76/100\n",
            "582/582 [==============================] - 1s 1ms/step - loss: 4.4726 - dense_4_loss: 0.4172 - dense_5_loss: 0.3539 - dense_6_loss: 3.6654 - dense_4_f1_m: 0.4904 - dense_5_f1_m: 0.9512 - dense_6_f1_m: 0.8465 - val_loss: 10.5605 - val_dense_4_loss: 0.4684 - val_dense_5_loss: 0.5074 - val_dense_6_loss: 9.5847 - val_dense_4_f1_m: 0.3333 - val_dense_5_f1_m: 0.9822 - val_dense_6_f1_m: 0.9309\n",
            "Epoch 77/100\n",
            "582/582 [==============================] - 1s 979us/step - loss: 4.2177 - dense_4_loss: 0.3485 - dense_5_loss: 0.3347 - dense_6_loss: 3.4858 - dense_4_f1_m: 0.4689 - dense_5_f1_m: 0.9535 - dense_6_f1_m: 0.8491 - val_loss: 11.4767 - val_dense_4_loss: 0.2830 - val_dense_5_loss: 0.3381 - val_dense_6_loss: 10.8556 - val_dense_4_f1_m: 0.4533 - val_dense_5_f1_m: 0.9824 - val_dense_6_f1_m: 0.8440\n",
            "Epoch 78/100\n",
            "582/582 [==============================] - 1s 1ms/step - loss: 4.4072 - dense_4_loss: 0.4968 - dense_5_loss: 0.4779 - dense_6_loss: 3.8012 - dense_4_f1_m: 0.4592 - dense_5_f1_m: 0.9500 - dense_6_f1_m: 0.8431 - val_loss: 11.6140 - val_dense_4_loss: 0.3022 - val_dense_5_loss: 0.3640 - val_dense_6_loss: 10.9479 - val_dense_4_f1_m: 0.4533 - val_dense_5_f1_m: 0.9848 - val_dense_6_f1_m: 0.8494\n",
            "Epoch 79/100\n",
            "582/582 [==============================] - 1s 985us/step - loss: 4.1295 - dense_4_loss: 0.3539 - dense_5_loss: 0.3305 - dense_6_loss: 3.3929 - dense_4_f1_m: 0.5525 - dense_5_f1_m: 0.9591 - dense_6_f1_m: 0.8509 - val_loss: 11.6340 - val_dense_4_loss: 0.2730 - val_dense_5_loss: 0.3392 - val_dense_6_loss: 11.0218 - val_dense_4_f1_m: 0.4533 - val_dense_5_f1_m: 0.9892 - val_dense_6_f1_m: 0.8976\n",
            "Epoch 80/100\n",
            "582/582 [==============================] - 1s 985us/step - loss: 4.2809 - dense_4_loss: 0.3703 - dense_5_loss: 0.3243 - dense_6_loss: 3.5622 - dense_4_f1_m: 0.4785 - dense_5_f1_m: 0.9447 - dense_6_f1_m: 0.8452 - val_loss: 11.7455 - val_dense_4_loss: 0.2891 - val_dense_5_loss: 0.3931 - val_dense_6_loss: 11.0633 - val_dense_4_f1_m: 0.4533 - val_dense_5_f1_m: 0.9803 - val_dense_6_f1_m: 0.9499\n",
            "Epoch 81/100\n"
          ],
          "name": "stdout"
        },
        {
          "output_type": "stream",
          "text": [
            "582/582 [==============================] - 1s 1ms/step - loss: 4.1680 - dense_4_loss: 0.3397 - dense_5_loss: 0.3568 - dense_6_loss: 3.4205 - dense_4_f1_m: 0.4605 - dense_5_f1_m: 0.9570 - dense_6_f1_m: 0.8507 - val_loss: 11.8484 - val_dense_4_loss: 0.2768 - val_dense_5_loss: 0.3773 - val_dense_6_loss: 11.1942 - val_dense_4_f1_m: 0.4533 - val_dense_5_f1_m: 0.9848 - val_dense_6_f1_m: 0.9385\n",
            "Epoch 82/100\n",
            "582/582 [==============================] - 1s 967us/step - loss: 3.8491 - dense_4_loss: 0.2768 - dense_5_loss: 0.2653 - dense_6_loss: 3.2697 - dense_4_f1_m: 0.5559 - dense_5_f1_m: 0.9580 - dense_6_f1_m: 0.8582 - val_loss: 11.3579 - val_dense_4_loss: 0.2716 - val_dense_5_loss: 0.3670 - val_dense_6_loss: 10.7193 - val_dense_4_f1_m: 0.4133 - val_dense_5_f1_m: 0.9824 - val_dense_6_f1_m: 0.9544\n",
            "Epoch 83/100\n",
            "582/582 [==============================] - 1s 999us/step - loss: 3.6991 - dense_4_loss: 0.2726 - dense_5_loss: 0.2629 - dense_6_loss: 3.1262 - dense_4_f1_m: 0.5390 - dense_5_f1_m: 0.9715 - dense_6_f1_m: 0.8468 - val_loss: 12.3829 - val_dense_4_loss: 0.4202 - val_dense_5_loss: 0.5459 - val_dense_6_loss: 11.4167 - val_dense_4_f1_m: 0.4000 - val_dense_5_f1_m: 0.9759 - val_dense_6_f1_m: 0.9544\n",
            "Epoch 84/100\n",
            "582/582 [==============================] - 1s 965us/step - loss: 3.8298 - dense_4_loss: 0.3076 - dense_5_loss: 0.2929 - dense_6_loss: 3.2043 - dense_4_f1_m: 0.5847 - dense_5_f1_m: 0.9611 - dense_6_f1_m: 0.8750 - val_loss: 13.2933 - val_dense_4_loss: 0.5177 - val_dense_5_loss: 0.6363 - val_dense_6_loss: 12.1392 - val_dense_4_f1_m: 0.3467 - val_dense_5_f1_m: 0.9756 - val_dense_6_f1_m: 0.9546\n",
            "Epoch 85/100\n",
            "582/582 [==============================] - 1s 1ms/step - loss: 8.9920 - dense_4_loss: 0.4983 - dense_5_loss: 0.4786 - dense_6_loss: 7.9001 - dense_4_f1_m: 0.4740 - dense_5_f1_m: 0.9551 - dense_6_f1_m: 0.8458 - val_loss: 12.8097 - val_dense_4_loss: 0.5597 - val_dense_5_loss: 0.6451 - val_dense_6_loss: 11.6049 - val_dense_4_f1_m: 0.3933 - val_dense_5_f1_m: 0.9709 - val_dense_6_f1_m: 0.8409\n",
            "Epoch 86/100\n",
            "582/582 [==============================] - 1s 1ms/step - loss: 5.2391 - dense_4_loss: 0.5936 - dense_5_loss: 0.5109 - dense_6_loss: 4.0942 - dense_4_f1_m: 0.3984 - dense_5_f1_m: 0.9452 - dense_6_f1_m: 0.8280 - val_loss: 12.4837 - val_dense_4_loss: 0.5231 - val_dense_5_loss: 0.6003 - val_dense_6_loss: 11.3603 - val_dense_4_f1_m: 0.3600 - val_dense_5_f1_m: 0.9780 - val_dense_6_f1_m: 0.9334\n",
            "Epoch 87/100\n",
            "582/582 [==============================] - 1s 993us/step - loss: 6.6555 - dense_4_loss: 0.6389 - dense_5_loss: 0.5989 - dense_6_loss: 5.3334 - dense_4_f1_m: 0.3316 - dense_5_f1_m: 0.9371 - dense_6_f1_m: 0.7606 - val_loss: 11.4757 - val_dense_4_loss: 0.2964 - val_dense_5_loss: 0.3618 - val_dense_6_loss: 10.8175 - val_dense_4_f1_m: 0.3720 - val_dense_5_f1_m: 0.9753 - val_dense_6_f1_m: 0.8533\n",
            "Epoch 88/100\n",
            "582/582 [==============================] - 1s 998us/step - loss: 4.5501 - dense_4_loss: 0.4695 - dense_5_loss: 0.4431 - dense_6_loss: 3.5820 - dense_4_f1_m: 0.4203 - dense_5_f1_m: 0.9329 - dense_6_f1_m: 0.7793 - val_loss: 11.2545 - val_dense_4_loss: 0.2488 - val_dense_5_loss: 0.3085 - val_dense_6_loss: 10.6972 - val_dense_4_f1_m: 0.3720 - val_dense_5_f1_m: 0.9756 - val_dense_6_f1_m: 0.8483\n",
            "Epoch 89/100\n",
            "582/582 [==============================] - 1s 979us/step - loss: 4.4785 - dense_4_loss: 0.3722 - dense_5_loss: 0.3738 - dense_6_loss: 3.6764 - dense_4_f1_m: 0.4446 - dense_5_f1_m: 0.9428 - dense_6_f1_m: 0.7932 - val_loss: 11.3085 - val_dense_4_loss: 0.2257 - val_dense_5_loss: 0.3015 - val_dense_6_loss: 10.7813 - val_dense_4_f1_m: 0.3867 - val_dense_5_f1_m: 0.9803 - val_dense_6_f1_m: 0.9093\n",
            "Epoch 90/100\n",
            "582/582 [==============================] - 1s 1ms/step - loss: 4.8628 - dense_4_loss: 0.3809 - dense_5_loss: 0.3617 - dense_6_loss: 4.0704 - dense_4_f1_m: 0.4593 - dense_5_f1_m: 0.9396 - dense_6_f1_m: 0.7749 - val_loss: 8.4364 - val_dense_4_loss: 0.3422 - val_dense_5_loss: 0.4173 - val_dense_6_loss: 7.6769 - val_dense_4_f1_m: 0.4267 - val_dense_5_f1_m: 0.9804 - val_dense_6_f1_m: 0.9243\n",
            "Epoch 91/100\n",
            "582/582 [==============================] - 1s 963us/step - loss: 4.2053 - dense_4_loss: 0.4176 - dense_5_loss: 0.4025 - dense_6_loss: 3.3661 - dense_4_f1_m: 0.4825 - dense_5_f1_m: 0.9403 - dense_6_f1_m: 0.7804 - val_loss: 9.3094 - val_dense_4_loss: 0.3673 - val_dense_5_loss: 0.4528 - val_dense_6_loss: 8.4893 - val_dense_4_f1_m: 0.4133 - val_dense_5_f1_m: 0.9824 - val_dense_6_f1_m: 0.9462\n",
            "Epoch 92/100\n",
            "582/582 [==============================] - 1s 1ms/step - loss: 4.6895 - dense_4_loss: 0.3365 - dense_5_loss: 0.3372 - dense_6_loss: 3.9636 - dense_4_f1_m: 0.5000 - dense_5_f1_m: 0.9586 - dense_6_f1_m: 0.8086 - val_loss: 10.6164 - val_dense_4_loss: 0.3803 - val_dense_5_loss: 0.4768 - val_dense_6_loss: 9.7593 - val_dense_4_f1_m: 0.4133 - val_dense_5_f1_m: 0.9824 - val_dense_6_f1_m: 0.9419\n",
            "Epoch 93/100\n",
            "582/582 [==============================] - 1s 1ms/step - loss: 4.1744 - dense_4_loss: 0.3458 - dense_5_loss: 0.3668 - dense_6_loss: 3.6162 - dense_4_f1_m: 0.4712 - dense_5_f1_m: 0.9552 - dense_6_f1_m: 0.8165 - val_loss: 10.8731 - val_dense_4_loss: 0.3524 - val_dense_5_loss: 0.4453 - val_dense_6_loss: 10.0754 - val_dense_4_f1_m: 0.4133 - val_dense_5_f1_m: 0.9824 - val_dense_6_f1_m: 0.9504\n",
            "Epoch 94/100\n",
            "582/582 [==============================] - 1s 967us/step - loss: 4.2159 - dense_4_loss: 0.3690 - dense_5_loss: 0.3801 - dense_6_loss: 3.4194 - dense_4_f1_m: 0.4181 - dense_5_f1_m: 0.9511 - dense_6_f1_m: 0.8417 - val_loss: 10.6629 - val_dense_4_loss: 0.3406 - val_dense_5_loss: 0.4226 - val_dense_6_loss: 9.8998 - val_dense_4_f1_m: 0.4133 - val_dense_5_f1_m: 0.9848 - val_dense_6_f1_m: 0.9457\n",
            "Epoch 95/100\n",
            "582/582 [==============================] - 1s 997us/step - loss: 3.8257 - dense_4_loss: 0.2719 - dense_5_loss: 0.2962 - dense_6_loss: 3.2192 - dense_4_f1_m: 0.5169 - dense_5_f1_m: 0.9562 - dense_6_f1_m: 0.8374 - val_loss: 11.1161 - val_dense_4_loss: 0.3044 - val_dense_5_loss: 0.3943 - val_dense_6_loss: 10.4173 - val_dense_4_f1_m: 0.4267 - val_dense_5_f1_m: 0.9827 - val_dense_6_f1_m: 0.9457\n",
            "Epoch 96/100\n",
            "582/582 [==============================] - 1s 962us/step - loss: 4.0436 - dense_4_loss: 0.3376 - dense_5_loss: 0.3629 - dense_6_loss: 3.2911 - dense_4_f1_m: 0.4768 - dense_5_f1_m: 0.9454 - dense_6_f1_m: 0.8354 - val_loss: 11.5951 - val_dense_4_loss: 0.2130 - val_dense_5_loss: 0.2849 - val_dense_6_loss: 11.0972 - val_dense_4_f1_m: 0.4253 - val_dense_5_f1_m: 0.9778 - val_dense_6_f1_m: 0.8952\n",
            "Epoch 97/100\n",
            "582/582 [==============================] - 1s 992us/step - loss: 4.2335 - dense_4_loss: 0.3829 - dense_5_loss: 0.3607 - dense_6_loss: 3.4603 - dense_4_f1_m: 0.4684 - dense_5_f1_m: 0.9455 - dense_6_f1_m: 0.8465 - val_loss: 11.6339 - val_dense_4_loss: 0.2090 - val_dense_5_loss: 0.3080 - val_dense_6_loss: 11.1169 - val_dense_4_f1_m: 0.3867 - val_dense_5_f1_m: 0.9801 - val_dense_6_f1_m: 0.9518\n",
            "Epoch 98/100\n",
            "582/582 [==============================] - 1s 957us/step - loss: 4.3285 - dense_4_loss: 0.3527 - dense_5_loss: 0.3349 - dense_6_loss: 3.6003 - dense_4_f1_m: 0.4972 - dense_5_f1_m: 0.9488 - dense_6_f1_m: 0.8144 - val_loss: 11.5507 - val_dense_4_loss: 0.2189 - val_dense_5_loss: 0.3168 - val_dense_6_loss: 11.0149 - val_dense_4_f1_m: 0.3867 - val_dense_5_f1_m: 0.9848 - val_dense_6_f1_m: 0.9476\n",
            "Epoch 99/100\n",
            "582/582 [==============================] - 1s 1ms/step - loss: 4.0591 - dense_4_loss: 0.3621 - dense_5_loss: 0.4120 - dense_6_loss: 3.5449 - dense_4_f1_m: 0.4960 - dense_5_f1_m: 0.9463 - dense_6_f1_m: 0.8401 - val_loss: 11.4279 - val_dense_4_loss: 0.2116 - val_dense_5_loss: 0.3034 - val_dense_6_loss: 10.9129 - val_dense_4_f1_m: 0.3867 - val_dense_5_f1_m: 0.9848 - val_dense_6_f1_m: 0.9457\n",
            "Epoch 100/100\n",
            "582/582 [==============================] - 1s 958us/step - loss: 4.0076 - dense_4_loss: 0.2875 - dense_5_loss: 0.3209 - dense_6_loss: 3.3488 - dense_4_f1_m: 0.5028 - dense_5_f1_m: 0.9543 - dense_6_f1_m: 0.8261 - val_loss: 8.7012 - val_dense_4_loss: 0.2700 - val_dense_5_loss: 0.3554 - val_dense_6_loss: 8.0758 - val_dense_4_f1_m: 0.4133 - val_dense_5_f1_m: 0.9848 - val_dense_6_f1_m: 0.9462\n"
          ],
          "name": "stdout"
        }
      ]
    },
    {
      "cell_type": "code",
      "metadata": {
        "trusted": true,
        "id": "0koQHAP6Zy1O",
        "colab_type": "code",
        "outputId": "6300fde9-3797-4162-93c3-c423f701a2f2",
        "colab": {}
      },
      "source": [
        "# evaluate the model\n",
        "f1score = model.evaluate(X_test, [y1_test,y2_test,y3_test])\n",
        "#classifier =KerasClassifier(build_fn=making_model(193), epochs=100, batch_size=10, verbose=0)"
      ],
      "execution_count": 0,
      "outputs": [
        {
          "output_type": "stream",
          "text": [
            "410/410 [==============================] - 0s 100us/step\n"
          ],
          "name": "stdout"
        }
      ]
    },
    {
      "cell_type": "code",
      "metadata": {
        "trusted": true,
        "id": "6-dbhek0Zy1R",
        "colab_type": "code",
        "outputId": "418fdbdb-bd4b-4bde-c948-6c2ef4796fc5",
        "colab": {}
      },
      "source": [
        "f1score"
      ],
      "execution_count": 0,
      "outputs": [
        {
          "output_type": "execute_result",
          "data": {
            "text/plain": [
              "[0.4752868788998301,\n",
              " 0.08234787732362747,\n",
              " 0.10622140020132065,\n",
              " 0.2854807674884796,\n",
              " 0.7038729786872864,\n",
              " 0.9776144623756409,\n",
              " 0.9295616149902344]"
            ]
          },
          "metadata": {
            "tags": []
          },
          "execution_count": 29
        }
      ]
    },
    {
      "cell_type": "code",
      "metadata": {
        "trusted": true,
        "id": "R-Bot_SNZy1W",
        "colab_type": "code",
        "colab": {}
      },
      "source": [
        "yy1,yy2,yy3 = model.predict(X_test)\n",
        "def normalise_op(yy1,yy2,yy3):\n",
        "  shape = yy3.shape\n",
        "  for i in range(0, shape[0]):\n",
        "    for j in range(0, shape[1]):\n",
        "      if yy3[i, j] >= 0.5:\n",
        "        yy3[i, j] = 1\n",
        "      else:\n",
        "        yy3[i, j] = 0\n",
        "  for i in range(0, shape[0]):\n",
        "    if yy2[i, 0] >= 0.5:\n",
        "      yy2[i, 0] = 1\n",
        "    else:\n",
        "      yy2[i, 0] = 0\n",
        "  for i in range(0, shape[0]):\n",
        "    if yy1[i, 0] >= 0.5:\n",
        "      yy1[i, 0] = 1\n",
        "    else:\n",
        "      yy1[i, 0] = 0  \n",
        "  return yy1,yy2,yy3\n",
        "yy1,yy2,yy3 = normalise_op(yy1,yy2,yy3)"
      ],
      "execution_count": 0,
      "outputs": []
    },
    {
      "cell_type": "code",
      "metadata": {
        "trusted": true,
        "id": "iyZoEg66Zy1Z",
        "colab_type": "code",
        "colab": {}
      },
      "source": [
        "res_pred=np.empty(shape=(len(yy3),1),dtype=int)\n",
        "res_ex = np.empty(shape=(len(yy3),1),dtype=int)"
      ],
      "execution_count": 0,
      "outputs": []
    },
    {
      "cell_type": "code",
      "metadata": {
        "trusted": true,
        "id": "0kszRdbmZy1c",
        "colab_type": "code",
        "colab": {}
      },
      "source": [
        "for i in range(len(yy3)):\n",
        "    res_pred[i] = argmax(yy3[i])\n",
        "    res_ex[i] = argmax(y3_test[i])\n",
        "    #print(argmax(yy3[i]))\n",
        "    #print(y3_test[i])\n",
        "    #print(\"--------------------------------------------\")"
      ],
      "execution_count": 0,
      "outputs": []
    },
    {
      "cell_type": "code",
      "metadata": {
        "trusted": true,
        "id": "G99HuFWBZy1e",
        "colab_type": "code",
        "outputId": "927e4c38-d590-4c49-d9aa-63a608affccd",
        "colab": {}
      },
      "source": [
        "print(confusion_matrix(y1_test,yy1))\n",
        "print(classification_report(y1_test,yy1))"
      ],
      "execution_count": 0,
      "outputs": [
        {
          "output_type": "stream",
          "text": [
            "[[374   1]\n",
            " [ 10  25]]\n",
            "              precision    recall  f1-score   support\n",
            "\n",
            "           0       0.97      1.00      0.99       375\n",
            "           1       0.96      0.71      0.82        35\n",
            "\n",
            "    accuracy                           0.97       410\n",
            "   macro avg       0.97      0.86      0.90       410\n",
            "weighted avg       0.97      0.97      0.97       410\n",
            "\n"
          ],
          "name": "stdout"
        }
      ]
    },
    {
      "cell_type": "code",
      "metadata": {
        "trusted": true,
        "id": "ZmdDCgQBZy1h",
        "colab_type": "code",
        "outputId": "106cb1a9-8b24-4ee0-fa76-8febef35e851",
        "colab": {}
      },
      "source": [
        "print(confusion_matrix(y2_test,yy2))\n",
        "print(classification_report(y2_test,yy2))"
      ],
      "execution_count": 0,
      "outputs": [
        {
          "output_type": "stream",
          "text": [
            "[[ 14   8]\n",
            " [  9 379]]\n",
            "              precision    recall  f1-score   support\n",
            "\n",
            "           0       0.61      0.64      0.62        22\n",
            "           1       0.98      0.98      0.98       388\n",
            "\n",
            "    accuracy                           0.96       410\n",
            "   macro avg       0.79      0.81      0.80       410\n",
            "weighted avg       0.96      0.96      0.96       410\n",
            "\n"
          ],
          "name": "stdout"
        }
      ]
    },
    {
      "cell_type": "code",
      "metadata": {
        "trusted": true,
        "id": "M-wNbOaTZy1j",
        "colab_type": "code",
        "outputId": "ce79b42e-42c8-4290-b253-8d8305018b99",
        "colab": {}
      },
      "source": [
        "confusion_matrix(res_ex,res_pred)"
      ],
      "execution_count": 0,
      "outputs": [
        {
          "output_type": "execute_result",
          "data": {
            "text/plain": [
              "array([[371,   0,   0,   6,   0],\n",
              "       [ 13,   0,   0,   0,   0],\n",
              "       [ 17,   0,   0,   1,   0],\n",
              "       [  0,   0,   0,   0,   0],\n",
              "       [  2,   0,   0,   0,   0]])"
            ]
          },
          "metadata": {
            "tags": []
          },
          "execution_count": 36
        }
      ]
    },
    {
      "cell_type": "code",
      "metadata": {
        "trusted": true,
        "id": "lP6vd4aqZy1m",
        "colab_type": "code",
        "outputId": "d00b126d-bc83-4caa-ab01-94d0ee53c454",
        "colab": {}
      },
      "source": [
        "model.summary()"
      ],
      "execution_count": 0,
      "outputs": [
        {
          "output_type": "stream",
          "text": [
            "Model: \"model_1\"\n",
            "__________________________________________________________________________________________________\n",
            "Layer (type)                    Output Shape         Param #     Connected to                     \n",
            "==================================================================================================\n",
            "input_1 (InputLayer)            (None, 193)          0                                            \n",
            "__________________________________________________________________________________________________\n",
            "sequential_1 (Sequential)       (None, 193)          0           input_1[0][0]                    \n",
            "__________________________________________________________________________________________________\n",
            "dense_1 (Dense)                 (None, 40)           7760        sequential_1[1][0]               \n",
            "__________________________________________________________________________________________________\n",
            "batch_normalization_1 (BatchNor (None, 40)           160         dense_1[0][0]                    \n",
            "__________________________________________________________________________________________________\n",
            "dropout_1 (Dropout)             (None, 40)           0           batch_normalization_1[0][0]      \n",
            "__________________________________________________________________________________________________\n",
            "dense_2 (Dense)                 (None, 20)           820         dropout_1[0][0]                  \n",
            "__________________________________________________________________________________________________\n",
            "batch_normalization_2 (BatchNor (None, 20)           80          dense_2[0][0]                    \n",
            "__________________________________________________________________________________________________\n",
            "dropout_2 (Dropout)             (None, 20)           0           batch_normalization_2[0][0]      \n",
            "__________________________________________________________________________________________________\n",
            "dense_3 (Dense)                 (None, 8)            168         dropout_2[0][0]                  \n",
            "__________________________________________________________________________________________________\n",
            "batch_normalization_3 (BatchNor (None, 8)            32          dense_3[0][0]                    \n",
            "__________________________________________________________________________________________________\n",
            "dropout_3 (Dropout)             (None, 8)            0           batch_normalization_3[0][0]      \n",
            "__________________________________________________________________________________________________\n",
            "dense_4 (Dense)                 (None, 1)            9           dropout_3[0][0]                  \n",
            "__________________________________________________________________________________________________\n",
            "dense_5 (Dense)                 (None, 1)            9           dropout_3[0][0]                  \n",
            "__________________________________________________________________________________________________\n",
            "dense_6 (Dense)                 (None, 5)            45          dropout_3[0][0]                  \n",
            "==================================================================================================\n",
            "Total params: 9,083\n",
            "Trainable params: 8,947\n",
            "Non-trainable params: 136\n",
            "__________________________________________________________________________________________________\n"
          ],
          "name": "stdout"
        }
      ]
    },
    {
      "cell_type": "code",
      "metadata": {
        "trusted": true,
        "id": "4HsxCSq3Zy1o",
        "colab_type": "code",
        "outputId": "8a22a87e-0740-4b00-d2c6-f0ef7ad51e4b",
        "colab": {}
      },
      "source": [
        "print(f1_score(res_ex,res_pred,average='weighted'))\n",
        "print(precision_score(res_ex,res_pred,average='weighted'))\n",
        "print(recall_score(res_ex,res_pred,average='weighted'))"
      ],
      "execution_count": 0,
      "outputs": [
        {
          "output_type": "stream",
          "text": [
            "0.8747154471544717\n",
            "0.8464988198269079\n",
            "0.9048780487804878\n"
          ],
          "name": "stdout"
        },
        {
          "output_type": "stream",
          "text": [
            "/opt/conda/lib/python3.6/site-packages/sklearn/metrics/classification.py:1437: UndefinedMetricWarning: F-score is ill-defined and being set to 0.0 in labels with no predicted samples.\n",
            "  'precision', 'predicted', average, warn_for)\n",
            "/opt/conda/lib/python3.6/site-packages/sklearn/metrics/classification.py:1439: UndefinedMetricWarning: F-score is ill-defined and being set to 0.0 in labels with no true samples.\n",
            "  'recall', 'true', average, warn_for)\n",
            "/opt/conda/lib/python3.6/site-packages/sklearn/metrics/classification.py:1437: UndefinedMetricWarning: Precision is ill-defined and being set to 0.0 in labels with no predicted samples.\n",
            "  'precision', 'predicted', average, warn_for)\n",
            "/opt/conda/lib/python3.6/site-packages/sklearn/metrics/classification.py:1439: UndefinedMetricWarning: Recall is ill-defined and being set to 0.0 in labels with no true samples.\n",
            "  'recall', 'true', average, warn_for)\n"
          ],
          "name": "stderr"
        }
      ]
    },
    {
      "cell_type": "code",
      "metadata": {
        "trusted": true,
        "id": "QgWDA_e0Zy1s",
        "colab_type": "code",
        "outputId": "1c5d292d-5a22-4b4d-8b5e-8a7a8718ebb9",
        "colab": {}
      },
      "source": [
        "print(f1_score(res_ex,res_pred,average='micro'))\n",
        "print(precision_score(res_ex,res_pred,average='micro'))\n",
        "print(recall_score(res_ex,res_pred,average='micro'))"
      ],
      "execution_count": 0,
      "outputs": [
        {
          "output_type": "stream",
          "text": [
            "0.9048780487804878\n",
            "0.9048780487804878\n",
            "0.9048780487804878\n"
          ],
          "name": "stdout"
        }
      ]
    },
    {
      "cell_type": "code",
      "metadata": {
        "trusted": true,
        "id": "kBaOW2W3Zy1v",
        "colab_type": "code",
        "outputId": "346d37f7-99a1-4563-a659-3ab237adcda4",
        "colab": {}
      },
      "source": [
        "accuracy_score(res_ex,res_pred)"
      ],
      "execution_count": 0,
      "outputs": [
        {
          "output_type": "execute_result",
          "data": {
            "text/plain": [
              "0.9048780487804878"
            ]
          },
          "metadata": {
            "tags": []
          },
          "execution_count": 40
        }
      ]
    },
    {
      "cell_type": "code",
      "metadata": {
        "trusted": true,
        "id": "WxdXsxJ5Zy1y",
        "colab_type": "code",
        "outputId": "22a2c6d3-9148-4441-fcb0-266122b541b9",
        "colab": {}
      },
      "source": [
        "print(f1_score(res_ex,res_pred,average='macro'))\n",
        "print(precision_score(res_ex,res_pred,average='macro'))\n",
        "print(recall_score(res_ex,res_pred,average='macro'))"
      ],
      "execution_count": 0,
      "outputs": [
        {
          "output_type": "stream",
          "text": [
            "0.19025641025641027\n",
            "0.18411910669975187\n",
            "0.19681697612732096\n"
          ],
          "name": "stdout"
        }
      ]
    },
    {
      "cell_type": "code",
      "metadata": {
        "trusted": true,
        "id": "yCu81Ic2Zy10",
        "colab_type": "code",
        "colab": {}
      },
      "source": [
        "from imblearn.keras import BalancedBatchGenerator\n",
        "from sklearn.metrics import roc_auc_score\n",
        "\n",
        "def fit_predict_balanced_model(X_train, y_train, X_test, y_test):\n",
        "    model = classifier\n",
        "    training_generator = BalancedBatchGenerator(X_train, y_train)\n",
        "    model.fit_generator(generator=training_generator,epochs=100,verbose=1)\n",
        "    y_pred = model.predict_proba(X_test)\n",
        "    print(classification_report(y_test, y_pred))\n",
        "    return roc_auc_score(y_test, y_pred)\n",
        "res = fit_predict_balanced_model(X_train, y_train, X_test, y_test)"
      ],
      "execution_count": 0,
      "outputs": []
    },
    {
      "cell_type": "code",
      "metadata": {
        "trusted": true,
        "id": "olPs6zgJZy12",
        "colab_type": "code",
        "colab": {}
      },
      "source": [
        "classifier"
      ],
      "execution_count": 0,
      "outputs": []
    },
    {
      "cell_type": "code",
      "metadata": {
        "trusted": true,
        "id": "3OAt4Af-Zy15",
        "colab_type": "code",
        "colab": {}
      },
      "source": [
        "model"
      ],
      "execution_count": 0,
      "outputs": []
    },
    {
      "cell_type": "code",
      "metadata": {
        "colab_type": "code",
        "id": "7qAVm6BttvHG",
        "trusted": true,
        "colab": {}
      },
      "source": [
        "# Fitting our model \n",
        "import eli5\n",
        "from eli5.sklearn import PermutationImportance\n",
        "\n",
        "history=model.fit(X_train, y_train,validation_data=(X_test, y_test),nb_epoch = 100)\n",
        "#history=classifier.fit(X,y,validation_data=(X_test, y_test), batch_size = 10, nb_epoch = 100)\n",
        "#acc = []\n",
        "# Predicting the Test set results"
      ],
      "execution_count": 0,
      "outputs": []
    },
    {
      "cell_type": "code",
      "metadata": {
        "colab_type": "code",
        "id": "4iXz1qF3tvJY",
        "trusted": true,
        "colab": {}
      },
      "source": [
        "# F1 score\n",
        "f1_score(y_test,y_pred)"
      ],
      "execution_count": 0,
      "outputs": []
    }
  ]
}