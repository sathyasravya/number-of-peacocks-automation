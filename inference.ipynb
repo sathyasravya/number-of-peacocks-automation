{
  "nbformat": 4,
  "nbformat_minor": 0,
  "metadata": {
    "colab": {
      "name": "inference.ipynb",
      "provenance": [],
      "toc_visible": true,
      "include_colab_link": true
    },
    "kernelspec": {
      "name": "python3",
      "display_name": "Python 3"
    }
  },
  "cells": [
    {
      "cell_type": "markdown",
      "metadata": {
        "id": "view-in-github",
        "colab_type": "text"
      },
      "source": [
        "<a href=\"https://colab.research.google.com/github/sathyasravya/number-of-peacocks-automation/blob/master/inference.ipynb\" target=\"_parent\"><img src=\"https://colab.research.google.com/assets/colab-badge.svg\" alt=\"Open In Colab\"/></a>"
      ]
    },
    {
      "cell_type": "code",
      "metadata": {
        "colab_type": "code",
        "id": "g9_aGJP3tvF4",
        "trusted": true,
        "colab": {}
      },
      "source": [
        "import glob\n",
        "import os\n",
        "import librosa\n",
        "import numpy as np\n",
        "import seaborn as sns\n",
        "import wave\n",
        "import contextlib\n",
        "import pandas as pd\n",
        "\n",
        "from sklearn.metrics import accuracy_score,classification_report,f1_score\n",
        "import matplotlib.pyplot as plt\n",
        "from matplotlib.pyplot import specgram\n",
        "%matplotlib inline\n",
        "plt.style.use('ggplot')\n",
        "\n",
        "plt.rcParams['font.family'] = 'serif'\n",
        "plt.rcParams['font.serif'] = 'Ubuntu'\n",
        "plt.rcParams['font.monospace'] = 'Ubuntu Mono'\n",
        "plt.rcParams['font.size'] = 12\n",
        "plt.rcParams['axes.labelsize'] = 11\n",
        "plt.rcParams['axes.labelweight'] = 'bold'\n",
        "plt.rcParams['axes.titlesize'] = 14\n",
        "plt.rcParams['xtick.labelsize'] = 10\n",
        "plt.rcParams['ytick.labelsize'] = 10\n",
        "plt.rcParams['legend.fontsize'] = 11\n",
        "plt.rcParams['figure.titlesize'] = 13"
      ],
      "execution_count": 0,
      "outputs": []
    },
    {
      "cell_type": "code",
      "metadata": {
        "id": "l4bRI1pyaDS8",
        "colab_type": "code",
        "outputId": "0d724ec6-a0d6-4dd8-ed96-df7d3b355eed",
        "colab": {
          "base_uri": "https://localhost:8080/",
          "height": 54
        }
      },
      "source": [
        "from google.colab import drive\n",
        "drive.mount('/content/drive')"
      ],
      "execution_count": 2,
      "outputs": [
        {
          "output_type": "stream",
          "text": [
            "Drive already mounted at /content/drive; to attempt to forcibly remount, call drive.mount(\"/content/drive\", force_remount=True).\n"
          ],
          "name": "stdout"
        }
      ]
    },
    {
      "cell_type": "code",
      "metadata": {
        "trusted": true,
        "id": "4whjGG3mZyzq",
        "colab_type": "code",
        "outputId": "647e3865-ac9f-4ebc-aad3-8d244b9d4337",
        "colab": {
          "base_uri": "https://localhost:8080/",
          "height": 34
        }
      },
      "source": [
        "s = \"02 Eow_peacock_2.WAV\"\n",
        "s.split(\"_\")\n",
        "#print(fn.split('_')[-1]=='2.WAV')"
      ],
      "execution_count": 3,
      "outputs": [
        {
          "output_type": "execute_result",
          "data": {
            "text/plain": [
              "['02 Eow', 'peacock', '2.WAV']"
            ]
          },
          "metadata": {
            "tags": []
          },
          "execution_count": 3
        }
      ]
    },
    {
      "cell_type": "markdown",
      "metadata": {
        "colab_type": "text",
        "id": "ovHpIKfEtvGG"
      },
      "source": [
        "# Features plots - Code"
      ]
    },
    {
      "cell_type": "code",
      "metadata": {
        "colab_type": "code",
        "id": "CGCfJPgjtvGM",
        "trusted": true,
        "colab": {}
      },
      "source": [
        "def load_sound_files(file_paths):\n",
        "    raw_sounds = []\n",
        "    for fp in file_paths:\n",
        "        X,sr = librosa.load(fp)\n",
        "        raw_sounds.append(X)\n",
        "    return raw_sounds\n",
        "\n",
        "def plot_waves(sound_names,raw_sounds):\n",
        "    i = 1\n",
        "    fig = plt.figure(figsize=(25,60), dpi = 900)\n",
        "    for n,f in zip(sound_names,raw_sounds):\n",
        "        plt.subplot(10,1,i)\n",
        "        librosa.display.waveplot(np.array(f),sr=22050)\n",
        "        plt.title(n.title())\n",
        "        i += 1\n",
        "    plt.suptitle('Figure 1: Waveplot',x=0.5, y=0.915,fontsize=18)\n",
        "    plt.show()\n",
        "    \n",
        "def plot_specgram(sound_names,raw_sounds):\n",
        "    i = 1\n",
        "    fig = plt.figure(figsize=(25,60), dpi = 900)\n",
        "    for n,f in zip(sound_names,raw_sounds):\n",
        "        plt.subplot(10,1,i)\n",
        "        specgram(np.array(f), Fs=22050)\n",
        "        plt.title(n.title())\n",
        "        i += 1\n",
        "    plt.suptitle('Figure 2: Spectrogram',x=0.5, y=0.915,fontsize=18)\n",
        "    plt.show()\n",
        "\n",
        "def plot_log_power_specgram(sound_names,raw_sounds):\n",
        "    i = 1\n",
        "    fig = plt.figure(figsize=(25,60), dpi = 900)\n",
        "    for n,f in zip(sound_names,raw_sounds):\n",
        "        plt.subplot(10,1,i)\n",
        "        D = librosa.logamplitude(np.abs(librosa.stft(f))**2, ref_power=np.max)\n",
        "        librosa.display.specshow(D,x_axis='time' ,y_axis='log')\n",
        "        plt.title(n.title())\n",
        "        i += 1\n",
        "    plt.suptitle('Figure 3: Log power spectrogram',x=0.5, y=0.915,fontsize=18)\n",
        "    plt.show()"
      ],
      "execution_count": 0,
      "outputs": []
    },
    {
      "cell_type": "markdown",
      "metadata": {
        "colab_type": "text",
        "id": "ndXOjzE0tvGT"
      },
      "source": [
        "# Extracting features"
      ]
    },
    {
      "cell_type": "code",
      "metadata": {
        "colab_type": "code",
        "id": "CRakr1AetvGW",
        "trusted": true,
        "colab": {}
      },
      "source": [
        "def extract_feature(file_name):\n",
        "    X, sample_rate = librosa.load(file_name)\n",
        "    stft = np.abs(librosa.stft(X))\n",
        "    mfccs = np.mean(librosa.feature.mfcc(y=X, sr=sample_rate, n_mfcc=40).T,axis=0)\n",
        "    chroma = np.mean(librosa.feature.chroma_stft(S=stft, sr=sample_rate).T,axis=0)\n",
        "    mel = np.mean(librosa.feature.melspectrogram(X, sr=sample_rate).T,axis=0)\n",
        "    contrast = np.mean(librosa.feature.spectral_contrast(S=stft, sr=sample_rate).T,axis=0)\n",
        "    tonnetz = np.mean(librosa.feature.tonnetz(y=librosa.effects.harmonic(X), sr=sample_rate).T,axis=0)\n",
        "    #print(chroma.shape)\n",
        "    #print(\"chroma\")\n",
        "    #print(mfccs.shape)\n",
        "    #print(\"mfccs\")\n",
        "    #print(mel.shape)\n",
        "    #print(\"mels\")\n",
        "    #print(contrast.shape)\n",
        "    #print(\"contrast\")\n",
        "    #print(tonnetz.shape)\n",
        "    #print(\"tonnetz\")    \n",
        "    return mfccs,chroma,mel,contrast,tonnetz\n",
        "\n",
        "def parse_audio_files(parent_dir,sub_dirs,file_ext='*.wav'):\n",
        "    d=0\n",
        "    duration1 = []\n",
        "    duration2 = []\n",
        "    for label, sub_dir in enumerate(sub_dirs):\n",
        "        for fn in glob.glob(os.path.join(parent_dir,sub_dir,file_ext)):\n",
        "            with contextlib.closing(wave.open(fn,'r')) as f:\n",
        "                frames = f.getnframes()\n",
        "                rate = f.getframerate()\n",
        "                duration = frames / float(rate)\n",
        "                #print(pd.Series(fn.split('_')).unique())\n",
        "                #print(d,duration)\n",
        "                d=d+1\n",
        "                #print(\" \")\n",
        "                #dn=0\n",
        "                if(sub_dir!='noise_set'):\n",
        "                    #if(duration<0):\n",
        "                    #    dn =dn+1\n",
        "                    duration1.append(duration)  \n",
        "                else:\n",
        "                    duration2.append(duration)\n",
        "            \n",
        "    return duration1,duration2"
      ],
      "execution_count": 0,
      "outputs": []
    },
    {
      "cell_type": "code",
      "metadata": {
        "trusted": true,
        "id": "Qtu4lVc0Zyz4",
        "colab_type": "code",
        "colab": {}
      },
      "source": [
        "def parse_audio_files2(parent_dir,sub_dirs):\n",
        "    features = np.empty((0,193))\n",
        "    finlabel = np.empty((0,3))\n",
        "    labells=[]\n",
        "    labells1=np.empty(0) \n",
        "    labells2=np.empty(0) \n",
        "    d=0\n",
        "    fns = []\n",
        "    labels=[]\n",
        "    label1s=[]\n",
        "    label2s=[]\n",
        "    for label, sub_dir in enumerate(sub_dirs):\n",
        "        print(sub_dir)\n",
        "        if(sub_dir =='iid' or sub_dir=='Kaan' or sub_dir =='extra_mp3'):\n",
        "          file_ext='*.WAV'\n",
        "        else:\n",
        "          file_ext='*.wav'        \n",
        "       # print(glob.glob(os.path.join(parent_dir,sub_dir,file_ext)))\n",
        "        for fn in glob.glob(os.path.join(parent_dir,sub_dir,file_ext)):\n",
        "            #print(\"heyyy0\")\n",
        "            mfccs, chroma, mel, contrast,tonnetz = extract_feature(fn)\n",
        "            ext_features = np.hstack([mfccs,chroma,mel,contrast,tonnetz])\n",
        "          #  print(\"ext_features\")\n",
        "          #  print(ext_features.shape)\n",
        "            features = np.vstack([features,ext_features])\n",
        "          #  print(\"features\")\n",
        "          #  print(features.shape)\n",
        "           # if(sub_dir != 'extra_mp3'):\n",
        "            if(sub_dir!='noise_set'):\n",
        "              #print(\"heyyy2\")\n",
        "              label =\"1\"\n",
        "              d = d+1\n",
        "              if (len(fn.split('_'))>=6):\n",
        "                label1 = \"1\"\n",
        "              else:\n",
        "                label1=\"0\"\n",
        "                label=\"1\"\n",
        "             #   print(\"heyyy3\")\n",
        "              if(sub_dir=='TRIM_old' or sub_dir=='extra_mp3'):\n",
        "                #print(\"heyyy1\")\n",
        "                if(fn.split('_')[-1]=='2.wav'or fn.split('_')[-1]=='2.WAV'):\n",
        "                  label2=\"2\"\n",
        "                if(fn.split('_')[-1]=='3.wav'or fn.split('_')[-1]=='3.WAV'):\n",
        "                  label2=\"3\"   \n",
        "                if(fn.split('_')[-1]=='1.wav'or fn.split('_')[-1]=='1.WAV'):\n",
        "                  label2=\"1\"\n",
        "                if(fn.split('_')[-1]=='MI.wav'or fn.split('_')[-1]=='MI.WAV'):\n",
        "                  label2=\"4\"\n",
        "                if(fn.split('_')[3]=='Multiplepeacock'):\n",
        "                  label2 = \"4\"\n",
        "                else:\n",
        "                  label2 =\"1\"\n",
        "              else:\n",
        "                if(fn.split('_')[-1]=='1.wav' or fn.split('_')[-1]=='1.WAV'):\n",
        "                  label2=\"1\"\n",
        "                elif(fn.split('_')[-1]=='2.wav' or fn.split('_')[-1]=='2.WAV'):\n",
        "                  label2 =\"2\" \n",
        "                elif(fn.split('_')[-1]=='3.wav' or fn.split('_')[-1]=='3.WAV'):\n",
        "                  label2 =\"3\"\n",
        "                elif(fn.split('_')[-1]=='MI.wav' or fn.split('_')[-1]=='3or4.wav' or fn.split('_')[-1]=='3or4.WAV' or fn.split('_')[-1]=='MI.WAV'):\n",
        "                  label2 =\"4\"                        \n",
        "                else:\n",
        "                  label2 =\"0\"\n",
        "                            \n",
        "            else:\n",
        "              label =\"0\"\n",
        "              label1=\"1\"\n",
        "              label2 =\"0\"\n",
        "           # print(\"heyyy\")\n",
        "            #print(label,label1,label2)\n",
        "            fns.append(fn.split('_')[1:])\n",
        "            use = np.hstack([label,label1,label2])\n",
        "            finlabel = np.vstack([finlabel,use])\n",
        "            labels.append(label)\n",
        "            label1s.append(label1)\n",
        "            label2s.append(label2)\n",
        "    return(fns, np.array(features), np.array(finlabel),np.array(labels), np.array(label1s), np.array(label2s))"
      ],
      "execution_count": 0,
      "outputs": []
    },
    {
      "cell_type": "code",
      "metadata": {
        "id": "pTr3XqhIsSec",
        "colab_type": "code",
        "colab": {}
      },
      "source": [
        "def recall_m(y_true, y_pred):\n",
        "        true_positives = K.sum(K.round(K.clip(y_true * y_pred, 0, 1)))\n",
        "        possible_positives = K.sum(K.round(K.clip(y_true, 0, 1)))\n",
        "        recall = true_positives / (possible_positives + K.epsilon())\n",
        "        return recall\n",
        "\n",
        "def precision_m(y_true, y_pred):\n",
        "        true_positives = K.sum(K.round(K.clip(y_true * y_pred, 0, 1)))\n",
        "        predicted_positives = K.sum(K.round(K.clip(y_pred, 0, 1)))\n",
        "        precision = true_positives / (predicted_positives + K.epsilon())\n",
        "        return precision\n",
        "\n",
        "def f1_m(y_true, y_pred):\n",
        "    precision = precision_m(y_true, y_pred)\n",
        "    recall = recall_m(y_true, y_pred)\n",
        "    return 2*((precision*recall)/(precision+recall+K.epsilon()))"
      ],
      "execution_count": 0,
      "outputs": []
    },
    {
      "cell_type": "markdown",
      "metadata": {
        "id": "3ewBs9DWZyz7",
        "colab_type": "text"
      },
      "source": [
        "> #  Feed Train & Test Data "
      ]
    },
    {
      "cell_type": "code",
      "metadata": {
        "colab_type": "code",
        "id": "yi23reLvtvGh",
        "trusted": true,
        "_kg_hide-output": true,
        "colab": {}
      },
      "source": [
        "parent_dir = '/content/drive/My Drive/Colab Notebooks/data' #/content/drive/My Drive/Colab Notebooks/data\n",
        "#sub_dirs = ['iid','Kaan','C_new2','TRIM_old','A_new1','trimmed_new3','noise_set','Chincholi'] #train dirs\n",
        "sub_dirs = ['extra_mp3']\n",
        "duration1,duration2= parse_audio_files(parent_dir,sub_dirs)"
      ],
      "execution_count": 0,
      "outputs": []
    },
    {
      "cell_type": "code",
      "metadata": {
        "id": "-_-BcYJRrR5B",
        "colab_type": "code",
        "colab": {
          "base_uri": "https://localhost:8080/",
          "height": 34
        },
        "outputId": "ed58a316-fbae-489a-ba78-e1b2af45f437"
      },
      "source": [
        "fn , features, fl, l,l1,l2 = parse_audio_files2(parent_dir, sub_dirs)"
      ],
      "execution_count": 9,
      "outputs": [
        {
          "output_type": "stream",
          "text": [
            "extra_mp3\n"
          ],
          "name": "stdout"
        }
      ]
    },
    {
      "cell_type": "code",
      "metadata": {
        "id": "oMyVGxi3rjWX",
        "colab_type": "code",
        "colab": {}
      },
      "source": [
        "import pickle\n",
        "filename = '/content/drive/My Drive/Colab Notebooks/weighted_model.pkl'\n",
        "infile = open(filename,'rb')\n",
        "model_w = pickle.load(infile)\n",
        "infile.close()\n",
        "filename = '/content/drive/My Drive/Colab Notebooks/plain_model.pkl'\n",
        "infile = open(filename,'rb')\n",
        "model_p = pickle.load(infile)\n",
        "infile.close()"
      ],
      "execution_count": 0,
      "outputs": []
    },
    {
      "cell_type": "code",
      "metadata": {
        "id": "wR5punCBxWcf",
        "colab_type": "code",
        "colab": {}
      },
      "source": [
        "#yy1,yy2,yy3 = model.predict(X_test)\n",
        "def normalise_op(yy1,yy2,yy3):\n",
        "  shape = yy3.shape\n",
        "  for i in range(0, shape[0]):\n",
        "    for j in range(0, shape[1]):\n",
        "      if yy3[i, j] >= 0.5:\n",
        "        yy3[i, j] = 1\n",
        "      else:\n",
        "        yy3[i, j] = 0\n",
        "  for i in range(0, shape[0]):\n",
        "    if yy2[i, 0] >= 0.5:\n",
        "      yy2[i, 0] = 1\n",
        "    else:\n",
        "      yy2[i, 0] = 0\n",
        "  for i in range(0, shape[0]):\n",
        "    if yy1[i, 0] >= 0.5:\n",
        "      yy1[i, 0] = 1\n",
        "    else:\n",
        "      yy1[i, 0] = 0  \n",
        "  return yy1,yy2,yy3\n",
        "#yy1,yy2,yy3 = normalise_op(yy1,yy2,yy3)"
      ],
      "execution_count": 0,
      "outputs": []
    },
    {
      "cell_type": "code",
      "metadata": {
        "id": "vq-GM3TVsN2i",
        "colab_type": "code",
        "colab": {}
      },
      "source": [
        "r1,r2,r3 = model_w.predict(features)"
      ],
      "execution_count": 0,
      "outputs": []
    },
    {
      "cell_type": "code",
      "metadata": {
        "id": "UtlOLYWCxbra",
        "colab_type": "code",
        "colab": {}
      },
      "source": [
        "r1,r2,r3 = normalise_op(r1,r2,r3)"
      ],
      "execution_count": 0,
      "outputs": []
    },
    {
      "cell_type": "code",
      "metadata": {
        "id": "-j7cwMS-yBSW",
        "colab_type": "code",
        "colab": {
          "base_uri": "https://localhost:8080/",
          "height": 204
        },
        "outputId": "d72ade61-14ff-4b89-e9ca-4887a2877400"
      },
      "source": [
        "print(l[0:10])\n",
        "print(r1[0:10])"
      ],
      "execution_count": 29,
      "outputs": [
        {
          "output_type": "stream",
          "text": [
            "['1' '1' '1' '1' '1' '1' '1' '1' '1' '1']\n",
            "[[1.]\n",
            " [0.]\n",
            " [0.]\n",
            " [0.]\n",
            " [0.]\n",
            " [0.]\n",
            " [0.]\n",
            " [0.]\n",
            " [0.]\n",
            " [1.]]\n"
          ],
          "name": "stdout"
        }
      ]
    },
    {
      "cell_type": "code",
      "metadata": {
        "id": "7SVorAzLxMFb",
        "colab_type": "code",
        "colab": {
          "base_uri": "https://localhost:8080/",
          "height": 224
        },
        "outputId": "cd65477a-e980-4f91-93ff-f363b0b132d0"
      },
      "source": [
        "print(classification_report(np.array(l,dtype=int),r1))"
      ],
      "execution_count": 25,
      "outputs": [
        {
          "output_type": "stream",
          "text": [
            "              precision    recall  f1-score   support\n",
            "\n",
            "         0.0       0.00      0.00      0.00         0\n",
            "         1.0       1.00      0.33      0.50        30\n",
            "\n",
            "    accuracy                           0.33        30\n",
            "   macro avg       0.50      0.17      0.25        30\n",
            "weighted avg       1.00      0.33      0.50        30\n",
            "\n"
          ],
          "name": "stdout"
        },
        {
          "output_type": "stream",
          "text": [
            "/usr/local/lib/python3.6/dist-packages/sklearn/metrics/classification.py:1439: UndefinedMetricWarning: Recall and F-score are ill-defined and being set to 0.0 in labels with no true samples.\n",
            "  'recall', 'true', average, warn_for)\n"
          ],
          "name": "stderr"
        }
      ]
    },
    {
      "cell_type": "code",
      "metadata": {
        "id": "CzLNZUfnxQsB",
        "colab_type": "code",
        "colab": {
          "base_uri": "https://localhost:8080/",
          "height": 258
        },
        "outputId": "1f4c6fb3-55d8-4f76-ee14-cf0220628161"
      },
      "source": [
        "print(classification_report(np.array(l1,dtype=int),r2))"
      ],
      "execution_count": 26,
      "outputs": [
        {
          "output_type": "stream",
          "text": [
            "              precision    recall  f1-score   support\n",
            "\n",
            "         0.0       0.00      0.00      0.00      30.0\n",
            "         1.0       0.00      0.00      0.00       0.0\n",
            "\n",
            "    accuracy                           0.00      30.0\n",
            "   macro avg       0.00      0.00      0.00      30.0\n",
            "weighted avg       0.00      0.00      0.00      30.0\n",
            "\n"
          ],
          "name": "stdout"
        },
        {
          "output_type": "stream",
          "text": [
            "/usr/local/lib/python3.6/dist-packages/sklearn/metrics/classification.py:1437: UndefinedMetricWarning: Precision and F-score are ill-defined and being set to 0.0 in labels with no predicted samples.\n",
            "  'precision', 'predicted', average, warn_for)\n",
            "/usr/local/lib/python3.6/dist-packages/sklearn/metrics/classification.py:1439: UndefinedMetricWarning: Recall and F-score are ill-defined and being set to 0.0 in labels with no true samples.\n",
            "  'recall', 'true', average, warn_for)\n"
          ],
          "name": "stderr"
        }
      ]
    },
    {
      "cell_type": "code",
      "metadata": {
        "id": "Fbry6g6Vx6n7",
        "colab_type": "code",
        "colab": {}
      },
      "source": [
        ""
      ],
      "execution_count": 0,
      "outputs": []
    }
  ]
}